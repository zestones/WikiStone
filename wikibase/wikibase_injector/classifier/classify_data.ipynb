{
 "cells": [
  {
   "attachments": {},
   "cell_type": "markdown",
   "metadata": {},
   "source": [
    "## Data Preparation"
   ]
  },
  {
   "cell_type": "code",
   "execution_count": 103,
   "metadata": {},
   "outputs": [],
   "source": [
    "from nltk.stem import WordNetLemmatizer, PorterStemmer\n",
    "from nltk.corpus import stopwords\n",
    "import unidecode\n",
    "import nltk\n",
    "import re\n",
    "\n",
    "# Initialisation des outils de prétraitement\n",
    "stop_words = set(stopwords.words('french'))\n",
    "lemmatizer = WordNetLemmatizer()\n",
    "stemmer = PorterStemmer()\n",
    "\n",
    "# Global and constant\n",
    "DEFAULT_CV = 10\n",
    "\n",
    "# Fonction de prétraitement des données\n",
    "def preprocess(text):\n",
    "    text = unidecode.unidecode(text) # Suppression des accents\n",
    "    text = re.sub(r'[^\\w\\s]', '', text) # Suppression des caractères spéciaux\n",
    "    text = text.lower() # Conversion en minuscules\n",
    "\n",
    "    tokens = nltk.word_tokenize(text) # Tokenisation\n",
    "    lemmatized_tokens = [lemmatizer.lemmatize(token) for token in tokens] # Lemmatisation\n",
    "    stemmed_tokens = [stemmer.stem(token) for token in lemmatized_tokens] # Stemming\n",
    "    cleaned_tokens = [token for token in stemmed_tokens if token not in stop_words] # Suppression des mots vides\n",
    "    \n",
    "    text = ' '.join(cleaned_tokens) # Réassemblage du texte pré-traité\n",
    "    return text"
   ]
  },
  {
   "cell_type": "code",
   "execution_count": 104,
   "metadata": {},
   "outputs": [],
   "source": [
    "import numpy as np\n",
    "import json\n",
    "\n",
    "def prepare_data(file_path=\"donnees_clusterisees.json\", ignore_labels=[]):\n",
    "    # Chargement des données à partir du fichier JSON\n",
    "    with open(file_path, 'r') as f:\n",
    "        data = json.load(f)\n",
    "        \n",
    "    # On evite d'importer les données mal etiquete\n",
    "    data = [d for d in data if d['label'] not in ignore_labels]\n",
    "    labels = [d['label'] for d in data if d['label'] not in ignore_labels]\n",
    "\n",
    "    # Extraction de la colonne \"name\" et \"description\"\n",
    "    names = [d['name'] for d in data]\n",
    "    cleaned_names = [preprocess(name) for name in names]\n",
    "\n",
    "    return cleaned_names, labels"
   ]
  },
  {
   "attachments": {},
   "cell_type": "markdown",
   "metadata": {},
   "source": [
    "## Learning"
   ]
  },
  {
   "attachments": {},
   "cell_type": "markdown",
   "metadata": {},
   "source": [
    "### Train different models\n",
    "---"
   ]
  },
  {
   "attachments": {},
   "cell_type": "markdown",
   "metadata": {},
   "source": [
    "We define a function to compute the CI at 95% for each of the methods, for each best hyperparameter."
   ]
  },
  {
   "cell_type": "code",
   "execution_count": 105,
   "metadata": {},
   "outputs": [],
   "source": [
    "# Calculate 95% confidence interval\n",
    "def compute_ci_95(cv_scores):\n",
    "    std_error = np.std(cv_scores) / np.sqrt(DEFAULT_CV)\n",
    "    best_score = max(cv_scores)\n",
    "\n",
    "    # Calculate the 95% confidence interval of the cross-validation scores\n",
    "    lower_bound = best_score - 1.96 * std_error\n",
    "    upper_bound = best_score + 1.96 * std_error\n",
    "    \n",
    "    return lower_bound, upper_bound"
   ]
  },
  {
   "attachments": {},
   "cell_type": "markdown",
   "metadata": {},
   "source": [
    "#### K-nearest neighbors"
   ]
  },
  {
   "cell_type": "code",
   "execution_count": 106,
   "metadata": {},
   "outputs": [],
   "source": [
    "from sklearn.neighbors import KNeighborsClassifier\n",
    "from sklearn.model_selection import cross_val_score\n",
    "\n",
    "def get_best_hyperparam_KNNClassifier(neighbors_range, X_train, Y_train):\n",
    "    # Store the scores\n",
    "    cv_scores = []\n",
    "    \n",
    "    # Loop over the hyperparameter values\n",
    "    for k in neighbors_range:\n",
    "        knn = KNeighborsClassifier(n_neighbors=k)\n",
    "        scores = cross_val_score(knn, X_train, Y_train, cv=DEFAULT_CV)\n",
    "        cv_scores.append(scores.mean())\n",
    "\n",
    "    lower_bound, upper_bound = compute_ci_95(cv_scores)\n",
    "    best_score = max(cv_scores)\n",
    "    \n",
    "    # Find the best hyperparameter with the highest score\n",
    "    best_k = neighbors_range[cv_scores.index(max(cv_scores))]\n",
    "    return best_k, best_score, lower_bound, upper_bound"
   ]
  },
  {
   "attachments": {},
   "cell_type": "markdown",
   "metadata": {},
   "source": [
    "#### Decision trees (max_depth)"
   ]
  },
  {
   "cell_type": "code",
   "execution_count": 107,
   "metadata": {},
   "outputs": [],
   "source": [
    "from sklearn.tree import DecisionTreeClassifier\n",
    "\n",
    "def get_best_hyperparam_TreeClassifier(depth_range, X_train, Y_train):\n",
    "    # Store the scores\n",
    "    cv_scores = []\n",
    "\n",
    "    # Loop over the hyperparameter values\n",
    "    for depth in depth_range:\n",
    "        dt = DecisionTreeClassifier(max_depth=depth, random_state=42)\n",
    "        scores = cross_val_score(dt, X_train, Y_train, cv=DEFAULT_CV)\n",
    "        cv_scores.append(np.mean(scores))\n",
    "\n",
    "    lower_bound, upper_bound = compute_ci_95(cv_scores)\n",
    "    best_score = max(cv_scores)\n",
    "    \n",
    "    # Find the best hyperparameter with the highest score\n",
    "    best_depth = depth_range[np.argmax(cv_scores)]\n",
    "    return best_depth, best_score, lower_bound, upper_bound "
   ]
  },
  {
   "attachments": {},
   "cell_type": "markdown",
   "metadata": {},
   "source": [
    "#### SVC Gaussian"
   ]
  },
  {
   "cell_type": "code",
   "execution_count": 108,
   "metadata": {},
   "outputs": [],
   "source": [
    "from sklearn.svm import SVC\n",
    "\n",
    "def get_best_hyperparam_SVCGaussian(gammas, X_train, Y_train):\n",
    "    # Store the scores\n",
    "    cv_scores = []\n",
    "\n",
    "    # Find the best hyperparameter with the highest score\n",
    "    for gamma in gammas:\n",
    "        svm = SVC(kernel='rbf', gamma=gamma)\n",
    "        scores = cross_val_score(svm, X_train, Y_train, cv=DEFAULT_CV)\n",
    "        cv_scores.append(scores.mean())\n",
    "    \n",
    "    lower_bound, upper_bound = compute_ci_95(cv_scores)\n",
    "    best_score = max(cv_scores)\n",
    "    \n",
    "    # Find the best hyperparameter with the highest score\n",
    "    best_gamma = gammas[cv_scores.index(max(cv_scores))]\n",
    "    return best_gamma, best_score, lower_bound, upper_bound"
   ]
  },
  {
   "attachments": {},
   "cell_type": "markdown",
   "metadata": {},
   "source": [
    "#### MultinomialNB"
   ]
  },
  {
   "cell_type": "code",
   "execution_count": 109,
   "metadata": {},
   "outputs": [],
   "source": [
    "from sklearn.naive_bayes import MultinomialNB\n",
    "\n",
    "def get_best_hyperparam_MultinomialNB(alphas, X_train, Y_train):\n",
    "    # Create an empty list to store the cross-validation scores for each hyperparameter value\n",
    "    cv_scores = []\n",
    "    \n",
    "    # Loop over the hyperparameter values and compute the cross-validation score for each\n",
    "    for alpha in alphas:\n",
    "        mnb = MultinomialNB(alpha=alpha)\n",
    "        scores = cross_val_score(mnb, X_train, Y_train, cv=DEFAULT_CV)\n",
    "        cv_scores.append(scores.mean())\n",
    "\n",
    "    lower_bound, upper_bound = compute_ci_95(cv_scores)\n",
    "    best_score = max(cv_scores)\n",
    "    \n",
    "    # Find the best hyperparameter value with the highest cross-validation score\n",
    "    best_alpha = alphas[cv_scores.index(max(cv_scores))]\n",
    "    return best_alpha, best_score, lower_bound, upper_bound"
   ]
  },
  {
   "attachments": {},
   "cell_type": "markdown",
   "metadata": {},
   "source": [
    "#### SVC Polynomial"
   ]
  },
  {
   "cell_type": "code",
   "execution_count": 110,
   "metadata": {},
   "outputs": [],
   "source": [
    "from sklearn.svm import SVC\n",
    "\n",
    "def get_best_hyperparam_SVCPolynomial(degrees, X_train, Y_train):\n",
    "    # Store the scores\n",
    "    cv_scores = []\n",
    "\n",
    "    # Find the best hyperparameter with the highest score\n",
    "    for degree in degrees:\n",
    "        svm = SVC(kernel='poly', degree=degree)\n",
    "        scores = cross_val_score(svm, X_train, Y_train, cv=DEFAULT_CV)\n",
    "        cv_scores.append(scores.mean())\n",
    "\n",
    "    lower_bound, upper_bound = compute_ci_95(cv_scores)\n",
    "    best_score = max(cv_scores)\n",
    "    \n",
    "    # Find the best hyperparameter with the highest score\n",
    "    best_degree = degrees[cv_scores.index(max(cv_scores))]  \n",
    "    return best_degree, best_score, lower_bound, upper_bound"
   ]
  },
  {
   "attachments": {},
   "cell_type": "markdown",
   "metadata": {},
   "source": [
    "---\n",
    "### Results analysis\n",
    "We will display on a curve the scores of each of the algorithms with the best possible hyperparameter value on the test sample."
   ]
  },
  {
   "attachments": {},
   "cell_type": "markdown",
   "metadata": {},
   "source": [
    "---\n",
    "Let's first define a generic function to plot the scores of each algorithms with the best hyperparameter"
   ]
  },
  {
   "cell_type": "code",
   "execution_count": 111,
   "metadata": {},
   "outputs": [],
   "source": [
    "import matplotlib.pyplot as plt\n",
    "\n",
    "def show_results_plot(results, title):\n",
    "    # Get the data\n",
    "    classifiers = [r['Classifier'] for r in results]\n",
    "    best_scores = [r['Best Score'] for r in results]\n",
    "    accuracies = [r['Accuracy'] for r in results]\n",
    "    f1_scores = [r['F1 Score'] for r in results]\n",
    "    precisions = [r['Precision'] for r in results]\n",
    "\n",
    "    # Set the width of the bars\n",
    "    bar_width = 0.2\n",
    "\n",
    "    # Set the positions of the bars on the x-axis\n",
    "    r1 = np.arange(len(classifiers))\n",
    "    r2 = [x + bar_width for x in r1]\n",
    "    r3 = [x + bar_width for x in r2]\n",
    "    r4 = [x + bar_width for x in r3]\n",
    "\n",
    "    # Set the colors and edgecolors of the bars\n",
    "    best_score_color = \"#1f77b4\"\n",
    "    accuracy_color = '#ff7f0e'\n",
    "    f1_score_color = '#2ca02c'\n",
    "    precision_color = '#d62728'\n",
    "\n",
    "    edgecolors = 'black'\n",
    "\n",
    "    # Plot the bar charts\n",
    "    plt.bar(r1, best_scores, color=best_score_color, edgecolor=edgecolors, width=bar_width, label='Best Score')\n",
    "    plt.bar(r2, accuracies, color=accuracy_color, edgecolor=edgecolors, width=bar_width, label='Accuracy')\n",
    "    plt.bar(r3, f1_scores, color=f1_score_color, edgecolor=edgecolors, width=bar_width, label='F1 Score')\n",
    "    plt.bar(r4, precisions, color=precision_color, edgecolor=edgecolors, width=bar_width, label='Precision')\n",
    "\n",
    "    # Add xticks on the middle of the group bars\n",
    "    plt.xlabel('Classifier', fontweight='bold')\n",
    "    plt.xticks([r + bar_width*1.5 for r in range(len(classifiers))], classifiers, rotation=45, ha='right')\n",
    "    plt.ylabel('Score', fontweight='bold')\n",
    "\n",
    "    # Add a title\n",
    "    plt.title(title, fontweight='bold')\n",
    "    plt.legend()\n",
    "\n",
    "    # Set the figure size\n",
    "    plt.gcf().set_size_inches(15, 8)\n",
    "\n",
    "    # Set the y-axis range\n",
    "    plt.ylim(0, 1)\n",
    "    plt.yticks(np.arange(0, 1.1, 0.1))\n",
    "\n",
    "    # Show the plot\n",
    "    plt.show()"
   ]
  },
  {
   "attachments": {},
   "cell_type": "markdown",
   "metadata": {},
   "source": [
    "We also define a function to evaluate the classification models"
   ]
  },
  {
   "cell_type": "code",
   "execution_count": 112,
   "metadata": {},
   "outputs": [],
   "source": [
    "from sklearn.metrics import accuracy_score, precision_score, recall_score, f1_score\n",
    "\n",
    "def evaluate_classification_model(model, X_test, Y_test):\n",
    "    # Predict on test data\n",
    "    Y_pred = model.predict(X_test)\n",
    "    \n",
    "    # Calculate evaluation metrics on test data\n",
    "    accuracy = accuracy_score(Y_test, Y_pred)\n",
    "    precision = precision_score(Y_test, Y_pred, average='weighted')\n",
    "    recall = recall_score(Y_test, Y_pred, average='weighted')\n",
    "    f1 = f1_score(Y_test, Y_pred, average='weighted')\n",
    "\n",
    "    # Return evaluation metrics and confidence interval\n",
    "    return accuracy, precision, recall, f1, Y_pred"
   ]
  },
  {
   "cell_type": "code",
   "execution_count": 113,
   "metadata": {},
   "outputs": [],
   "source": [
    "# Lets define some constant to make the code more readable\n",
    "CLASSIFIER = \"Classifier\"\n",
    "HYPERPARAMETER = \"Hyperparameter\"\n",
    "BEST_HYPERPARAMETER = \"Best Hyperparameter\"\n",
    "BEST_SCORE = \"Best Score\"\n",
    "LOWER_BOUND = \"Lower Bound\"\n",
    "UPPER_BOUND = \"Upper Bound\"\n",
    "F1_SCORE = \"F1 Score\"\n",
    "RECALL = \"Recall\"\n",
    "ACCURACY = \"Accuracy\"\n",
    "PRECISION = \"Precision\" \n",
    "PREDICTION = \"Prediction\""
   ]
  },
  {
   "attachments": {},
   "cell_type": "markdown",
   "metadata": {},
   "source": [
    "We define the function to predict the class of the monuments with different classifiers"
   ]
  },
  {
   "cell_type": "code",
   "execution_count": 114,
   "metadata": {},
   "outputs": [],
   "source": [
    "def predict_with_KNN(X_train, X_test, Y_train, Y_test):\n",
    "    neighbors_range = range(1, 20)\n",
    "    best_k, best_score, lower_bound, upper_bound = get_best_hyperparam_KNNClassifier(neighbors_range, X_train, Y_train)\n",
    "\n",
    "    # Train KNN classifier\n",
    "    knn = KNeighborsClassifier(n_neighbors=best_k)\n",
    "    knn.fit(X_train, Y_train)\n",
    "\n",
    "    # evaluate the model\n",
    "    accuracy, precision, recall, f1, Y_pred = evaluate_classification_model(knn, X_test, Y_test)\n",
    "    return {\n",
    "        CLASSIFIER: 'K-nearest neighbors',\n",
    "        HYPERPARAMETER: 'Number of neighbors',\n",
    "        BEST_HYPERPARAMETER: best_k,\n",
    "        BEST_SCORE: best_score,\n",
    "        LOWER_BOUND: lower_bound,\n",
    "        UPPER_BOUND: upper_bound,\n",
    "        F1_SCORE: f1,\n",
    "        ACCURACY: accuracy,\n",
    "        PRECISION: precision,\n",
    "        RECALL: recall,\n",
    "        PREDICTION: Y_pred\n",
    "    }\n",
    "\n",
    "def predict_with_DECISIONTREE(X_train, X_test, Y_train, Y_test):\n",
    "    depth_range = range(1, 21)\n",
    "    best_depth, best_score, lower_bound, upper_bound = get_best_hyperparam_TreeClassifier(depth_range, X_train, Y_train)\n",
    "\n",
    "    # Train classifier\n",
    "    dect = DecisionTreeClassifier(max_depth=best_depth)\n",
    "    dect.fit(X_train, Y_train)\n",
    "\n",
    "    # evaluate the model\n",
    "    accuracy, precision, recall, f1, Y_pred = evaluate_classification_model(dect, X_test, Y_test)\n",
    "    return {\n",
    "        CLASSIFIER: 'Decision tree',\n",
    "        HYPERPARAMETER: 'Maximum tree depth',\n",
    "        BEST_HYPERPARAMETER: best_depth,\n",
    "        BEST_SCORE: best_score,\n",
    "        LOWER_BOUND: lower_bound,\n",
    "        UPPER_BOUND: upper_bound,    \n",
    "        F1_SCORE: f1,\n",
    "        ACCURACY: accuracy,\n",
    "        PRECISION: precision,\n",
    "        RECALL: recall,\n",
    "        PREDICTION: Y_pred\n",
    "    }\n",
    "\n",
    "def predict_with_MultinomialNB(X_train, X_test, Y_train, Y_test):\n",
    "    # Define the range of values for the hyperparameter to tune\n",
    "    alphas = range(1, 25)\n",
    "    best_alpha, best_score, lower_bound, upper_bound = get_best_hyperparam_MultinomialNB(alphas, X_train, Y_train)\n",
    "\n",
    "    # Train classifier\n",
    "    perc = MultinomialNB(alpha=best_alpha)\n",
    "    perc.fit(X_train, Y_train)\n",
    "\n",
    "    # evaluate the model\n",
    "    accuracy, precision, recall, f1, Y_pred = evaluate_classification_model(perc, X_test, Y_test)\n",
    "    return {\n",
    "        CLASSIFIER: 'Multinomial NB',\n",
    "        HYPERPARAMETER: 'Alpha',\n",
    "        BEST_HYPERPARAMETER: best_alpha,\n",
    "        BEST_SCORE: best_score,\n",
    "        LOWER_BOUND: lower_bound,\n",
    "        UPPER_BOUND: upper_bound,\n",
    "        F1_SCORE: f1,\n",
    "        ACCURACY: accuracy,\n",
    "        PRECISION: precision,\n",
    "        RECALL: recall,\n",
    "        PREDICTION: Y_pred\n",
    "    }\n",
    "\n",
    "def predict_with_SVCGAUSSIAN(X_train, X_test, Y_train, Y_test):\n",
    "    # Define the range of values for the hyperparameter to tune\n",
    "    gammas = np.arange(0.01, 1, 0.1)\n",
    "    best_gamma, best_score, lower_bound, upper_bound = get_best_hyperparam_SVCGaussian(gammas, X_train, Y_train)\n",
    "\n",
    "    # Train classifier\n",
    "    svc_gaussian = SVC(kernel='rbf', gamma=best_gamma)\n",
    "    svc_gaussian.fit(X_train, Y_train)\n",
    "\n",
    "    # evaluate the model\n",
    "    accuracy, precision, recall, f1, Y_pred = evaluate_classification_model(svc_gaussian, X_test, Y_test)\n",
    "    return {\n",
    "        CLASSIFIER: 'Gaussian SVM',\n",
    "        HYPERPARAMETER: 'Gamma',\n",
    "        BEST_HYPERPARAMETER: best_gamma,\n",
    "        BEST_SCORE: best_score,\n",
    "        LOWER_BOUND: lower_bound,\n",
    "        UPPER_BOUND: upper_bound,\n",
    "        F1_SCORE: f1,\n",
    "        ACCURACY: accuracy,\n",
    "        PRECISION: precision,\n",
    "        RECALL: recall,\n",
    "        PREDICTION: Y_pred\n",
    "    }\n",
    "\n",
    "def predict_with_SVCPOLYNOMIAL(X_train, X_test, Y_train, Y_test):\n",
    "    # Define the range of values for the hyperparameter to tune\n",
    "    degrees = range(1, 6)\n",
    "    best_degree, best_score, lower_bound, upper_bound = get_best_hyperparam_SVCPolynomial(degrees, X_train, Y_train)\n",
    "\n",
    "    # Train classifier\n",
    "    svc_gaussian = SVC(kernel='poly', degree=best_degree)\n",
    "    svc_gaussian.fit(X_train, Y_train)\n",
    "\n",
    "    # evaluate the model\n",
    "    accuracy, precision, recall, f1, Y_pred = evaluate_classification_model(svc_gaussian, X_test, Y_test)\n",
    "    return {\n",
    "        CLASSIFIER: 'Polynomial SVM',\n",
    "        HYPERPARAMETER: 'Degree',\n",
    "        BEST_HYPERPARAMETER: best_degree,\n",
    "        BEST_SCORE: best_score,\n",
    "        LOWER_BOUND: lower_bound,\n",
    "        UPPER_BOUND: upper_bound,\n",
    "        F1_SCORE: f1,\n",
    "        ACCURACY: accuracy,\n",
    "        PRECISION: precision,\n",
    "        RECALL: recall,\n",
    "        PREDICTION: Y_pred\n",
    "    }"
   ]
  },
  {
   "attachments": {},
   "cell_type": "markdown",
   "metadata": {},
   "source": [
    "---\n",
    "### Prediction results\n",
    "---\n",
    "Lets write a general function to display the results in a dataframe"
   ]
  },
  {
   "cell_type": "code",
   "execution_count": 115,
   "metadata": {},
   "outputs": [],
   "source": [
    "import pandas as pd\n",
    "\n",
    "def result_into_df(results):  \n",
    "    df = pd.DataFrame(results)\n",
    "    df_sorted = df.sort_values(by=BEST_SCORE, ascending=False)\n",
    "\n",
    "    return df_sorted"
   ]
  },
  {
   "attachments": {},
   "cell_type": "markdown",
   "metadata": {},
   "source": [
    "We also define a general function to plot the classifed data "
   ]
  },
  {
   "cell_type": "code",
   "execution_count": 116,
   "metadata": {},
   "outputs": [],
   "source": [
    "import plotly.graph_objects as go\n",
    "import plotly.express as px\n",
    "\n",
    "def show_monuments_by_label(Y_pred, X_test):\n",
    "    # Create a list of monument names\n",
    "    monuments = vectorizer.inverse_transform(X_test)\n",
    "    names = [', '.join(m) for m in monuments]\n",
    "\n",
    "    # Create a data frame with the monument names, their predicted labels, and their index in the test set\n",
    "    df = pd.DataFrame({'Monument': names, 'Label': Y_pred, 'Index': list(range(X_test.shape[0]))})\n",
    "\n",
    "    # Create a dictionary to map labels to colors\n",
    "    label_to_color = {label: color for label, color in zip(df['Label'].unique(), px.colors.qualitative.Dark24)}\n",
    "\n",
    "    # Create a trace for each label\n",
    "    traces = []\n",
    "    for label, color in label_to_color.items():\n",
    "        mask = df['Label'] == label\n",
    "        traces.append(go.Scatter(x=df.loc[mask, 'Index'], y=[label] * mask.sum(),\n",
    "                                 mode='markers',\n",
    "                                 text=df.loc[mask, 'Monument'],\n",
    "                                 hovertemplate='%{text}',\n",
    "                                 marker=dict(size=10, color=color),\n",
    "                                 name='Label {}'.format(label)))\n",
    "\n",
    "    # Set the plot title and axis labels\n",
    "    layout = go.Layout(title='Monument Labels',\n",
    "                       xaxis_title='Monument Index',\n",
    "                       yaxis_title='Predicted Label')\n",
    "\n",
    "    # Create the figure and show the plot\n",
    "    fig = go.Figure(data=traces, layout=layout)\n",
    "    fig.show()"
   ]
  },
  {
   "attachments": {},
   "cell_type": "markdown",
   "metadata": {},
   "source": [
    "We define another function to split the data on a training and tests set."
   ]
  },
  {
   "cell_type": "code",
   "execution_count": 117,
   "metadata": {},
   "outputs": [],
   "source": [
    "from sklearn.model_selection import train_test_split\n",
    "from sklearn.feature_extraction.text import CountVectorizer\n",
    "\n",
    "vectorizer = CountVectorizer()\n",
    "\n",
    "def split_data_training_test(X, labels, test_size=0.3):\n",
    "    X_train, X_test, Y_train, Y_test = train_test_split(X, labels, test_size=test_size, random_state=42)\n",
    "    \n",
    "    # Fit and transform the CountVectorizer on your training data\n",
    "    X_train = vectorizer.fit_transform(X_train)\n",
    "\n",
    "    # Transform the test data using CountVectorizer object\n",
    "    X_test = vectorizer.transform(X_test)\n",
    "    return X_train, X_test, Y_train, Y_test"
   ]
  },
  {
   "cell_type": "code",
   "execution_count": 118,
   "metadata": {},
   "outputs": [],
   "source": [
    "def predict_monuments_class():\n",
    "    data, labels = prepare_data(ignore_labels=[3])\n",
    "    X_train, X_test, Y_train, Y_test = split_data_training_test(data, labels)\n",
    "    \n",
    "    results = []\n",
    "    results.append(predict_with_KNN(X_train, X_test, Y_train, Y_test)) \n",
    "    results.append(predict_with_DECISIONTREE(X_train, X_test, Y_train, Y_test))\n",
    "    results.append(predict_with_MultinomialNB(X_train, X_test, Y_train, Y_test))\n",
    "    results.append(predict_with_SVCGAUSSIAN(X_train, X_test, Y_train, Y_test))\n",
    "    results.append(predict_with_SVCPOLYNOMIAL(X_train, X_test, Y_train, Y_test))\n",
    "    \n",
    "    return results, X_test"
   ]
  },
  {
   "cell_type": "code",
   "execution_count": 119,
   "metadata": {},
   "outputs": [
    {
     "data": {
      "text/html": [
       "<div>\n",
       "<style scoped>\n",
       "    .dataframe tbody tr th:only-of-type {\n",
       "        vertical-align: middle;\n",
       "    }\n",
       "\n",
       "    .dataframe tbody tr th {\n",
       "        vertical-align: top;\n",
       "    }\n",
       "\n",
       "    .dataframe thead th {\n",
       "        text-align: right;\n",
       "    }\n",
       "</style>\n",
       "<table border=\"1\" class=\"dataframe\">\n",
       "  <thead>\n",
       "    <tr style=\"text-align: right;\">\n",
       "      <th></th>\n",
       "      <th>Classifier</th>\n",
       "      <th>Hyperparameter</th>\n",
       "      <th>Best Hyperparameter</th>\n",
       "      <th>Best Score</th>\n",
       "      <th>Lower Bound</th>\n",
       "      <th>Upper Bound</th>\n",
       "      <th>F1 Score</th>\n",
       "      <th>Accuracy</th>\n",
       "      <th>Precision</th>\n",
       "      <th>Recall</th>\n",
       "      <th>Prediction</th>\n",
       "    </tr>\n",
       "  </thead>\n",
       "  <tbody>\n",
       "    <tr>\n",
       "      <th>2</th>\n",
       "      <td>Multinomial NB</td>\n",
       "      <td>Alpha</td>\n",
       "      <td>1.00</td>\n",
       "      <td>1.000000</td>\n",
       "      <td>0.999858</td>\n",
       "      <td>1.000142</td>\n",
       "      <td>1.000000</td>\n",
       "      <td>1.00000</td>\n",
       "      <td>1.000000</td>\n",
       "      <td>1.00000</td>\n",
       "      <td>[2, 1, 2, 2, 1, 1, 1, 1, 0, 1, 2, 1, 2, 1, 1, ...</td>\n",
       "    </tr>\n",
       "    <tr>\n",
       "      <th>4</th>\n",
       "      <td>Polynomial SVM</td>\n",
       "      <td>Degree</td>\n",
       "      <td>1.00</td>\n",
       "      <td>1.000000</td>\n",
       "      <td>0.999827</td>\n",
       "      <td>1.000173</td>\n",
       "      <td>1.000000</td>\n",
       "      <td>1.00000</td>\n",
       "      <td>1.000000</td>\n",
       "      <td>1.00000</td>\n",
       "      <td>[2, 1, 2, 2, 1, 1, 1, 1, 0, 1, 2, 1, 2, 1, 1, ...</td>\n",
       "    </tr>\n",
       "    <tr>\n",
       "      <th>3</th>\n",
       "      <td>Gaussian SVM</td>\n",
       "      <td>Gamma</td>\n",
       "      <td>0.01</td>\n",
       "      <td>0.999432</td>\n",
       "      <td>0.996543</td>\n",
       "      <td>1.002321</td>\n",
       "      <td>1.000000</td>\n",
       "      <td>1.00000</td>\n",
       "      <td>1.000000</td>\n",
       "      <td>1.00000</td>\n",
       "      <td>[2, 1, 2, 2, 1, 1, 1, 1, 0, 1, 2, 1, 2, 1, 1, ...</td>\n",
       "    </tr>\n",
       "    <tr>\n",
       "      <th>0</th>\n",
       "      <td>K-nearest neighbors</td>\n",
       "      <td>Number of neighbors</td>\n",
       "      <td>9.00</td>\n",
       "      <td>0.998860</td>\n",
       "      <td>0.998655</td>\n",
       "      <td>0.999066</td>\n",
       "      <td>0.997339</td>\n",
       "      <td>0.99734</td>\n",
       "      <td>0.997362</td>\n",
       "      <td>0.99734</td>\n",
       "      <td>[2, 1, 2, 2, 1, 1, 1, 1, 0, 1, 2, 1, 2, 1, 1, ...</td>\n",
       "    </tr>\n",
       "    <tr>\n",
       "      <th>1</th>\n",
       "      <td>Decision tree</td>\n",
       "      <td>Maximum tree depth</td>\n",
       "      <td>2.00</td>\n",
       "      <td>0.998860</td>\n",
       "      <td>0.961949</td>\n",
       "      <td>1.035772</td>\n",
       "      <td>1.000000</td>\n",
       "      <td>1.00000</td>\n",
       "      <td>1.000000</td>\n",
       "      <td>1.00000</td>\n",
       "      <td>[2, 1, 2, 2, 1, 1, 1, 1, 0, 1, 2, 1, 2, 1, 1, ...</td>\n",
       "    </tr>\n",
       "  </tbody>\n",
       "</table>\n",
       "</div>"
      ],
      "text/plain": [
       "            Classifier       Hyperparameter  Best Hyperparameter  Best Score  \\\n",
       "2       Multinomial NB                Alpha                 1.00    1.000000   \n",
       "4       Polynomial SVM               Degree                 1.00    1.000000   \n",
       "3         Gaussian SVM                Gamma                 0.01    0.999432   \n",
       "0  K-nearest neighbors  Number of neighbors                 9.00    0.998860   \n",
       "1        Decision tree   Maximum tree depth                 2.00    0.998860   \n",
       "\n",
       "   Lower Bound  Upper Bound  F1 Score  Accuracy  Precision   Recall  \\\n",
       "2     0.999858     1.000142  1.000000   1.00000   1.000000  1.00000   \n",
       "4     0.999827     1.000173  1.000000   1.00000   1.000000  1.00000   \n",
       "3     0.996543     1.002321  1.000000   1.00000   1.000000  1.00000   \n",
       "0     0.998655     0.999066  0.997339   0.99734   0.997362  0.99734   \n",
       "1     0.961949     1.035772  1.000000   1.00000   1.000000  1.00000   \n",
       "\n",
       "                                          Prediction  \n",
       "2  [2, 1, 2, 2, 1, 1, 1, 1, 0, 1, 2, 1, 2, 1, 1, ...  \n",
       "4  [2, 1, 2, 2, 1, 1, 1, 1, 0, 1, 2, 1, 2, 1, 1, ...  \n",
       "3  [2, 1, 2, 2, 1, 1, 1, 1, 0, 1, 2, 1, 2, 1, 1, ...  \n",
       "0  [2, 1, 2, 2, 1, 1, 1, 1, 0, 1, 2, 1, 2, 1, 1, ...  \n",
       "1  [2, 1, 2, 2, 1, 1, 1, 1, 0, 1, 2, 1, 2, 1, 1, ...  "
      ]
     },
     "execution_count": 119,
     "metadata": {},
     "output_type": "execute_result"
    }
   ],
   "source": [
    "results, X_test = predict_monuments_class()\n",
    "df = result_into_df(results)\n",
    "df"
   ]
  },
  {
   "cell_type": "code",
   "execution_count": 120,
   "metadata": {},
   "outputs": [
    {
     "data": {
      "image/png": "[encoded data removed]",
      "text/plain": [
       "<Figure size 1500x800 with 1 Axes>"
      ]
     },
     "metadata": {},
     "output_type": "display_data"
    }
   ],
   "source": [
    "show_results_plot(results, \"Monuments predictions scores\")"
   ]
  },
  {
   "cell_type": "code",
   "execution_count": 121,
   "metadata": {},
   "outputs": [
    {
     "ename": "NameError",
     "evalue": "name 'vectorizer' is not defined",
     "output_type": "error",
     "traceback": [
      "\u001b[1;31m---------------------------------------------------------------------------\u001b[0m",
      "\u001b[1;31mNameError\u001b[0m                                 Traceback (most recent call last)",
      "Cell \u001b[1;32mIn[121], line 7\u001b[0m\n\u001b[0;32m      4\u001b[0m \u001b[39m# get the prediction values for the Gaussian SVM classifier\u001b[39;00m\n\u001b[0;32m      5\u001b[0m svm_predictions \u001b[39m=\u001b[39m svm_row[\u001b[39m'\u001b[39m\u001b[39mPrediction\u001b[39m\u001b[39m'\u001b[39m]\u001b[39m.\u001b[39mvalues[\u001b[39m0\u001b[39m]\n\u001b[1;32m----> 7\u001b[0m show_monuments_by_label(svm_predictions, X_test)\n",
      "Cell \u001b[1;32mIn[116], line 6\u001b[0m, in \u001b[0;36mshow_monuments_by_label\u001b[1;34m(Y_pred, X_test)\u001b[0m\n\u001b[0;32m      4\u001b[0m \u001b[39mdef\u001b[39;00m \u001b[39mshow_monuments_by_label\u001b[39m(Y_pred, X_test):\n\u001b[0;32m      5\u001b[0m     \u001b[39m# Create a list of monument names\u001b[39;00m\n\u001b[1;32m----> 6\u001b[0m     monuments \u001b[39m=\u001b[39m vectorizer\u001b[39m.\u001b[39minverse_transform(X_test)\n\u001b[0;32m      7\u001b[0m     names \u001b[39m=\u001b[39m [\u001b[39m'\u001b[39m\u001b[39m, \u001b[39m\u001b[39m'\u001b[39m\u001b[39m.\u001b[39mjoin(m) \u001b[39mfor\u001b[39;00m m \u001b[39min\u001b[39;00m monuments]\n\u001b[0;32m      9\u001b[0m     \u001b[39m# Create a data frame with the monument names, their predicted labels, and their index in the test set\u001b[39;00m\n",
      "\u001b[1;31mNameError\u001b[0m: name 'vectorizer' is not defined"
     ]
    }
   ],
   "source": [
    "# get the row corresponding to the Gaussian SVM classifier\n",
    "svm_row = df.loc[df['Classifier'] == 'Gaussian SVM']\n",
    "\n",
    "# get the prediction values for the Gaussian SVM classifier\n",
    "svm_predictions = svm_row['Prediction'].values[0]\n",
    "\n",
    "show_monuments_by_label(svm_predictions, X_test)"
   ]
  }
 ],
 "metadata": {
  "kernelspec": {
   "display_name": "Python 3",
   "language": "python",
   "name": "python3"
  },
  "language_info": {
   "codemirror_mode": {
    "name": "ipython",
    "version": 3
   },
   "file_extension": ".py",
   "mimetype": "text/x-python",
   "name": "python",
   "nbconvert_exporter": "python",
   "pygments_lexer": "ipython3",
   "version": "3.10.10"
  },
  "orig_nbformat": 4,
  "vscode": {
   "interpreter": {
    "hash": "e743294b9eb9579c1dbfa440bf1529440bbf17bdd5f490c626f9a31cee6b9bc4"
   }
  }
 },
 "nbformat": 4,
 "nbformat_minor": 2
}
