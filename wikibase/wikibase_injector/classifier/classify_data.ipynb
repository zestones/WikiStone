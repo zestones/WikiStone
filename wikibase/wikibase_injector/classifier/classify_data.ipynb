{
 "cells": [
  {
   "attachments": {},
   "cell_type": "markdown",
   "metadata": {},
   "source": [
    "## Data Preparation"
   ]
  },
  {
   "attachments": {},
   "cell_type": "markdown",
   "metadata": {},
   "source": [
    "Lets import our constants and global variable defined inside the constants file."
   ]
  },
  {
   "attachments": {},
   "cell_type": "markdown",
   "metadata": {},
   "source": [
    "### Wiki injector\n",
    "When using this classifier from the wiki injector this cell loads the global variable and constant of this notebook.\n",
    "You dont need to run it when experimenting on this notebook (it will cause an error). "
   ]
  },
  {
   "cell_type": "code",
   "execution_count": 6,
   "metadata": {},
   "outputs": [],
   "source": [
    "import importlib\n",
    "import sys\n",
    "import os\n",
    "\n",
    "# add the parent directory of main.py to Python path to enable import modules from the wikibase package.\n",
    "notebook_path = os.getcwd()\n",
    "parent_dir = os.path.abspath(os.path.join(notebook_path, '../../'))\n",
    "sys.path.insert(0, parent_dir)\n",
    "\n",
    "from wikibase_injector.classifier.constants import * "
   ]
  },
  {
   "attachments": {},
   "cell_type": "markdown",
   "metadata": {},
   "source": [
    "Lets start by importing the necessary libraries and tools for text preprocessing such as `nltk`, `re`, `unidecode`, `WordNetLemmatizer`, `PorterStemmer`, and `stopwords` from `nltk.corpus`. Then we initialize the stopwords, lemmatizer, and stemmer for French language.\n",
    "\n",
    "The `preprocess` function takes a text as input, applies various preprocessing techniques such as accent removal, removing special characters, converting the text to lowercase, tokenization, lemmatization, stemming, and removal of stop words in French. Then it returns the preprocessed text."
   ]
  },
  {
   "cell_type": "code",
   "execution_count": 7,
   "metadata": {},
   "outputs": [],
   "source": [
    "from nltk.stem import WordNetLemmatizer, PorterStemmer\n",
    "from nltk.corpus import stopwords\n",
    "import unidecode\n",
    "import nltk\n",
    "import re\n",
    "\n",
    "# Function for preprocessing text data\n",
    "def preprocess(text):\n",
    "    # Initialization of text preprocessing tools\n",
    "    stop_words = set(stopwords.words('french'))\n",
    "    lemmatizer = WordNetLemmatizer()\n",
    "    stemmer = PorterStemmer()\n",
    "\n",
    "    text = unidecode.unidecode(text) # Removing accents\n",
    "    text = re.sub(r'[^\\w\\s]', '', text) # Removing special characters\n",
    "    text = text.lower() # Converting to lowercase\n",
    "\n",
    "    tokens = nltk.word_tokenize(text) # Tokenization\n",
    "    lemmatized_tokens = [lemmatizer.lemmatize(token) for token in tokens] # Lemmatization\n",
    "    stemmed_tokens = [stemmer.stem(token) for token in lemmatized_tokens] # Stemming\n",
    "    cleaned_tokens = [token for token in stemmed_tokens if token not in stop_words] # Removing stop words\n",
    "\n",
    "    text = ' '.join(cleaned_tokens) # Reassembling preprocessed text\n",
    "    return text"
   ]
  },
  {
   "attachments": {},
   "cell_type": "markdown",
   "metadata": {},
   "source": [
    "Here, we define a function that loads and prepares the data from a JSON file. The function takes two parameters: file_path, which is the path of the JSON file to load (default value is \"donnees_clusterisees.json\"), and ignore_labels, which is a list of labels to be ignored. The function filters out data points with labels in the ignore_labels list, and then extracts the \"name\" column from the remaining data points. The function then applies the preprocess function to each name to clean the text. The function returns the cleaned names and their corresponding labels as a tuple."
   ]
  },
  {
   "cell_type": "code",
   "execution_count": 8,
   "metadata": {},
   "outputs": [],
   "source": [
    "# Load and prepare data from a JSON file\n",
    "import numpy as np\n",
    "import json\n",
    "import os \n",
    "\n",
    "def prepare_data(file_path=\"donnees_clusterisees.json\", ignore_labels=[]):\n",
    "    \n",
    "    if not os.path.isfile(file_path):\n",
    "        file_path = os.path.abspath(os.path.join(os.path.dirname(__file__), 'donnees_clusterisees.json'))\n",
    "        \n",
    "    # Load the data from the JSON file\n",
    "    with open(file_path, 'r') as f:\n",
    "        data = json.load(f)\n",
    "        \n",
    "    # Filter out any data points with labels in the ignore_labels list\n",
    "    data = [d for d in data if d['label'] not in ignore_labels]\n",
    "    labels = [d['label'] for d in data if d['label'] not in ignore_labels]\n",
    "\n",
    "    # Extract the name and clean the data\n",
    "    names = [d['name'] for d in data]\n",
    "    cleaned_names = [preprocess(name) for name in names]\n",
    "\n",
    "    return cleaned_names, labels "
   ]
  },
  {
   "attachments": {},
   "cell_type": "markdown",
   "metadata": {},
   "source": [
    "## Learning"
   ]
  },
  {
   "attachments": {},
   "cell_type": "markdown",
   "metadata": {},
   "source": [
    "### Train different models\n",
    "---"
   ]
  },
  {
   "attachments": {},
   "cell_type": "markdown",
   "metadata": {},
   "source": [
    "<!-- Calculates the 95% confidence interval of the cross-validation scores. -->\n",
    "\n",
    "Here we define a function `compute_ci_95` that calculates the 95% confidence interval of the cross-validation scores. The function takes a list of cross-validation scores as input and returns the lower and upper bounds of the confidence interval."
   ]
  },
  {
   "cell_type": "code",
   "execution_count": 9,
   "metadata": {},
   "outputs": [],
   "source": [
    "# Calculate 95% confidence interval\n",
    "def compute_ci_95(cv_scores):\n",
    "    std_error = np.std(cv_scores) / np.sqrt(DEFAULT_CV)\n",
    "    best_score = max(cv_scores)\n",
    "\n",
    "    # Calculate the 95% confidence interval of the cross-validation scores\n",
    "    lower_bound = best_score - 1.96 * std_error\n",
    "    upper_bound = best_score + 1.96 * std_error\n",
    "    \n",
    "    return lower_bound, upper_bound"
   ]
  },
  {
   "attachments": {},
   "cell_type": "markdown",
   "metadata": {},
   "source": [
    "We will define for every classifier a function to retrieve the optimal hyperparameter."
   ]
  },
  {
   "attachments": {},
   "cell_type": "markdown",
   "metadata": {},
   "source": [
    "#### K-nearest neighbors\n",
    "This function performs cross-validation on a range of hyperparameters to find the optimal value \n",
    "for the number of neighbors in a K-NN classifier. It returns the best hyperparameter, its associated score, \n",
    "and the 95% confidence interval of the score.\n",
    "\n",
    "**Parameters**:\n",
    "- ``neighbors_range`` (list): a list of hyperparameter values to test\n",
    "- ``X_train`` (numpy array): the input features of the training set\n",
    "- ``Y_train`` (numpy array): the output labels of the training set\n",
    "    \n",
    "**Returns**:\n",
    "- ``best_k``(int): the optimal hyperparameter value\n",
    "- ``best_score`` (float): the score obtained with the optimal hyperparameter\n",
    "- ``lower_bound`` (float): the lower bound of the 95% confidence interval of the score\n",
    "- ``upper_bound`` (float): the upper bound of the 95% confidence interval of the score"
   ]
  },
  {
   "cell_type": "code",
   "execution_count": 10,
   "metadata": {},
   "outputs": [],
   "source": [
    "# Find the best hyperparameter value for a K-NN classifier using cross-validation\n",
    "from sklearn.neighbors import KNeighborsClassifier\n",
    "from sklearn.model_selection import cross_val_score\n",
    "\n",
    "def get_best_hyperparam_KNNClassifier(neighbors_range, X_train, Y_train):\n",
    "    # Store the cross-validation scores for each hyperparameter value\n",
    "    cv_scores = []\n",
    "    \n",
    "    # Loop over the hyperparameter values\n",
    "    for k in neighbors_range:\n",
    "        knn = KNeighborsClassifier(n_neighbors=k)\n",
    "        scores = cross_val_score(knn, X_train, Y_train, cv=DEFAULT_CV)\n",
    "        cv_scores.append(scores.mean())\n",
    "\n",
    "    # Compute the 95% confidence interval and find the optimal hyperparameter\n",
    "    lower_bound, upper_bound = compute_ci_95(cv_scores)\n",
    "    best_score = max(cv_scores)\n",
    "    best_k = neighbors_range[cv_scores.index(max(cv_scores))]\n",
    "    \n",
    "    return best_k, best_score, lower_bound, upper_bound\n"
   ]
  },
  {
   "attachments": {},
   "cell_type": "markdown",
   "metadata": {},
   "source": [
    "#### Decision trees (max_depth)\n",
    "\n",
    "This function performs cross-validation on a range of hyperparameters to find the optimal value for the maximum depth of a decision tree classifier. It returns the best hyperparameter, its associated score, and the 95% confidence interval of the score.\n",
    "\n",
    "**Parameters**:\n",
    "- `depth_range` (list): A list of hyperparameter values to test.\n",
    "- `X_train` (numpy array): The input features of the training set.\n",
    "- `Y_train` (numpy array): The output labels of the training set.\n",
    "\n",
    "**Returns**:\n",
    "- `best_depth` (int): The optimal hyperparameter value.\n",
    "- `best_score` (float): The score obtained with the optimal hyperparameter.\n",
    "- `lower_bound` (float): The lower bound of the 95% confidence interval of the score.\n",
    "- `upper_bound` (float): The upper bound of the 95% confidence interval of the score."
   ]
  },
  {
   "cell_type": "code",
   "execution_count": 11,
   "metadata": {},
   "outputs": [],
   "source": [
    "from sklearn.tree import DecisionTreeClassifier\n",
    "\n",
    "def get_best_hyperparam_TreeClassifier(depth_range, X_train, Y_train):\n",
    "    # Store the cross-validation scores for each hyperparameter value\n",
    "    cv_scores = []\n",
    "    \n",
    "    # Loop over the hyperparameter values\n",
    "    for depth in depth_range:\n",
    "        dt = DecisionTreeClassifier(max_depth=depth, random_state=42) # Create a decision tree classifier with current depth\n",
    "        scores = cross_val_score(dt, X_train, Y_train, cv=DEFAULT_CV) # Perform cross-validation and store the scores\n",
    "        cv_scores.append(np.mean(scores)) # Store the mean score for the current depth\n",
    "\n",
    "    # Compute the 95% confidence interval and find the optimal hyperparameter\n",
    "    lower_bound, upper_bound = compute_ci_95(cv_scores)\n",
    "    best_score = max(cv_scores)\n",
    "    best_depth = depth_range[np.argmax(cv_scores)]\n",
    "    \n",
    "    return best_depth, best_score, lower_bound, upper_bound"
   ]
  },
  {
   "attachments": {},
   "cell_type": "markdown",
   "metadata": {},
   "source": [
    "#### SVC Gaussian\n",
    "This function performs cross-validation on a range of hyperparameters to find the optimal value for the gamma parameter in an SVM classifier with a Gaussian kernel. It returns the best hyperparameter, its associated score, and the 95% confidence interval of the score.\n",
    "\n",
    "**Parameters**:\n",
    "- ``gammas ``(list): a list of hyperparameter values to test\n",
    "- ``X_train`` (numpy array): the input features of the training set\n",
    "- ``Y_train`` (numpy array): the output labels of the training set\n",
    "    \n",
    "Returns:\n",
    "- ``best_gamma ``(float): the optimal hyperparameter value\n",
    "- ``best_score ``(float): the score obtained with the optimal hyperparameter\n",
    "- ``lower_bound`` (float): the lower bound of the 95% confidence interval of the score\n",
    "- ``upper_bound`` (float): the upper bound of the 95% confidence interval of the score"
   ]
  },
  {
   "cell_type": "code",
   "execution_count": 12,
   "metadata": {},
   "outputs": [],
   "source": [
    "from sklearn.svm import SVC\n",
    "\n",
    "def get_best_hyperparam_SVCGaussian(gammas, X_train, Y_train):\n",
    "    # Store the scores\n",
    "    cv_scores = []\n",
    "\n",
    "    # Find the best hyperparameter with the highest score\n",
    "    for gamma in gammas:\n",
    "        svm = SVC(kernel='rbf', gamma=gamma)\n",
    "        scores = cross_val_score(svm, X_train, Y_train, cv=DEFAULT_CV)\n",
    "        cv_scores.append(scores.mean())\n",
    "    \n",
    "    # Compute the 95% confidence interval and find the optimal hyperparameter\n",
    "    lower_bound, upper_bound = compute_ci_95(cv_scores)\n",
    "    best_score = max(cv_scores)\n",
    "    best_gamma = gammas[cv_scores.index(max(cv_scores))]\n",
    "    \n",
    "    return best_gamma, best_score, lower_bound, upper_bound"
   ]
  },
  {
   "attachments": {},
   "cell_type": "markdown",
   "metadata": {},
   "source": [
    "#### MultinomialNB\n",
    "\n",
    "This function performs cross-validation on a range of hyperparameters to find the optimal value for the smoothing parameter in a Multinomial Naive Bayes classifier. It returns the best hyperparameter, its associated score, and the 95% confidence interval of the score.\n",
    "\n",
    "**Parameters**:\n",
    "- ``alphas ``(list): a list of hyperparameter values to test\n",
    "- ``X_train`` (numpy array): the input features of the training set\n",
    "- ``Y_train`` (numpy array): the output labels of the training set\n",
    "\n",
    "**Returns**:\n",
    "- ``best_alpha ``(float): the optimal hyperparameter value\n",
    "- ``best_score ``(float): the score obtained with the optimal hyperparameter\n",
    "- ``lower_bound`` (float): the lower bound of the 95% confidence interval of the score\n",
    "- ``upper_bound`` (float): the upper bound of the 95% confidence interval of the score"
   ]
  },
  {
   "cell_type": "code",
   "execution_count": 13,
   "metadata": {},
   "outputs": [],
   "source": [
    "from sklearn.naive_bayes import MultinomialNB\n",
    "\n",
    "def get_best_hyperparam_MultinomialNB(alphas, X_train, Y_train):\n",
    "    # Create an empty list to store the cross-validation scores for each hyperparameter value\n",
    "    cv_scores = []\n",
    "    \n",
    "    # Loop over the hyperparameter values and compute the cross-validation score for each\n",
    "    for alpha in alphas:\n",
    "        mnb = MultinomialNB(alpha=alpha)\n",
    "        scores = cross_val_score(mnb, X_train, Y_train, cv=DEFAULT_CV)\n",
    "        cv_scores.append(scores.mean())\n",
    "\n",
    "    # Compute the 95% confidence interval and find the optimal hyperparameter value\n",
    "    lower_bound, upper_bound = compute_ci_95(cv_scores)\n",
    "    best_score = max(cv_scores)\n",
    "    best_alpha = alphas[cv_scores.index(max(cv_scores))]\n",
    "    \n",
    "    return best_alpha, best_score, lower_bound, upper_bound"
   ]
  },
  {
   "attachments": {},
   "cell_type": "markdown",
   "metadata": {},
   "source": [
    "#### SVC Polynomial\n",
    "\n",
    "This function performs cross-validation on a range of hyperparameters to find the optimal value \n",
    "for the degree of the polynomial kernel in an SVM classifier. It returns the best hyperparameter, \n",
    "its associated score, and the 95% confidence interval of the score.\n",
    "\n",
    "**Parameters**:\n",
    "- ``degrees`` (list): a list of hyperparameter values to test\n",
    "- ``X_train`` (numpy array): the input features of the training set\n",
    "- ``Y_train`` (numpy array): the output labels of the training set\n",
    "\n",
    "**Returns**:\n",
    "- ``best_degree`` (int): the optimal hyperparameter value\n",
    "- ``best_score ``(float): the score obtained with the optimal hyperparameter\n",
    "- ``lower_bound`` (float): the lower bound of the 95% confidence interval of the score\n",
    "- ``upper_bound`` (float): the upper bound of the 95% confidence interval of the score "
   ]
  },
  {
   "cell_type": "code",
   "execution_count": 14,
   "metadata": {},
   "outputs": [],
   "source": [
    "from sklearn.svm import SVC\n",
    "\n",
    "def get_best_hyperparam_SVCPolynomial(degrees, X_train, Y_train):\n",
    "    # Store the scores\n",
    "    cv_scores = []\n",
    "\n",
    "    # Find the cross-validation score for each hyperparameter value\n",
    "    for degree in degrees:\n",
    "        svm = SVC(kernel='poly', degree=degree)\n",
    "        scores = cross_val_score(svm, X_train, Y_train, cv=DEFAULT_CV)\n",
    "        cv_scores.append(scores.mean())\n",
    "\n",
    "    # Compute the 95% confidence interval and find the optimal hyperparameter\n",
    "    lower_bound, upper_bound = compute_ci_95(cv_scores)\n",
    "    best_score = max(cv_scores)\n",
    "    best_degree = degrees[cv_scores.index(max(cv_scores))]\n",
    "\n",
    "    return best_degree, best_score, lower_bound, upper_bound"
   ]
  },
  {
   "attachments": {},
   "cell_type": "markdown",
   "metadata": {},
   "source": [
    "---\n",
    "### Results analysis\n",
    "We will display on a curve the scores of each of the algorithms with the best possible hyperparameter value on the test sample."
   ]
  },
  {
   "attachments": {},
   "cell_type": "markdown",
   "metadata": {},
   "source": [
    "---\n",
    "Let's first define a generic function to plot the scores of each algorithms with the best hyperparameter\n",
    "\n",
    "##### `show_results_plot(results, title)`\n",
    "\n",
    "This function is used to create a grouped bar plot to visualize the performance of different classifiers based on their scores. \n",
    "\n",
    "**Parameters:**\n",
    "\n",
    "- `results`: A list of dictionaries containing the performance metrics for each classifier.\n",
    "- `title`: A string specifying the title of the plot.\n",
    "\n",
    "**Returns:**\n",
    "\n",
    "This function does not return anything, it simply displays the plot.\n",
    "\n",
    "The plot shows the following metrics for each classifier:\n",
    "\n",
    "- Best Score\n",
    "- Accuracy\n",
    "- F1 Score\n",
    "- Precision\n",
    "\n",
    "Each metric is represented by a different color in the plot. The x-axis shows the name of each classifier and the y-axis shows the score range from 0 to 1. The legend shows which color represents which metric.\n"
   ]
  },
  {
   "cell_type": "code",
   "execution_count": 15,
   "metadata": {},
   "outputs": [],
   "source": [
    "import matplotlib.pyplot as plt\n",
    "\n",
    "def show_results_plot(results, title):\n",
    "    # Get the data\n",
    "    classifiers = [r['Classifier'] for r in results]\n",
    "    best_scores = [r['Best Score'] for r in results]\n",
    "    accuracies = [r['Accuracy'] for r in results]\n",
    "    f1_scores = [r['F1 Score'] for r in results]\n",
    "    precisions = [r['Precision'] for r in results]\n",
    "\n",
    "    # Set the width of the bars\n",
    "    bar_width = 0.2\n",
    "\n",
    "    # Set the positions of the bars on the x-axis\n",
    "    r1 = np.arange(len(classifiers))\n",
    "    r2 = [x + bar_width for x in r1]\n",
    "    r3 = [x + bar_width for x in r2]\n",
    "    r4 = [x + bar_width for x in r3]\n",
    "\n",
    "    # Set the colors and edgecolors of the bars\n",
    "    best_score_color = \"#1f77b4\"\n",
    "    accuracy_color = '#ff7f0e'\n",
    "    f1_score_color = '#2ca02c'\n",
    "    precision_color = '#d62728'\n",
    "\n",
    "    edgecolors = 'black'\n",
    "\n",
    "    # Plot the bar charts\n",
    "    plt.bar(r1, best_scores, color=best_score_color, edgecolor=edgecolors, width=bar_width, label='Best Score')\n",
    "    plt.bar(r2, accuracies, color=accuracy_color, edgecolor=edgecolors, width=bar_width, label='Accuracy')\n",
    "    plt.bar(r3, f1_scores, color=f1_score_color, edgecolor=edgecolors, width=bar_width, label='F1 Score')\n",
    "    plt.bar(r4, precisions, color=precision_color, edgecolor=edgecolors, width=bar_width, label='Precision')\n",
    "\n",
    "    # Add xticks on the middle of the group bars\n",
    "    plt.xlabel('Classifier', fontweight='bold')\n",
    "    plt.xticks([r + bar_width*1.5 for r in range(len(classifiers))], classifiers, rotation=45, ha='right')\n",
    "    plt.ylabel('Score', fontweight='bold')\n",
    "\n",
    "    # Add a title\n",
    "    plt.title(title, fontweight='bold')\n",
    "    plt.legend()\n",
    "\n",
    "    # Set the figure size\n",
    "    plt.gcf().set_size_inches(15, 8)\n",
    "\n",
    "    # Set the y-axis range\n",
    "    plt.ylim(0, 1)\n",
    "    plt.yticks(np.arange(0, 1.1, 0.1))\n",
    "\n",
    "    # Show the plot\n",
    "    plt.show()"
   ]
  },
  {
   "attachments": {},
   "cell_type": "markdown",
   "metadata": {},
   "source": [
    "We also define a function to evaluate the classification models on test data using four metrics: accuracy, precision, recall, and F1 score.\n",
    "    \n",
    "**Parameters**:\n",
    "\n",
    "- `model`: the classification model to evaluate\n",
    "- `X_test`: the feature values of the test data\n",
    "- `Y_test`: the target values of the test data\n",
    "    \n",
    "**Returns**:\n",
    "- ``accuracy``: the accuracy of the model on the test data\n",
    "- ``precision``: the precision of the model on the test data\n",
    "- ``recall``: the recall of the model on the test data\n",
    "- ``f1``: the F1 score of the model on the test data\n",
    "- ``Y_pred``: the predicted target values of the test data"
   ]
  },
  {
   "cell_type": "code",
   "execution_count": 16,
   "metadata": {},
   "outputs": [],
   "source": [
    "from sklearn.metrics import accuracy_score, precision_score, recall_score, f1_score\n",
    "\n",
    "def evaluate_classification_model(model, X_test, Y_test):\n",
    "    # Predict on test data\n",
    "    Y_pred = model.predict(X_test)\n",
    "    \n",
    "    # Calculate evaluation metrics on test data\n",
    "    accuracy = accuracy_score(Y_test, Y_pred)\n",
    "    precision = precision_score(Y_test, Y_pred, average='weighted')\n",
    "    recall = recall_score(Y_test, Y_pred, average='weighted')\n",
    "    f1 = f1_score(Y_test, Y_pred, average='weighted')\n",
    "\n",
    "    # Return evaluation metrics and confidence interval\n",
    "    return accuracy, precision, recall, f1, Y_pred"
   ]
  },
  {
   "attachments": {},
   "cell_type": "markdown",
   "metadata": {},
   "source": [
    "The following code defines functions that implement different classification algorithms to predict the target variable of a dataset. The functions take as input training and testing sets, and output a dictionary containing various performance metrics of the classifier, such as accuracy, precision, recall, F1-score, and the predicted values for the test set.\n",
    "\n",
    "The classification algorithms implemented are:\n",
    "- K-nearest neighbors\n",
    "- Decision tree\n",
    "- Multinomial Naive Bayes\n",
    "- Gaussian Support Vector Machine\n",
    "- Polynomial Support Vector Machine\n",
    "\n",
    "For each algorithm, a range of values is defined for the hyperparameter that controls the behavior of the algorithm. \n",
    "\n",
    "The function `get_best_hyperparam_*` finds the best value of the hyperparameter by using cross-validation on the training set. <br>\n",
    "The function `evaluate_classification_model` evaluates the performance of the classifier on the test set.\n",
    "\n",
    "The output dictionary of each function contains not only the performance metrics and the predicted values, but also the name of the classifier, the name of the hyperparameter, and the best value found for the hyperparameter during training. This makes it easy to compare the performance of different classifiers with respect to different hyperparameters.\n"
   ]
  },
  {
   "cell_type": "code",
   "execution_count": 17,
   "metadata": {},
   "outputs": [],
   "source": [
    "def predict_with_KNN(X_train, X_test, Y_train, Y_test):\n",
    "    neighbors_range = range(1, 20)\n",
    "    best_k, best_score, lower_bound, upper_bound = get_best_hyperparam_KNNClassifier(neighbors_range, X_train, Y_train)\n",
    "\n",
    "    # Train KNN classifier\n",
    "    knn = KNeighborsClassifier(n_neighbors=best_k)\n",
    "    knn.fit(X_train, Y_train)\n",
    "\n",
    "    # evaluate the model\n",
    "    accuracy, precision, recall, f1, Y_pred = evaluate_classification_model(knn, X_test, Y_test)\n",
    "    return {\n",
    "        CLASSIFIER: 'K-nearest neighbors',\n",
    "        HYPERPARAMETER: 'Number of neighbors',\n",
    "        BEST_HYPERPARAMETER: best_k,\n",
    "        BEST_SCORE: best_score,\n",
    "        LOWER_BOUND: lower_bound,\n",
    "        UPPER_BOUND: upper_bound,\n",
    "        F1_SCORE: f1,\n",
    "        ACCURACY: accuracy,\n",
    "        PRECISION: precision,\n",
    "        RECALL: recall,\n",
    "        PREDICTION: Y_pred\n",
    "    }\n",
    "\n",
    "def predict_with_DECISIONTREE(X_train, X_test, Y_train, Y_test):\n",
    "    depth_range = range(1, 21)\n",
    "    best_depth, best_score, lower_bound, upper_bound = get_best_hyperparam_TreeClassifier(depth_range, X_train, Y_train)\n",
    "\n",
    "    # Train classifier\n",
    "    dect = DecisionTreeClassifier(max_depth=best_depth)\n",
    "    dect.fit(X_train, Y_train)\n",
    "\n",
    "    # evaluate the model\n",
    "    accuracy, precision, recall, f1, Y_pred = evaluate_classification_model(dect, X_test, Y_test)\n",
    "    return {\n",
    "        CLASSIFIER: 'Decision tree',\n",
    "        HYPERPARAMETER: 'Maximum tree depth',\n",
    "        BEST_HYPERPARAMETER: best_depth,\n",
    "        BEST_SCORE: best_score,\n",
    "        LOWER_BOUND: lower_bound,\n",
    "        UPPER_BOUND: upper_bound,    \n",
    "        F1_SCORE: f1,\n",
    "        ACCURACY: accuracy,\n",
    "        PRECISION: precision,\n",
    "        RECALL: recall,\n",
    "        PREDICTION: Y_pred\n",
    "    }\n",
    "\n",
    "def predict_with_MultinomialNB(X_train, X_test, Y_train, Y_test):\n",
    "    # Define the range of values for the hyperparameter to tune\n",
    "    alphas = range(1, 25)\n",
    "    best_alpha, best_score, lower_bound, upper_bound = get_best_hyperparam_MultinomialNB(alphas, X_train, Y_train)\n",
    "\n",
    "    # Train classifier\n",
    "    perc = MultinomialNB(alpha=best_alpha)\n",
    "    perc.fit(X_train, Y_train)\n",
    "\n",
    "    # evaluate the model\n",
    "    accuracy, precision, recall, f1, Y_pred = evaluate_classification_model(perc, X_test, Y_test)\n",
    "    return {\n",
    "        CLASSIFIER: 'Multinomial NB',\n",
    "        HYPERPARAMETER: 'Alpha',\n",
    "        BEST_HYPERPARAMETER: best_alpha,\n",
    "        BEST_SCORE: best_score,\n",
    "        LOWER_BOUND: lower_bound,\n",
    "        UPPER_BOUND: upper_bound,\n",
    "        F1_SCORE: f1,\n",
    "        ACCURACY: accuracy,\n",
    "        PRECISION: precision,\n",
    "        RECALL: recall,\n",
    "        PREDICTION: Y_pred\n",
    "    }\n",
    "\n",
    "def predict_with_SVCGAUSSIAN(X_train, X_test, Y_train, Y_test):\n",
    "    # Define the range of values for the hyperparameter to tune\n",
    "    gammas = np.arange(0.01, 1, 0.1)\n",
    "    best_gamma, best_score, lower_bound, upper_bound = get_best_hyperparam_SVCGaussian(gammas, X_train, Y_train)\n",
    "\n",
    "    # Train classifier\n",
    "    svc_gaussian = SVC(kernel='rbf', gamma=best_gamma)\n",
    "    svc_gaussian.fit(X_train, Y_train)\n",
    "\n",
    "    # evaluate the model\n",
    "    accuracy, precision, recall, f1, Y_pred = evaluate_classification_model(svc_gaussian, X_test, Y_test)\n",
    "    return {\n",
    "        CLASSIFIER: 'Gaussian SVM',\n",
    "        HYPERPARAMETER: 'Gamma',\n",
    "        BEST_HYPERPARAMETER: best_gamma,\n",
    "        BEST_SCORE: best_score,\n",
    "        LOWER_BOUND: lower_bound,\n",
    "        UPPER_BOUND: upper_bound,\n",
    "        F1_SCORE: f1,\n",
    "        ACCURACY: accuracy,\n",
    "        PRECISION: precision,\n",
    "        RECALL: recall,\n",
    "        PREDICTION: Y_pred\n",
    "    }\n",
    "\n",
    "def predict_with_SVCPOLYNOMIAL(X_train, X_test, Y_train, Y_test):\n",
    "    # Define the range of values for the hyperparameter to tune\n",
    "    degrees = range(1, 6)\n",
    "    best_degree, best_score, lower_bound, upper_bound = get_best_hyperparam_SVCPolynomial(degrees, X_train, Y_train)\n",
    "\n",
    "    # Train classifier\n",
    "    svc_gaussian = SVC(kernel='poly', degree=best_degree)\n",
    "    svc_gaussian.fit(X_train, Y_train)\n",
    "\n",
    "    # evaluate the model\n",
    "    accuracy, precision, recall, f1, Y_pred = evaluate_classification_model(svc_gaussian, X_test, Y_test)\n",
    "    return {\n",
    "        CLASSIFIER: 'Polynomial SVM',\n",
    "        HYPERPARAMETER: 'Degree',\n",
    "        BEST_HYPERPARAMETER: best_degree,\n",
    "        BEST_SCORE: best_score,\n",
    "        LOWER_BOUND: lower_bound,\n",
    "        UPPER_BOUND: upper_bound,\n",
    "        F1_SCORE: f1,\n",
    "        ACCURACY: accuracy,\n",
    "        PRECISION: precision,\n",
    "        RECALL: recall,\n",
    "        PREDICTION: Y_pred\n",
    "    }"
   ]
  },
  {
   "attachments": {},
   "cell_type": "markdown",
   "metadata": {},
   "source": [
    "---\n",
    "### Prediction results (on test set)\n",
    "---\n",
    "Lets write a general function to display the results in a dataframe"
   ]
  },
  {
   "cell_type": "code",
   "execution_count": 18,
   "metadata": {},
   "outputs": [],
   "source": [
    "import pandas as pd\n",
    "\n",
    "def result_into_df(results):  \n",
    "    df = pd.DataFrame(results)\n",
    "    # Sort the dataframe by the column named BEST_SCORE in descending order\n",
    "    df_sorted = df.sort_values(by=BEST_SCORE, ascending=False)\n",
    "    \n",
    "    # Return the sorted dataframe\n",
    "    return df_sorted"
   ]
  },
  {
   "attachments": {},
   "cell_type": "markdown",
   "metadata": {},
   "source": [
    "We also define a general function to plot the classifed data.\n",
    "\n",
    "`show_monuments_by_label(Y_pred, X_test)`\n",
    "\n",
    "\n",
    "This function creates a scatter plot to display the predicted labels for each monument in the test set. The `Y_pred` parameter is a list of predicted labels for each monument in the `X_test` parameter. The `X_test` parameter is a sparse matrix containing the test data. \n",
    "\n",
    "The function first creates a list of monument names from the sparse matrix using the `vectorizer.inverse_transform` method. It then creates a Pandas DataFrame with the monument names, predicted labels, and their index in the test set. \n",
    "\n",
    "Next, the function creates a dictionary to map each label to a color using the `LABELS_NAMES` global variable. The function creates a scatter plot trace for each label in the dictionary. The `mask` variable is used to filter the DataFrame by the label ID, and the trace is created using the filtered data.\n",
    "\n",
    "The function uses Plotly to create the plot, with each trace represented by a different color."
   ]
  },
  {
   "cell_type": "code",
   "execution_count": 19,
   "metadata": {},
   "outputs": [],
   "source": [
    "import plotly.graph_objects as go\n",
    "import plotly.express as px\n",
    "\n",
    "def show_monuments_by_label(Y_pred, X_test):\n",
    "    # Create a list of monument names\n",
    "    monuments = vectorizer.inverse_transform(X_test)\n",
    "    names = [', '.join(m) for m in monuments]\n",
    "\n",
    "    # Create a data frame with the monument names, their predicted labels, and their index in the test set\n",
    "    df = pd.DataFrame({'Monument': names, 'Label': Y_pred, 'Index': list(range(X_test.shape[0]))})\n",
    "\n",
    "    # Create a dictionary to map labels to colors\n",
    "    label_to_color = {label_name: px.colors.qualitative.Dark24[i] for i, label_name in enumerate(LABELS_NAMES.values())}\n",
    "\n",
    "    # Create a trace for each label\n",
    "    traces = []\n",
    "    for label_id, label_name in LABELS_NAMES.items():\n",
    "        mask = df['Label'] == label_id\n",
    "        traces.append(go.Scatter(x=df.loc[mask, 'Index'], y=[label_name] * mask.sum(),\n",
    "                                 mode='markers',\n",
    "                                 text=df.loc[mask, 'Monument'],\n",
    "                                 hovertemplate='%{text}',\n",
    "                                 marker=dict(size=10, color=label_to_color[label_name]),\n",
    "                                 name='Label {}'.format(label_name)))\n",
    "\n",
    "    # Set the plot title and axis labels\n",
    "    layout = go.Layout(title='Monument Labels',\n",
    "                       xaxis_title='Monument Index',\n",
    "                       yaxis_title='Predicted Label')\n",
    "\n",
    "    # Create the figure and show the plot\n",
    "    fig = go.Figure(data=traces, layout=layout)\n",
    "    fig.show()"
   ]
  },
  {
   "attachments": {},
   "cell_type": "markdown",
   "metadata": {},
   "source": [
    "The `split_data_training_test` function splits the input data and labels into training and testing sets. It uses the `train_test_split` function from the `sklearn.model_selection` module to split the data into training and testing sets. The `test_size` parameter determines the proportion of data that is used for testing.\n",
    "\n",
    "After the data is split, the function fits and transforms the CountVectorizer object on the training data using the `fit_transform` method. The transformed training data is then returned along with the transformed testing data, as well as the corresponding training and testing labels.\n",
    "\n",
    "This function is useful for preparing data for our models."
   ]
  },
  {
   "cell_type": "code",
   "execution_count": 20,
   "metadata": {},
   "outputs": [],
   "source": [
    "from sklearn.model_selection import train_test_split\n",
    "\n",
    "def split_data_training_test(X, labels, test_size=0.3):\n",
    "    X_train, X_test, Y_train, Y_test = train_test_split(X, labels, test_size=test_size, random_state=42)\n",
    "    \n",
    "    # Fit and transform the CountVectorizer on your training data\n",
    "    X_train = vectorizer.fit_transform(X_train)\n",
    "\n",
    "    # Transform the test data using CountVectorizer object\n",
    "    X_test = vectorizer.transform(X_test)\n",
    "    return X_train, X_test, Y_train, Y_test"
   ]
  },
  {
   "attachments": {},
   "cell_type": "markdown",
   "metadata": {},
   "source": [
    "`predict_monuments_class_with_allClassifier()`\n",
    "\n",
    "This function predicts the class labels for the monuments dataset using multiple classifiers. It first prepares the data by calling the `prepare_data()` function, and then splits the data into training and testing sets using `split_data_training_test()`. It then calls the following functions to predict the class labels:\n",
    "- `predict_with_KNN()`\n",
    "- `predict_with_DECISIONTREE()`\n",
    "- `predict_with_MultinomialNB()`\n",
    "- `predict_with_SVCGAUSSIAN()`\n",
    "- `predict_with_SVCPOLYNOMIAL()`\n",
    "\n",
    "The results from each classifier are stored in a list and returned along with the testing data.\n"
   ]
  },
  {
   "cell_type": "code",
   "execution_count": 21,
   "metadata": {},
   "outputs": [],
   "source": [
    "def predict_monuments_class_with_allClassifier():\n",
    "    data, labels = prepare_data(ignore_labels=[13])\n",
    "    X_train, X_test, Y_train, Y_test = split_data_training_test(data, labels)\n",
    "    \n",
    "    results = []\n",
    "    results.append(predict_with_KNN(X_train, X_test, Y_train, Y_test)) \n",
    "    results.append(predict_with_DECISIONTREE(X_train, X_test, Y_train, Y_test))\n",
    "    results.append(predict_with_MultinomialNB(X_train, X_test, Y_train, Y_test))\n",
    "    results.append(predict_with_SVCGAUSSIAN(X_train, X_test, Y_train, Y_test))\n",
    "    results.append(predict_with_SVCPOLYNOMIAL(X_train, X_test, Y_train, Y_test))\n",
    "    \n",
    "    return results, X_test"
   ]
  },
  {
   "attachments": {},
   "cell_type": "markdown",
   "metadata": {},
   "source": [
    "Using the `predict_monuments_class_with_allClassifier()` function to obtain predictions for the test data ny using several classifiers, we then creates a DataFrame with the results using the `result_into_df()` function. \n",
    "\n",
    "The resulting DataFrame `df` contains the predictions of each classifier for each sample in the test set, as well as the best score achieved by each classifier. This DataFrame can be used to compare the performance of different classifiers on the task of predicting monument labels."
   ]
  },
  {
   "cell_type": "code",
   "execution_count": 22,
   "metadata": {},
   "outputs": [
    {
     "data": {
      "text/html": [
       "<div>\n",
       "<style scoped>\n",
       "    .dataframe tbody tr th:only-of-type {\n",
       "        vertical-align: middle;\n",
       "    }\n",
       "\n",
       "    .dataframe tbody tr th {\n",
       "        vertical-align: top;\n",
       "    }\n",
       "\n",
       "    .dataframe thead th {\n",
       "        text-align: right;\n",
       "    }\n",
       "</style>\n",
       "<table border=\"1\" class=\"dataframe\">\n",
       "  <thead>\n",
       "    <tr style=\"text-align: right;\">\n",
       "      <th></th>\n",
       "      <th>Classifier</th>\n",
       "      <th>Hyperparameter</th>\n",
       "      <th>Best Hyperparameter</th>\n",
       "      <th>Best Score</th>\n",
       "      <th>Lower Bound</th>\n",
       "      <th>Upper Bound</th>\n",
       "      <th>F1 Score</th>\n",
       "      <th>Accuracy</th>\n",
       "      <th>Precision</th>\n",
       "      <th>Recall</th>\n",
       "      <th>Prediction</th>\n",
       "    </tr>\n",
       "  </thead>\n",
       "  <tbody>\n",
       "    <tr>\n",
       "      <th>1</th>\n",
       "      <td>Decision tree</td>\n",
       "      <td>Maximum tree depth</td>\n",
       "      <td>11.00</td>\n",
       "      <td>0.999598</td>\n",
       "      <td>0.921327</td>\n",
       "      <td>1.077870</td>\n",
       "      <td>0.999062</td>\n",
       "      <td>0.999062</td>\n",
       "      <td>0.999065</td>\n",
       "      <td>0.999062</td>\n",
       "      <td>[1, 12, 1, 0, 7, 0, 10, 1, 2, 4, 2, 0, 1, 1, 0...</td>\n",
       "    </tr>\n",
       "    <tr>\n",
       "      <th>3</th>\n",
       "      <td>Gaussian SVM</td>\n",
       "      <td>Gamma</td>\n",
       "      <td>0.11</td>\n",
       "      <td>0.997990</td>\n",
       "      <td>0.983652</td>\n",
       "      <td>1.012329</td>\n",
       "      <td>0.999062</td>\n",
       "      <td>0.999062</td>\n",
       "      <td>0.999065</td>\n",
       "      <td>0.999062</td>\n",
       "      <td>[1, 12, 1, 0, 7, 0, 10, 1, 2, 4, 2, 0, 1, 1, 0...</td>\n",
       "    </tr>\n",
       "    <tr>\n",
       "      <th>4</th>\n",
       "      <td>Polynomial SVM</td>\n",
       "      <td>Degree</td>\n",
       "      <td>1.00</td>\n",
       "      <td>0.997990</td>\n",
       "      <td>0.990290</td>\n",
       "      <td>1.005691</td>\n",
       "      <td>0.998135</td>\n",
       "      <td>0.998124</td>\n",
       "      <td>0.998176</td>\n",
       "      <td>0.998124</td>\n",
       "      <td>[1, 12, 1, 0, 7, 0, 10, 1, 2, 4, 2, 0, 1, 1, 0...</td>\n",
       "    </tr>\n",
       "    <tr>\n",
       "      <th>0</th>\n",
       "      <td>K-nearest neighbors</td>\n",
       "      <td>Number of neighbors</td>\n",
       "      <td>4.00</td>\n",
       "      <td>0.993161</td>\n",
       "      <td>0.992583</td>\n",
       "      <td>0.993740</td>\n",
       "      <td>0.995281</td>\n",
       "      <td>0.995310</td>\n",
       "      <td>0.995397</td>\n",
       "      <td>0.995310</td>\n",
       "      <td>[1, 12, 1, 0, 7, 0, 10, 1, 2, 4, 2, 0, 1, 1, 0...</td>\n",
       "    </tr>\n",
       "    <tr>\n",
       "      <th>2</th>\n",
       "      <td>Multinomial NB</td>\n",
       "      <td>Alpha</td>\n",
       "      <td>1.00</td>\n",
       "      <td>0.989140</td>\n",
       "      <td>0.971774</td>\n",
       "      <td>1.006507</td>\n",
       "      <td>0.995123</td>\n",
       "      <td>0.995310</td>\n",
       "      <td>0.995346</td>\n",
       "      <td>0.995310</td>\n",
       "      <td>[1, 12, 1, 0, 7, 0, 10, 1, 2, 4, 2, 0, 1, 1, 0...</td>\n",
       "    </tr>\n",
       "  </tbody>\n",
       "</table>\n",
       "</div>"
      ],
      "text/plain": [
       "            Classifier       Hyperparameter  Best Hyperparameter  Best Score  \\\n",
       "1        Decision tree   Maximum tree depth                11.00    0.999598   \n",
       "3         Gaussian SVM                Gamma                 0.11    0.997990   \n",
       "4       Polynomial SVM               Degree                 1.00    0.997990   \n",
       "0  K-nearest neighbors  Number of neighbors                 4.00    0.993161   \n",
       "2       Multinomial NB                Alpha                 1.00    0.989140   \n",
       "\n",
       "   Lower Bound  Upper Bound  F1 Score  Accuracy  Precision    Recall  \\\n",
       "1     0.921327     1.077870  0.999062  0.999062   0.999065  0.999062   \n",
       "3     0.983652     1.012329  0.999062  0.999062   0.999065  0.999062   \n",
       "4     0.990290     1.005691  0.998135  0.998124   0.998176  0.998124   \n",
       "0     0.992583     0.993740  0.995281  0.995310   0.995397  0.995310   \n",
       "2     0.971774     1.006507  0.995123  0.995310   0.995346  0.995310   \n",
       "\n",
       "                                          Prediction  \n",
       "1  [1, 12, 1, 0, 7, 0, 10, 1, 2, 4, 2, 0, 1, 1, 0...  \n",
       "3  [1, 12, 1, 0, 7, 0, 10, 1, 2, 4, 2, 0, 1, 1, 0...  \n",
       "4  [1, 12, 1, 0, 7, 0, 10, 1, 2, 4, 2, 0, 1, 1, 0...  \n",
       "0  [1, 12, 1, 0, 7, 0, 10, 1, 2, 4, 2, 0, 1, 1, 0...  \n",
       "2  [1, 12, 1, 0, 7, 0, 10, 1, 2, 4, 2, 0, 1, 1, 0...  "
      ]
     },
     "execution_count": 22,
     "metadata": {},
     "output_type": "execute_result"
    }
   ],
   "source": [
    "results, X_test = predict_monuments_class_with_allClassifier()\n",
    "df = result_into_df(results)\n",
    "df"
   ]
  },
  {
   "cell_type": "code",
   "execution_count": 23,
   "metadata": {},
   "outputs": [
    {
     "data": {
      "image/png": "[encoded data removed]",
      "text/plain": [
       "<Figure size 1500x800 with 1 Axes>"
      ]
     },
     "metadata": {},
     "output_type": "display_data"
    }
   ],
   "source": [
    "show_results_plot(results, \"Monuments predictions scores\")"
   ]
  },
  {
   "attachments": {},
   "cell_type": "markdown",
   "metadata": {},
   "source": [
    "This code segment tests the Gaussian SVM classifier on the monuments dataset. \n",
    "\n",
    "It selects the row corresponding to the Gaussian SVM classifier from the results dataframe generated by the `result_into_df()` function. Then, it extracts the predicted labels from this row and passes them along with the test set to the `show_monuments_by_label()` function to visualize the predictions. \n",
    "\n",
    "The visualization plots the predicted labels for each monument in the test set as points on a 2D scatterplot, where each label is assigned a distinct color. "
   ]
  },
  {
   "cell_type": "code",
   "execution_count": 24,
   "metadata": {},
   "outputs": [
    {
     "data": {
      "application/vnd.plotly.v1+json": {
       "config": {
        "plotlyServerURL": "https://plot.ly"
       },
       "data": [
        {
         "hovertemplate": "%{text}",
         "marker": {
          "color": "#2E91E5",
          "size": 10
         },
         "mode": "markers",
         "name": "Label Château",
         "text": [
          "chateau, sall",
          "chateau",
          "chateau, exterieur, interieur, parc",
          "chateau",
          "chateau",
          "chateau",
          "beaum, chateau",
          "chateau",
          "chateau, fort, rest",
          "chateau",
          "chateau",
          "chateau, comt, lancien, rest",
          "chateau, dit, dite, joyeus, tour",
          "ancien, chateau",
          "chateau",
          "chateau",
          "chateau",
          "chateau",
          "chateau",
          "chateau, mott",
          "chateau",
          "chateau",
          "chateau",
          "chateau, fort",
          "ancien, chateau",
          "chateau, saintlaur",
          "chateau",
          "chateau",
          "chateau, parc",
          "chateau",
          "chateau, fort",
          "chateau",
          "chateau",
          "chateau",
          "chateau",
          "chateau",
          "chateau",
          "chateau",
          "barg, chateau",
          "chateau",
          "chateau, fort",
          "chateau",
          "beauvoir, chateau, ruin",
          "chateau",
          "chateau",
          "chateau",
          "chateau",
          "ancien, chateau",
          "chateau",
          "chateau, parc",
          "bourbon, chateau, duc",
          "chateau",
          "chateau",
          "chateau, commun, egal, gatelli",
          "chateau, gard",
          "chateau",
          "chateau",
          "chateau",
          "chateau",
          "ancien, chateau",
          "chateau",
          "chateau",
          "chateau",
          "chateau",
          "chateau",
          "chateau",
          "chateau",
          "chateau",
          "ancien, bruyer, chateau, dit, prieur",
          "chateau, loch",
          "chateau",
          "chateau",
          "chateau, rest",
          "chateau",
          "chateau",
          "chateau",
          "chateau",
          "chateau, palic",
          "ancien, chateau",
          "chateau",
          "chateau",
          "chateau",
          "ancien, chateau",
          "chateau, mercoeur",
          "chateau",
          "chateau",
          "chateau",
          "chateau",
          "chateau",
          "chateau",
          "chateau, roch",
          "chateau",
          "chateau",
          "actuel, chateau, culturel",
          "chateau",
          "chateau",
          "chateau",
          "chateau",
          "chateau",
          "chateau",
          "chateau, domain",
          "chateau",
          "ancien, chateau",
          "ancien, bailli, chateau",
          "chateau",
          "chateau, fort",
          "chateau",
          "chateau, fort",
          "chateau",
          "chateau, fort",
          "chateau, dit, vieux",
          "chateau",
          "chateau, grand",
          "chateau",
          "chateau",
          "chateau",
          "chateau",
          "ancien, chateau",
          "champ, chateau",
          "chateau",
          "chateau",
          "chateau",
          "beauregard, chateau",
          "chateau, fort",
          "bo, chateau",
          "chateau",
          "chateau",
          "chateau",
          "chateau",
          "chateau, fay, fort, vestig",
          "chateau",
          "chateau",
          "chateau",
          "chateau, fort, ruin",
          "ancien, chateau",
          "chateau, dopm",
          "chateau",
          "chateau",
          "chateau, rest",
          "chateau, fort, ruin",
          "chateau",
          "chateau",
          "chateau, ruin",
          "chateau",
          "chateau",
          "buisson, chateau",
          "ancien, chateau, tour",
          "chateau, feodal, rest",
          "chateau",
          "chateau",
          "chateau",
          "chateau",
          "chateau, manoir",
          "chateau",
          "chateau, tour",
          "chateau, domain",
          "chateau",
          "ancien, chateau",
          "chateau",
          "chateau",
          "chateau, rest",
          "chateau",
          "beaumont, chateau",
          "chateau, ruin",
          "chateau",
          "chateau",
          "blanzat, chateau, domain",
          "chateau",
          "chateau",
          "chateau",
          "chateau, land",
          "chateau",
          "chateau",
          "chateau",
          "chateau",
          "chateau",
          "chateau, tour",
          "chateau",
          "ancien, chateau",
          "chateau",
          "chateau",
          "chateau",
          "chateau",
          "ancien, chateau",
          "chateau",
          "chateau",
          "chateau, rest",
          "chateau, sall",
          "chateau, manoir",
          "chateau",
          "chateau, coeur, dit",
          "chateau",
          "chateau",
          "chateau",
          "beauregard, chateau",
          "chateau, roch",
          "ancien, chateau, vieux",
          "chateau",
          "chateau",
          "ancien, chateau",
          "chateau",
          "chateau, dit",
          "chateau, fort",
          "chateau",
          "chateau",
          "chateau",
          "chateau",
          "chateau",
          "chateau",
          "chateau, montplais",
          "chateau",
          "chateau",
          "chateau",
          "chateau",
          "chateau, foret",
          "chateau, ruin",
          "chateau",
          "chateau",
          "chateau, chatelard",
          "chateau",
          "chateau, ensembl, fort, ruin",
          "ancien, chateau",
          "chateau",
          "chateau",
          "chateau, saintcirgu",
          "chateau",
          "chateau, roch, roi",
          "chateau",
          "chateau, saintandr",
          "chateau",
          "chateau",
          "bati, chateau",
          "chateau",
          "chateau",
          "chateau",
          "chateau",
          "chateau",
          "chateau",
          "chateau",
          "chateau",
          "chateau",
          "chateau",
          "chateau",
          "beaumont, chateau",
          "chateau, domain",
          "chateau",
          "chateau",
          "chateau, fort",
          "chateau",
          "chateau",
          "chateau",
          "chateau, commun, egal, vougi",
          "chateau, rest",
          "chateau",
          "chateau, domain",
          "chateau",
          "chateau, jenzat",
          "chateau",
          "chateau, enceint",
          "chateau",
          "ancien, chateau",
          "chateau, fort",
          "chateau"
         ],
         "type": "scatter",
         "x": [
          3,
          5,
          11,
          14,
          15,
          17,
          21,
          23,
          25,
          31,
          35,
          44,
          46,
          47,
          58,
          61,
          67,
          80,
          81,
          85,
          87,
          90,
          97,
          124,
          130,
          133,
          134,
          135,
          143,
          148,
          154,
          155,
          158,
          159,
          160,
          163,
          165,
          169,
          181,
          192,
          194,
          197,
          201,
          204,
          206,
          213,
          214,
          222,
          227,
          232,
          244,
          247,
          250,
          258,
          260,
          261,
          263,
          269,
          271,
          278,
          282,
          285,
          291,
          292,
          294,
          295,
          296,
          297,
          298,
          299,
          301,
          303,
          308,
          309,
          313,
          316,
          317,
          318,
          321,
          322,
          326,
          331,
          337,
          342,
          363,
          369,
          371,
          381,
          382,
          384,
          388,
          389,
          390,
          391,
          392,
          395,
          398,
          404,
          413,
          415,
          416,
          418,
          419,
          423,
          426,
          429,
          449,
          450,
          452,
          456,
          466,
          471,
          473,
          474,
          475,
          484,
          486,
          487,
          491,
          500,
          506,
          507,
          509,
          511,
          518,
          522,
          525,
          526,
          531,
          532,
          533,
          534,
          535,
          536,
          537,
          541,
          546,
          547,
          554,
          556,
          558,
          559,
          563,
          569,
          573,
          586,
          596,
          599,
          602,
          605,
          606,
          607,
          615,
          620,
          623,
          626,
          627,
          635,
          644,
          646,
          649,
          662,
          668,
          672,
          673,
          674,
          678,
          681,
          700,
          701,
          704,
          713,
          714,
          715,
          721,
          724,
          728,
          729,
          730,
          731,
          733,
          740,
          752,
          754,
          757,
          766,
          771,
          775,
          784,
          790,
          801,
          802,
          803,
          805,
          810,
          811,
          817,
          819,
          822,
          823,
          828,
          830,
          832,
          836,
          838,
          839,
          840,
          843,
          845,
          850,
          851,
          862,
          864,
          866,
          871,
          875,
          880,
          881,
          884,
          885,
          888,
          890,
          893,
          895,
          898,
          902,
          905,
          908,
          919,
          923,
          930,
          934,
          940,
          942,
          945,
          948,
          949,
          952,
          958,
          961,
          964,
          965,
          969,
          975,
          976,
          981,
          986,
          991,
          993,
          998,
          1001,
          1020,
          1025,
          1029,
          1030,
          1033,
          1036,
          1042,
          1045,
          1048,
          1055,
          1057,
          1064
         ],
         "y": [
          "Château",
          "Château",
          "Château",
          "Château",
          "Château",
          "Château",
          "Château",
          "Château",
          "Château",
          "Château",
          "Château",
          "Château",
          "Château",
          "Château",
          "Château",
          "Château",
          "Château",
          "Château",
          "Château",
          "Château",
          "Château",
          "Château",
          "Château",
          "Château",
          "Château",
          "Château",
          "Château",
          "Château",
          "Château",
          "Château",
          "Château",
          "Château",
          "Château",
          "Château",
          "Château",
          "Château",
          "Château",
          "Château",
          "Château",
          "Château",
          "Château",
          "Château",
          "Château",
          "Château",
          "Château",
          "Château",
          "Château",
          "Château",
          "Château",
          "Château",
          "Château",
          "Château",
          "Château",
          "Château",
          "Château",
          "Château",
          "Château",
          "Château",
          "Château",
          "Château",
          "Château",
          "Château",
          "Château",
          "Château",
          "Château",
          "Château",
          "Château",
          "Château",
          "Château",
          "Château",
          "Château",
          "Château",
          "Château",
          "Château",
          "Château",
          "Château",
          "Château",
          "Château",
          "Château",
          "Château",
          "Château",
          "Château",
          "Château",
          "Château",
          "Château",
          "Château",
          "Château",
          "Château",
          "Château",
          "Château",
          "Château",
          "Château",
          "Château",
          "Château",
          "Château",
          "Château",
          "Château",
          "Château",
          "Château",
          "Château",
          "Château",
          "Château",
          "Château",
          "Château",
          "Château",
          "Château",
          "Château",
          "Château",
          "Château",
          "Château",
          "Château",
          "Château",
          "Château",
          "Château",
          "Château",
          "Château",
          "Château",
          "Château",
          "Château",
          "Château",
          "Château",
          "Château",
          "Château",
          "Château",
          "Château",
          "Château",
          "Château",
          "Château",
          "Château",
          "Château",
          "Château",
          "Château",
          "Château",
          "Château",
          "Château",
          "Château",
          "Château",
          "Château",
          "Château",
          "Château",
          "Château",
          "Château",
          "Château",
          "Château",
          "Château",
          "Château",
          "Château",
          "Château",
          "Château",
          "Château",
          "Château",
          "Château",
          "Château",
          "Château",
          "Château",
          "Château",
          "Château",
          "Château",
          "Château",
          "Château",
          "Château",
          "Château",
          "Château",
          "Château",
          "Château",
          "Château",
          "Château",
          "Château",
          "Château",
          "Château",
          "Château",
          "Château",
          "Château",
          "Château",
          "Château",
          "Château",
          "Château",
          "Château",
          "Château",
          "Château",
          "Château",
          "Château",
          "Château",
          "Château",
          "Château",
          "Château",
          "Château",
          "Château",
          "Château",
          "Château",
          "Château",
          "Château",
          "Château",
          "Château",
          "Château",
          "Château",
          "Château",
          "Château",
          "Château",
          "Château",
          "Château",
          "Château",
          "Château",
          "Château",
          "Château",
          "Château",
          "Château",
          "Château",
          "Château",
          "Château",
          "Château",
          "Château",
          "Château",
          "Château",
          "Château",
          "Château",
          "Château",
          "Château",
          "Château",
          "Château",
          "Château",
          "Château",
          "Château",
          "Château",
          "Château",
          "Château",
          "Château",
          "Château",
          "Château",
          "Château",
          "Château",
          "Château",
          "Château",
          "Château",
          "Château",
          "Château",
          "Château",
          "Château",
          "Château",
          "Château",
          "Château",
          "Château",
          "Château",
          "Château",
          "Château",
          "Château",
          "Château",
          "Château",
          "Château",
          "Château",
          "Château",
          "Château",
          "Château",
          "Château",
          "Château",
          "Château",
          "Château",
          "Château",
          "Château",
          "Château",
          "Château",
          "Château",
          "Château"
         ]
        },
        {
         "hovertemplate": "%{text}",
         "marker": {
          "color": "#E15F99",
          "size": 10
         },
         "mode": "markers",
         "name": "Label Eglise",
         "text": [
          "eglis, saintdeni",
          "eglis, saintpierreauxlien",
          "ancienn, eglis, saintpaul",
          "eglis, saintbarthelemi",
          "actuel, ancienn, cathedral, eglis, paroissial",
          "eglis, saintblais",
          "eglis, saintmauric",
          "eglis, saintsymphorien",
          "eglis",
          "eglis, saintmartin",
          "eglis, saintpierr",
          "eglis, saintmichel",
          "eglis, saintjulien",
          "eglis, lassompt, notredam",
          "eglis",
          "eglis, saintsebastien",
          "eglis",
          "cimetier, eglis",
          "eglis, saintjeanbaptist",
          "eglis, saintmartin",
          "eglis, saintmarti",
          "eglis",
          "eglis",
          "eglis",
          "eglis, notredam",
          "eglis, sainteagath",
          "eglis",
          "eglis",
          "eglis, saintmarti",
          "eglis, saintbruno",
          "eglis, lancienn, ruin",
          "eglis",
          "eglis, lancienn, saintjean, saintjeanbaptist",
          "eglis",
          "eglis, saintblais",
          "eglis, saintsaturnin",
          "eglis, saintjean",
          "eglis, saintbarthelemi",
          "bourg, eglis, situe",
          "eglis, saintmichel, saintpierr",
          "eglis, sainthippolyt",
          "eglis, paroissial",
          "eglis",
          "eglis",
          "eglis, saintdeni",
          "eglis",
          "ancienn, eglis",
          "eglis",
          "eglis, saintmartin",
          "eglis, saintchristoph",
          "eglis, paroissial",
          "cimetier, eglis",
          "eglis, saintemadelein",
          "eglis",
          "eglis",
          "eglis",
          "eglis, saintjulien",
          "eglis",
          "eglis",
          "eglis, saintbonnet",
          "eglis",
          "eglis, saintmartin",
          "eglis",
          "eglis",
          "eglis",
          "eglis, notredam",
          "eglis, saintpierr",
          "ancienn, eglis, saintpierr",
          "eglis",
          "ancienn, eglis",
          "eglis, saintmartin",
          "eglis",
          "eglis",
          "eglis, saintemadelein",
          "eglis",
          "eglis, saintgeorg",
          "eglis",
          "eglis",
          "eglis, nativit, saint, vierg",
          "eglis, saintpaul",
          "abbatial, eglis, saintpierr",
          "eglis, notredamedesmarai",
          "eglis",
          "eglis, saintcirgu",
          "ancienn, eglis, notredam",
          "eglis",
          "dame, eglis, villard",
          "eglis, saintmartin",
          "eglis, saintmedard",
          "eglis, saintjean",
          "eglis, saintmari",
          "eglis, saintpierr",
          "eglis, notredam",
          "eglis",
          "eglis, paroissial, saintjulien",
          "eglis, saintpierr",
          "eglis, saintpierr",
          "eglis, saintaignan",
          "eglis, saintmartin",
          "eglis, saintmartin",
          "eglis, notredam",
          "eglis, nativit, saint, vierg",
          "eglis, saintefoy",
          "eglis, notredam",
          "eglis, saintandr",
          "eglis",
          "eglis, lassompt, notredam",
          "carm, eglis",
          "eglis, saintvinc",
          "abbatial, ancienn, eglis, saintemari",
          "eglis, saintandr",
          "eglis, saintnicola",
          "eglis",
          "eglis, saintbarthelemi",
          "eglis, saintjeanbaptist",
          "ancienn, eglis",
          "eglis, paroissial",
          "eglis, saintvinc",
          "eglis, notredam",
          "eglis",
          "eglis",
          "eglis",
          "eglis, saintjeanbaptist",
          "croix, eglis",
          "eglis, vend",
          "eglis, saintetienn",
          "eglis",
          "eglis, saintgeorg",
          "eglis",
          "eglis, saintsaturnin",
          "eglis, saintbonnet",
          "eglis, saintcyr",
          "eglis",
          "eglis",
          "eglis, sainthilair",
          "eglis, saintsymphorien",
          "eglis, saintprivat",
          "eglis, notredam",
          "eglis, saintpaul",
          "eglis, paroissial",
          "eglis",
          "eglis, saintmartin",
          "eglis, saintmartin",
          "eglis, saintjulien",
          "eglis",
          "chateau, eglis, fort, marchidi, saintjean",
          "eglis, saintandeol",
          "eglis, saintpierr",
          "eglis, saintetienn",
          "eglis",
          "eglis, saintpatrocl",
          "eglis, nativit, vierg",
          "eglis",
          "eglis",
          "eglis",
          "eglis, saintsulpic",
          "eglis, saintmauric",
          "eglis",
          "eglis, saintvictor",
          "eglis",
          "eglis",
          "collegial, eglis",
          "eglis, saintpierr",
          "eglis",
          "eglis",
          "eglis, saintavit",
          "ancienn, eglis, notredam, paroissial",
          "eglis, saintjulien",
          "eglis, notredam",
          "eglis",
          "eglis, saintsymphorien",
          "abbatial, ancienn, eglis",
          "eglis, saintpierr",
          "eglis, saintjulien",
          "eglis, notredam",
          "eglis, saintmartin",
          "eglis, notredam",
          "eglis",
          "eglis",
          "eglis, saintbeauzir",
          "eglis, saintsulpic",
          "eglis, saintetienn",
          "eglis, saintvit",
          "eglis",
          "eglis",
          "eglis, saintaustremoin",
          "eglis",
          "eglis, saintsebastien",
          "ancien, ancienn, eglis, presbyter",
          "eglis, saintpierr",
          "eglis",
          "clastr, eglis",
          "eglis",
          "eglis, saintjean",
          "eglis",
          "eglis, saintpierr",
          "eglis, saintjeanbaptist",
          "eglis, saintjeanbaptist",
          "eglis, lassompt, notredam",
          "eglis, saintsaturnin",
          "eglis",
          "eglis",
          "eglis, saintblais",
          "eglis",
          "eglis, saintmartin",
          "eglis",
          "eglis",
          "eglis, saintetienn",
          "eglis, saintecroix",
          "eglis, saintsulpic",
          "eglis",
          "eglis, saintmartin",
          "carm, eglis",
          "eglis, saintmauric",
          "eglis, lassompt, notredam",
          "eglis, saintvictor",
          "eglis",
          "eglis, saintmartin",
          "eglis",
          "eglis",
          "bourg, eglis, saintferreol, situe",
          "eglis",
          "eglis",
          "eglis, saintbonnet",
          "eglis, lassompt, notredam",
          "eglis, notredam",
          "eglis",
          "eglis, notredam",
          "eglis",
          "eglis",
          "eglis",
          "eglis",
          "eglis, saintleg",
          "eglis, saintdidi",
          "eglis",
          "eglis, saintpierr",
          "eglis, saintmauric",
          "abbatial, eglis",
          "eglis, saintleg",
          "eglis, sainteagath",
          "eglis",
          "conflan, eglis",
          "eglis",
          "eglis, saintjulien",
          "eglis",
          "eglis",
          "collegial, eglis, notredam",
          "eglis, saintmathieu",
          "eglis, notredam",
          "eglis, saintmartin",
          "eglis, lassompt, notredam",
          "eglis, leignecq",
          "eglis",
          "eglis",
          "eglis, saintpierr",
          "eglis, saintnicola",
          "eglis",
          "eglis",
          "eglis, saintremi",
          "ancienn, eglis, hameau, saintpaul",
          "ancienn, eglis, notredam, paroissial",
          "ancienn, eglis, notredam",
          "eglis, saintjeanbaptist",
          "eglis, saintjeanbaptist",
          "eglis, lassompt, notredam",
          "eglis",
          "eglis",
          "eglis, saintmartin",
          "ancienn, eglis, saintandr",
          "eglis",
          "eglis, notredam",
          "eglis",
          "eglis, saintroch",
          "eglis",
          "eglis, saintlaur",
          "ancienn, eglis, saintjean",
          "eglis, saintpierreauxlien",
          "eglis, rest",
          "eglis, sainthilair",
          "eglis, saintjoseph",
          "eglis, saintcyr, saintejulitt",
          "eglis, saintmauric",
          "eglis, saintandr",
          "eglis, saintpierr",
          "eglis",
          "eglis",
          "ancienn, eglis, saintjulien",
          "eglis, paroissial, saintbonnet"
         ],
         "type": "scatter",
         "x": [
          0,
          2,
          7,
          12,
          13,
          19,
          24,
          27,
          32,
          33,
          37,
          43,
          45,
          48,
          49,
          52,
          57,
          62,
          63,
          64,
          65,
          66,
          70,
          73,
          77,
          82,
          83,
          86,
          94,
          96,
          98,
          101,
          102,
          103,
          109,
          113,
          115,
          122,
          127,
          129,
          131,
          136,
          139,
          147,
          152,
          161,
          170,
          174,
          178,
          185,
          186,
          190,
          191,
          193,
          195,
          196,
          199,
          202,
          205,
          207,
          210,
          211,
          215,
          216,
          219,
          229,
          234,
          236,
          238,
          245,
          249,
          251,
          254,
          264,
          266,
          273,
          279,
          284,
          289,
          293,
          300,
          312,
          319,
          320,
          327,
          329,
          334,
          335,
          336,
          338,
          339,
          343,
          346,
          347,
          351,
          353,
          355,
          356,
          357,
          359,
          360,
          365,
          370,
          373,
          374,
          375,
          377,
          379,
          385,
          386,
          394,
          400,
          401,
          403,
          405,
          408,
          410,
          412,
          414,
          417,
          420,
          424,
          425,
          428,
          430,
          432,
          435,
          436,
          437,
          439,
          442,
          443,
          446,
          447,
          448,
          453,
          455,
          457,
          462,
          468,
          470,
          481,
          490,
          497,
          501,
          510,
          512,
          528,
          529,
          530,
          538,
          539,
          540,
          542,
          545,
          560,
          562,
          564,
          572,
          574,
          575,
          577,
          578,
          580,
          583,
          585,
          587,
          588,
          589,
          590,
          592,
          595,
          608,
          610,
          612,
          614,
          621,
          622,
          624,
          630,
          636,
          637,
          640,
          643,
          650,
          651,
          652,
          656,
          657,
          667,
          669,
          671,
          675,
          682,
          683,
          685,
          688,
          689,
          692,
          695,
          703,
          707,
          717,
          720,
          722,
          725,
          727,
          732,
          737,
          738,
          749,
          750,
          753,
          755,
          758,
          768,
          769,
          773,
          780,
          782,
          783,
          786,
          787,
          792,
          795,
          796,
          806,
          809,
          818,
          821,
          824,
          825,
          829,
          831,
          833,
          835,
          844,
          853,
          855,
          861,
          868,
          873,
          876,
          879,
          889,
          891,
          897,
          903,
          910,
          916,
          922,
          924,
          928,
          933,
          936,
          939,
          946,
          953,
          963,
          972,
          978,
          979,
          985,
          987,
          988,
          999,
          1000,
          1002,
          1003,
          1006,
          1007,
          1009,
          1010,
          1017,
          1019,
          1024,
          1026,
          1027,
          1031,
          1039,
          1041,
          1050,
          1053,
          1054,
          1059,
          1062,
          1063,
          1065
         ],
         "y": [
          "Eglise",
          "Eglise",
          "Eglise",
          "Eglise",
          "Eglise",
          "Eglise",
          "Eglise",
          "Eglise",
          "Eglise",
          "Eglise",
          "Eglise",
          "Eglise",
          "Eglise",
          "Eglise",
          "Eglise",
          "Eglise",
          "Eglise",
          "Eglise",
          "Eglise",
          "Eglise",
          "Eglise",
          "Eglise",
          "Eglise",
          "Eglise",
          "Eglise",
          "Eglise",
          "Eglise",
          "Eglise",
          "Eglise",
          "Eglise",
          "Eglise",
          "Eglise",
          "Eglise",
          "Eglise",
          "Eglise",
          "Eglise",
          "Eglise",
          "Eglise",
          "Eglise",
          "Eglise",
          "Eglise",
          "Eglise",
          "Eglise",
          "Eglise",
          "Eglise",
          "Eglise",
          "Eglise",
          "Eglise",
          "Eglise",
          "Eglise",
          "Eglise",
          "Eglise",
          "Eglise",
          "Eglise",
          "Eglise",
          "Eglise",
          "Eglise",
          "Eglise",
          "Eglise",
          "Eglise",
          "Eglise",
          "Eglise",
          "Eglise",
          "Eglise",
          "Eglise",
          "Eglise",
          "Eglise",
          "Eglise",
          "Eglise",
          "Eglise",
          "Eglise",
          "Eglise",
          "Eglise",
          "Eglise",
          "Eglise",
          "Eglise",
          "Eglise",
          "Eglise",
          "Eglise",
          "Eglise",
          "Eglise",
          "Eglise",
          "Eglise",
          "Eglise",
          "Eglise",
          "Eglise",
          "Eglise",
          "Eglise",
          "Eglise",
          "Eglise",
          "Eglise",
          "Eglise",
          "Eglise",
          "Eglise",
          "Eglise",
          "Eglise",
          "Eglise",
          "Eglise",
          "Eglise",
          "Eglise",
          "Eglise",
          "Eglise",
          "Eglise",
          "Eglise",
          "Eglise",
          "Eglise",
          "Eglise",
          "Eglise",
          "Eglise",
          "Eglise",
          "Eglise",
          "Eglise",
          "Eglise",
          "Eglise",
          "Eglise",
          "Eglise",
          "Eglise",
          "Eglise",
          "Eglise",
          "Eglise",
          "Eglise",
          "Eglise",
          "Eglise",
          "Eglise",
          "Eglise",
          "Eglise",
          "Eglise",
          "Eglise",
          "Eglise",
          "Eglise",
          "Eglise",
          "Eglise",
          "Eglise",
          "Eglise",
          "Eglise",
          "Eglise",
          "Eglise",
          "Eglise",
          "Eglise",
          "Eglise",
          "Eglise",
          "Eglise",
          "Eglise",
          "Eglise",
          "Eglise",
          "Eglise",
          "Eglise",
          "Eglise",
          "Eglise",
          "Eglise",
          "Eglise",
          "Eglise",
          "Eglise",
          "Eglise",
          "Eglise",
          "Eglise",
          "Eglise",
          "Eglise",
          "Eglise",
          "Eglise",
          "Eglise",
          "Eglise",
          "Eglise",
          "Eglise",
          "Eglise",
          "Eglise",
          "Eglise",
          "Eglise",
          "Eglise",
          "Eglise",
          "Eglise",
          "Eglise",
          "Eglise",
          "Eglise",
          "Eglise",
          "Eglise",
          "Eglise",
          "Eglise",
          "Eglise",
          "Eglise",
          "Eglise",
          "Eglise",
          "Eglise",
          "Eglise",
          "Eglise",
          "Eglise",
          "Eglise",
          "Eglise",
          "Eglise",
          "Eglise",
          "Eglise",
          "Eglise",
          "Eglise",
          "Eglise",
          "Eglise",
          "Eglise",
          "Eglise",
          "Eglise",
          "Eglise",
          "Eglise",
          "Eglise",
          "Eglise",
          "Eglise",
          "Eglise",
          "Eglise",
          "Eglise",
          "Eglise",
          "Eglise",
          "Eglise",
          "Eglise",
          "Eglise",
          "Eglise",
          "Eglise",
          "Eglise",
          "Eglise",
          "Eglise",
          "Eglise",
          "Eglise",
          "Eglise",
          "Eglise",
          "Eglise",
          "Eglise",
          "Eglise",
          "Eglise",
          "Eglise",
          "Eglise",
          "Eglise",
          "Eglise",
          "Eglise",
          "Eglise",
          "Eglise",
          "Eglise",
          "Eglise",
          "Eglise",
          "Eglise",
          "Eglise",
          "Eglise",
          "Eglise",
          "Eglise",
          "Eglise",
          "Eglise",
          "Eglise",
          "Eglise",
          "Eglise",
          "Eglise",
          "Eglise",
          "Eglise",
          "Eglise",
          "Eglise",
          "Eglise",
          "Eglise",
          "Eglise",
          "Eglise",
          "Eglise",
          "Eglise",
          "Eglise",
          "Eglise",
          "Eglise",
          "Eglise",
          "Eglise",
          "Eglise",
          "Eglise",
          "Eglise",
          "Eglise",
          "Eglise",
          "Eglise",
          "Eglise",
          "Eglise",
          "Eglise",
          "Eglise",
          "Eglise",
          "Eglise",
          "Eglise",
          "Eglise",
          "Eglise",
          "Eglise",
          "Eglise",
          "Eglise",
          "Eglise",
          "Eglise",
          "Eglise",
          "Eglise",
          "Eglise",
          "Eglise",
          "Eglise",
          "Eglise",
          "Eglise",
          "Eglise"
         ]
        },
        {
         "hovertemplate": "%{text}",
         "marker": {
          "color": "#1CA71C",
          "size": 10
         },
         "mode": "markers",
         "name": "Label Maison",
         "text": [
          "dite, ecol, maison",
          "maison",
          "maison",
          "maison",
          "maison",
          "maison, port",
          "bailli, maison",
          "dit, maison",
          "maison",
          "maison",
          "maison",
          "maison",
          "maison",
          "maison",
          "maison",
          "dite, maison",
          "maison",
          "maison",
          "boi, maison, pan",
          "maison",
          "maison",
          "maison",
          "hotel, maison",
          "maison",
          "ancienn, maison",
          "flacher, maison",
          "maison",
          "maison",
          "17e, maison, siecl",
          "maison",
          "maison",
          "maison",
          "ancienn, maison",
          "maison",
          "maison",
          "dite, maison",
          "maison",
          "maison",
          "echauguett, maison",
          "maison",
          "maison, rivoir",
          "maison",
          "maison, montferrand",
          "maison",
          "ancienn, maison",
          "maison",
          "maison",
          "maison, pont, publiqu",
          "chartreus, chateau, depend, dite, lancienn, maison",
          "maison",
          "maison",
          "ancienn, maison",
          "maison",
          "boi, maison, pan",
          "maison, montferrand",
          "maison",
          "maison",
          "chateau, fort, maison",
          "grand, guiersmort, logi, maison, pont",
          "maison",
          "maison",
          "maison, rest",
          "maison",
          "deux, maison",
          "maison",
          "maison",
          "maison",
          "dite, maison",
          "gouverneur, maison",
          "atten, dit, immeubl, maison, rempart",
          "maison",
          "ancienn, chartreus, maison",
          "maison",
          "maison",
          "maison",
          "fondat, maison",
          "maison, tourel",
          "maison",
          "dite, maison",
          "maison",
          "maison",
          "maison",
          "maison",
          "dite, maison",
          "maison",
          "maison",
          "face, maison, port, sise",
          "dite, maison, romain, therm, vestig",
          "boi, maison, pan",
          "maison",
          "maison",
          "maison",
          "maison",
          "maison, montferrand",
          "maison",
          "maison",
          "boi, maison, pan",
          "maison",
          "maison",
          "maison",
          "castel, dite, maison",
          "maison",
          "maison",
          "maison",
          "maison",
          "maison",
          "maison",
          "loui, maison",
          "boi, maison, pan",
          "boi, maison, pan",
          "maison, montferrand",
          "dite, maison",
          "maison, montferrand",
          "ancien, maison, oratoir",
          "maison",
          "maison",
          "maison",
          "maison",
          "maison",
          "maison",
          "maison",
          "boi, leglis, maison, nord, pan",
          "maison",
          "maison",
          "maison",
          "maison",
          "maison",
          "maison",
          "arcad, maison",
          "maison",
          "16e, maison, siecl",
          "maison",
          "atten, dit, maison, rempart",
          "maison, montferrand",
          "maison",
          "maison",
          "maison",
          "gouverneur, maison",
          "dite, lafarg, maison, tourel",
          "consul, maison",
          "dit, immeubl, maison",
          "castel, dite, maison",
          "dite, maison",
          "fort, maison",
          "maison",
          "maison",
          "maison",
          "maison, montferrand",
          "maison",
          "maison",
          "maison",
          "maison",
          "maison",
          "maison",
          "maison",
          "maison",
          "maison",
          "maison",
          "maison",
          "maison",
          "maison",
          "maison",
          "maison, montferrand",
          "castel, maison",
          "maison",
          "maison",
          "maison",
          "bailliag, maison",
          "maison",
          "ancienn, dite, maison",
          "maison",
          "maison",
          "ancienn, doyenn, maison",
          "boi, dite, logi, maison, pan",
          "maison",
          "maison, montferrand",
          "chalet, dite, maison",
          "maison",
          "face, maison",
          "maison, montferrand",
          "maison",
          "maison, notredam",
          "maison",
          "16e, maison, siecl",
          "maison",
          "maison, meme",
          "maison",
          "maison",
          "maison",
          "maison"
         ],
         "type": "scatter",
         "x": [
          8,
          10,
          18,
          20,
          22,
          26,
          36,
          38,
          41,
          50,
          56,
          69,
          72,
          74,
          75,
          78,
          79,
          88,
          93,
          100,
          104,
          107,
          108,
          110,
          114,
          116,
          119,
          121,
          126,
          138,
          141,
          142,
          145,
          149,
          150,
          151,
          156,
          162,
          168,
          175,
          184,
          187,
          189,
          212,
          217,
          218,
          223,
          224,
          228,
          235,
          240,
          256,
          262,
          265,
          272,
          276,
          277,
          280,
          281,
          286,
          288,
          306,
          307,
          314,
          315,
          330,
          348,
          350,
          354,
          366,
          368,
          372,
          383,
          396,
          402,
          406,
          409,
          422,
          427,
          431,
          433,
          441,
          444,
          454,
          458,
          461,
          463,
          467,
          472,
          479,
          482,
          483,
          488,
          489,
          492,
          505,
          508,
          514,
          516,
          517,
          519,
          523,
          524,
          544,
          553,
          557,
          567,
          568,
          570,
          571,
          593,
          594,
          604,
          611,
          616,
          625,
          628,
          629,
          631,
          633,
          634,
          638,
          641,
          647,
          653,
          655,
          666,
          670,
          679,
          686,
          690,
          691,
          698,
          699,
          708,
          710,
          711,
          716,
          719,
          735,
          736,
          741,
          743,
          746,
          747,
          751,
          759,
          760,
          765,
          767,
          781,
          785,
          791,
          813,
          816,
          820,
          846,
          854,
          856,
          858,
          867,
          872,
          874,
          878,
          886,
          894,
          904,
          907,
          911,
          912,
          921,
          926,
          929,
          932,
          935,
          937,
          938,
          941,
          944,
          947,
          962,
          974,
          977,
          983,
          984,
          997,
          1004,
          1040,
          1047,
          1051
         ],
         "y": [
          "Maison",
          "Maison",
          "Maison",
          "Maison",
          "Maison",
          "Maison",
          "Maison",
          "Maison",
          "Maison",
          "Maison",
          "Maison",
          "Maison",
          "Maison",
          "Maison",
          "Maison",
          "Maison",
          "Maison",
          "Maison",
          "Maison",
          "Maison",
          "Maison",
          "Maison",
          "Maison",
          "Maison",
          "Maison",
          "Maison",
          "Maison",
          "Maison",
          "Maison",
          "Maison",
          "Maison",
          "Maison",
          "Maison",
          "Maison",
          "Maison",
          "Maison",
          "Maison",
          "Maison",
          "Maison",
          "Maison",
          "Maison",
          "Maison",
          "Maison",
          "Maison",
          "Maison",
          "Maison",
          "Maison",
          "Maison",
          "Maison",
          "Maison",
          "Maison",
          "Maison",
          "Maison",
          "Maison",
          "Maison",
          "Maison",
          "Maison",
          "Maison",
          "Maison",
          "Maison",
          "Maison",
          "Maison",
          "Maison",
          "Maison",
          "Maison",
          "Maison",
          "Maison",
          "Maison",
          "Maison",
          "Maison",
          "Maison",
          "Maison",
          "Maison",
          "Maison",
          "Maison",
          "Maison",
          "Maison",
          "Maison",
          "Maison",
          "Maison",
          "Maison",
          "Maison",
          "Maison",
          "Maison",
          "Maison",
          "Maison",
          "Maison",
          "Maison",
          "Maison",
          "Maison",
          "Maison",
          "Maison",
          "Maison",
          "Maison",
          "Maison",
          "Maison",
          "Maison",
          "Maison",
          "Maison",
          "Maison",
          "Maison",
          "Maison",
          "Maison",
          "Maison",
          "Maison",
          "Maison",
          "Maison",
          "Maison",
          "Maison",
          "Maison",
          "Maison",
          "Maison",
          "Maison",
          "Maison",
          "Maison",
          "Maison",
          "Maison",
          "Maison",
          "Maison",
          "Maison",
          "Maison",
          "Maison",
          "Maison",
          "Maison",
          "Maison",
          "Maison",
          "Maison",
          "Maison",
          "Maison",
          "Maison",
          "Maison",
          "Maison",
          "Maison",
          "Maison",
          "Maison",
          "Maison",
          "Maison",
          "Maison",
          "Maison",
          "Maison",
          "Maison",
          "Maison",
          "Maison",
          "Maison",
          "Maison",
          "Maison",
          "Maison",
          "Maison",
          "Maison",
          "Maison",
          "Maison",
          "Maison",
          "Maison",
          "Maison",
          "Maison",
          "Maison",
          "Maison",
          "Maison",
          "Maison",
          "Maison",
          "Maison",
          "Maison",
          "Maison",
          "Maison",
          "Maison",
          "Maison",
          "Maison",
          "Maison",
          "Maison",
          "Maison",
          "Maison",
          "Maison",
          "Maison",
          "Maison",
          "Maison",
          "Maison",
          "Maison",
          "Maison",
          "Maison",
          "Maison",
          "Maison",
          "Maison",
          "Maison",
          "Maison",
          "Maison",
          "Maison",
          "Maison",
          "Maison",
          "Maison",
          "Maison"
         ]
        },
        {
         "hovertemplate": "%{text}",
         "marker": {
          "color": "#FB0D0D",
          "size": 10
         },
         "mode": "markers",
         "name": "Label Viaduc",
         "text": [
          "commun, egal, sumen, viaduc",
          "viaduc",
          "boubl, viaduc",
          "commun, egal, viaduc",
          "begu, commun, egal, viaduc",
          "bellon, viaduc"
         ],
         "type": "scatter",
         "x": [
          42,
          198,
          387,
          478,
          764,
          980
         ],
         "y": [
          "Viaduc",
          "Viaduc",
          "Viaduc",
          "Viaduc",
          "Viaduc",
          "Viaduc"
         ]
        },
        {
         "hovertemplate": "%{text}",
         "marker": {
          "color": "#DA16FF",
          "size": 10
         },
         "mode": "markers",
         "name": "Label Croix",
         "text": [
          "croix",
          "16e, chemin, croix, siecl",
          "chemin, croix",
          "buisson, chemin, croix, dite",
          "croix, pierr",
          "carrefour, croix",
          "ancienn, cimetier, croix",
          "15e, croix, fer, siecl",
          "chemin, croix, dite, roug",
          "croix",
          "croix",
          "croix",
          "chemin, croix, dit, grand",
          "carrefour, croix",
          "14e, croix, pierr, siecl",
          "chemin, croix, dite",
          "15e, croix, pierr, siecl",
          "16e, croix, siecl",
          "14e, croix, pierr, siecl",
          "16e, croix, pierr, siecl",
          "chemin, croix",
          "croix",
          "16e, chemin, croix, siecl",
          "15e, carrefour, croix, dite, siecl",
          "croix",
          "croix, marchidi",
          "croix",
          "cimetier, croix",
          "croix",
          "croix",
          "16e, croix, pierr, siecl",
          "chemin, croix",
          "croix, date, pierr",
          "16e, croix, leglis, place, siecl",
          "carrefour, croix",
          "croix",
          "chemin, croix, hameau, pierr",
          "chemin, croix",
          "croix",
          "chemin, croix, situe",
          "croix, leglis",
          "15e, croix, leglis, pierr, siecl",
          "chemin, croix",
          "chemin, croix",
          "croix, pierr",
          "chemin, croix, hameau",
          "chemin, cimetier, croix, lancien, pierr",
          "croix, saintjust",
          "croix, date"
         ],
         "type": "scatter",
         "x": [
          9,
          60,
          89,
          118,
          137,
          140,
          153,
          172,
          176,
          180,
          203,
          208,
          220,
          246,
          267,
          290,
          310,
          345,
          376,
          465,
          499,
          502,
          521,
          550,
          597,
          654,
          660,
          687,
          697,
          723,
          739,
          742,
          797,
          815,
          837,
          842,
          865,
          887,
          892,
          951,
          955,
          973,
          996,
          1012,
          1013,
          1023,
          1037,
          1038,
          1044
         ],
         "y": [
          "Croix",
          "Croix",
          "Croix",
          "Croix",
          "Croix",
          "Croix",
          "Croix",
          "Croix",
          "Croix",
          "Croix",
          "Croix",
          "Croix",
          "Croix",
          "Croix",
          "Croix",
          "Croix",
          "Croix",
          "Croix",
          "Croix",
          "Croix",
          "Croix",
          "Croix",
          "Croix",
          "Croix",
          "Croix",
          "Croix",
          "Croix",
          "Croix",
          "Croix",
          "Croix",
          "Croix",
          "Croix",
          "Croix",
          "Croix",
          "Croix",
          "Croix",
          "Croix",
          "Croix",
          "Croix",
          "Croix",
          "Croix",
          "Croix",
          "Croix",
          "Croix",
          "Croix",
          "Croix",
          "Croix",
          "Croix",
          "Croix"
         ]
        },
        {
         "hovertemplate": "%{text}",
         "marker": {
          "color": "#222A2A",
          "size": 10
         },
         "mode": "markers",
         "name": "Label Chapelle",
         "text": [
          "chapel",
          "chapel, notredam, ruin",
          "chapel, saintgervai",
          "chalet, chapel, pelerinag, saintemadelein",
          "chapel, cimetier",
          "ancienn, chapel",
          "chapel",
          "chapel",
          "chapel",
          "chapel, eglis, oratoir",
          "actuel, ancienn, chapel",
          "chapel, rest",
          "chapel, saintantoin",
          "chapel",
          "chapel, saintbonnet",
          "chapel, cimetier",
          "chapel",
          "actuel, ancienn, capucin, chapel, depend, direct",
          "ancienn, chapel, eglis, saintgeorg",
          "ancienn, chapel",
          "chapel",
          "chapel",
          "ancienn, chapel, saintgeorg",
          "chapel",
          "ancienn, chapel, saintemadelein",
          "chapel",
          "chapel, penit",
          "ancienn, chapel",
          "chapel, saintpolycarp",
          "ancienn, chapel",
          "chapel",
          "chapel, cimetier",
          "ancienn, baum, chapel, funerair",
          "chapel",
          "chapel",
          "chapel",
          "chapel",
          "chapel, saintloui",
          "chapel",
          "chapel, tour",
          "chapel, ruin",
          "chapel, sainteclair",
          "chapel, sainteagath",
          "chapel",
          "chapel",
          "chapel",
          "chapel",
          "chapel",
          "chapel, notredamedesgrac",
          "ancienn, chapel, sainteclair",
          "ancienn, chapel, couvent, jacobin",
          "chapel, saintsulpic",
          "chapel, flain, situe",
          "chapel",
          "ancienn, chapel, peag, saintjeanbaptist",
          "chapel",
          "chapel, saintsulpic",
          "chapel, penit",
          "chapel, penit, pradel",
          "chapel",
          "chapel, notredam",
          "chapel, saintchristoph",
          "chapel",
          "ancienn, chapel, dite, notredamedepiti, penit, tour"
         ],
         "type": "scatter",
         "x": [
          16,
          39,
          51,
          55,
          59,
          71,
          106,
          111,
          177,
          182,
          221,
          225,
          226,
          230,
          237,
          259,
          274,
          275,
          283,
          287,
          311,
          352,
          393,
          434,
          445,
          459,
          464,
          469,
          493,
          494,
          503,
          552,
          555,
          576,
          603,
          663,
          664,
          665,
          684,
          696,
          709,
          718,
          762,
          772,
          777,
          798,
          807,
          814,
          834,
          857,
          859,
          896,
          899,
          913,
          915,
          927,
          957,
          967,
          994,
          1014,
          1021,
          1035,
          1046,
          1049
         ],
         "y": [
          "Chapelle",
          "Chapelle",
          "Chapelle",
          "Chapelle",
          "Chapelle",
          "Chapelle",
          "Chapelle",
          "Chapelle",
          "Chapelle",
          "Chapelle",
          "Chapelle",
          "Chapelle",
          "Chapelle",
          "Chapelle",
          "Chapelle",
          "Chapelle",
          "Chapelle",
          "Chapelle",
          "Chapelle",
          "Chapelle",
          "Chapelle",
          "Chapelle",
          "Chapelle",
          "Chapelle",
          "Chapelle",
          "Chapelle",
          "Chapelle",
          "Chapelle",
          "Chapelle",
          "Chapelle",
          "Chapelle",
          "Chapelle",
          "Chapelle",
          "Chapelle",
          "Chapelle",
          "Chapelle",
          "Chapelle",
          "Chapelle",
          "Chapelle",
          "Chapelle",
          "Chapelle",
          "Chapelle",
          "Chapelle",
          "Chapelle",
          "Chapelle",
          "Chapelle",
          "Chapelle",
          "Chapelle",
          "Chapelle",
          "Chapelle",
          "Chapelle",
          "Chapelle",
          "Chapelle",
          "Chapelle",
          "Chapelle",
          "Chapelle",
          "Chapelle",
          "Chapelle",
          "Chapelle",
          "Chapelle",
          "Chapelle",
          "Chapelle",
          "Chapelle",
          "Chapelle"
         ]
        },
        {
         "hovertemplate": "%{text}",
         "marker": {
          "color": "#B68100",
          "size": 10
         },
         "mode": "markers",
         "name": "Label Immeuble",
         "text": [
          "immeubl",
          "chalet, dit, immeubl",
          "immeubl",
          "immeubl",
          "immeubl",
          "immeubl",
          "atten, immeubl, rempart",
          "immeubl",
          "atten, immeubl, rempart",
          "immeubl",
          "immeubl",
          "immeubl",
          "immeubl",
          "immeubl",
          "immeubl",
          "immeubl",
          "immeubl",
          "immeubl",
          "immeubl",
          "immeubl",
          "immeubl",
          "immeubl",
          "immeubl",
          "immeubl",
          "immeubl",
          "immeubl",
          "immeubl",
          "immeubl",
          "immeubl",
          "immeubl",
          "immeubl",
          "actuel, immeubl, sieg",
          "immeubl",
          "immeubl",
          "immeubl",
          "immeubl",
          "immeubl",
          "immeubl",
          "dit, immeubl",
          "immeubl",
          "dit, immeubl, logi",
          "immeubl",
          "immeubl",
          "immeubl",
          "cathedral, clocher, dit, immeubl",
          "immeubl",
          "immeubl",
          "immeubl",
          "immeubl, montferrand",
          "immeubl",
          "immeubl",
          "immeubl, situ",
          "immeubl",
          "immeubl",
          "immeubl",
          "immeubl",
          "immeubl",
          "immeubl",
          "immeubl"
         ],
         "type": "scatter",
         "x": [
          4,
          28,
          29,
          34,
          84,
          91,
          157,
          167,
          171,
          183,
          209,
          233,
          241,
          243,
          248,
          252,
          302,
          304,
          305,
          325,
          328,
          397,
          411,
          438,
          476,
          477,
          495,
          504,
          515,
          561,
          582,
          613,
          645,
          659,
          676,
          677,
          706,
          726,
          744,
          745,
          770,
          778,
          848,
          852,
          860,
          906,
          920,
          931,
          950,
          954,
          960,
          970,
          982,
          992,
          1011,
          1018,
          1034,
          1058,
          1061
         ],
         "y": [
          "Immeuble",
          "Immeuble",
          "Immeuble",
          "Immeuble",
          "Immeuble",
          "Immeuble",
          "Immeuble",
          "Immeuble",
          "Immeuble",
          "Immeuble",
          "Immeuble",
          "Immeuble",
          "Immeuble",
          "Immeuble",
          "Immeuble",
          "Immeuble",
          "Immeuble",
          "Immeuble",
          "Immeuble",
          "Immeuble",
          "Immeuble",
          "Immeuble",
          "Immeuble",
          "Immeuble",
          "Immeuble",
          "Immeuble",
          "Immeuble",
          "Immeuble",
          "Immeuble",
          "Immeuble",
          "Immeuble",
          "Immeuble",
          "Immeuble",
          "Immeuble",
          "Immeuble",
          "Immeuble",
          "Immeuble",
          "Immeuble",
          "Immeuble",
          "Immeuble",
          "Immeuble",
          "Immeuble",
          "Immeuble",
          "Immeuble",
          "Immeuble",
          "Immeuble",
          "Immeuble",
          "Immeuble",
          "Immeuble",
          "Immeuble",
          "Immeuble",
          "Immeuble",
          "Immeuble",
          "Immeuble",
          "Immeuble",
          "Immeuble",
          "Immeuble",
          "Immeuble",
          "Immeuble"
         ]
        },
        {
         "hovertemplate": "%{text}",
         "marker": {
          "color": "#750D86",
          "size": 10
         },
         "mode": "markers",
         "name": "Label Monument aux morts",
         "text": [
          "monument, mort",
          "monument, mort",
          "monument, mort",
          "monument, mort",
          "monument, mort",
          "monument, mort",
          "lantern, mort",
          "monument, mort",
          "enfant, monument, mort",
          "monument, mort",
          "monument, mort",
          "monument, mort",
          "monument, mort",
          "monument, mort",
          "monument, mort"
         ],
         "type": "scatter",
         "x": [
          123,
          166,
          333,
          340,
          344,
          480,
          642,
          694,
          756,
          793,
          812,
          882,
          900,
          1016,
          1032
         ],
         "y": [
          "Monument aux morts",
          "Monument aux morts",
          "Monument aux morts",
          "Monument aux morts",
          "Monument aux morts",
          "Monument aux morts",
          "Monument aux morts",
          "Monument aux morts",
          "Monument aux morts",
          "Monument aux morts",
          "Monument aux morts",
          "Monument aux morts",
          "Monument aux morts",
          "Monument aux morts",
          "Monument aux morts"
         ]
        },
        {
         "hovertemplate": "%{text}",
         "marker": {
          "color": "#EB663B",
          "size": 10
         },
         "mode": "markers",
         "name": "Label Hôtel",
         "text": [
          "hotel, rochetaille",
          "hotel, montferrand, port",
          "hotel",
          "calemard, hotel",
          "hotel, vill",
          "ancien, dian, hotel, poitier",
          "grand, hotel, palac",
          "ancien, dit, gouverneur, hotel, particuli",
          "hotel",
          "ancien, ferrier, hotel",
          "grand, hotel",
          "hotel",
          "hotel, vill",
          "hotel",
          "hotel",
          "daubier, hotel",
          "hotel",
          "ancien, duc, hotel",
          "hotel",
          "hotel",
          "hotel",
          "ancien, hotel",
          "hotel, vill",
          "hotel",
          "hotel",
          "hotel",
          "dauphin, hotel",
          "hotel, montferrand",
          "hotel",
          "hotel",
          "hotel",
          "hotel, vill",
          "ancien, hotel",
          "hotel, montferrand",
          "hotel, ribeyr",
          "hotel",
          "hotel",
          "hotel",
          "hotel",
          "ancien, hotel",
          "hotel",
          "hotel",
          "hotel",
          "hotel",
          "hotel",
          "duma, hotel, montferrand",
          "hotel, vill",
          "hotel, vill",
          "ancien, hotel",
          "hotel",
          "ancien, hotel",
          "hotel",
          "hotel",
          "ancien, hotel, sousprefectur",
          "hotel",
          "dit, hotel, particuli",
          "hotel, vill",
          "hotel, vill",
          "hotel",
          "ancien, ancienn, hotel, mairi",
          "hotel",
          "ancien, hotel, rochefort",
          "ancien, hotel",
          "girard, hotel, vaugirard",
          "hotel",
          "hotel"
         ],
         "type": "scatter",
         "x": [
          6,
          30,
          54,
          68,
          76,
          95,
          105,
          112,
          125,
          128,
          144,
          242,
          253,
          255,
          257,
          270,
          341,
          358,
          361,
          362,
          378,
          407,
          451,
          460,
          485,
          513,
          520,
          527,
          565,
          566,
          581,
          591,
          600,
          601,
          609,
          618,
          632,
          648,
          658,
          680,
          702,
          705,
          712,
          748,
          761,
          774,
          779,
          788,
          804,
          827,
          849,
          863,
          870,
          883,
          909,
          917,
          918,
          943,
          956,
          959,
          971,
          989,
          1015,
          1022,
          1052,
          1056
         ],
         "y": [
          "Hôtel",
          "Hôtel",
          "Hôtel",
          "Hôtel",
          "Hôtel",
          "Hôtel",
          "Hôtel",
          "Hôtel",
          "Hôtel",
          "Hôtel",
          "Hôtel",
          "Hôtel",
          "Hôtel",
          "Hôtel",
          "Hôtel",
          "Hôtel",
          "Hôtel",
          "Hôtel",
          "Hôtel",
          "Hôtel",
          "Hôtel",
          "Hôtel",
          "Hôtel",
          "Hôtel",
          "Hôtel",
          "Hôtel",
          "Hôtel",
          "Hôtel",
          "Hôtel",
          "Hôtel",
          "Hôtel",
          "Hôtel",
          "Hôtel",
          "Hôtel",
          "Hôtel",
          "Hôtel",
          "Hôtel",
          "Hôtel",
          "Hôtel",
          "Hôtel",
          "Hôtel",
          "Hôtel",
          "Hôtel",
          "Hôtel",
          "Hôtel",
          "Hôtel",
          "Hôtel",
          "Hôtel",
          "Hôtel",
          "Hôtel",
          "Hôtel",
          "Hôtel",
          "Hôtel",
          "Hôtel",
          "Hôtel",
          "Hôtel",
          "Hôtel",
          "Hôtel",
          "Hôtel",
          "Hôtel",
          "Hôtel",
          "Hôtel",
          "Hôtel",
          "Hôtel",
          "Hôtel",
          "Hôtel"
         ]
        },
        {
         "hovertemplate": "%{text}",
         "marker": {
          "color": "#511CFB",
          "size": 10
         },
         "mode": "markers",
         "name": "Label Fontaine",
         "text": [
          "date, fontain",
          "fontain",
          "fontain",
          "fontain",
          "fontain",
          "fontain",
          "fontain",
          "deux, fontain",
          "fontain",
          "arcad, fontain, vieux",
          "fontain",
          "fontain",
          "fontain",
          "fontain",
          "fontain",
          "fontain",
          "fontain",
          "fontain",
          "fontain",
          "fontain",
          "dite, fontain, grand",
          "fontain, tour, vieill",
          "fontain"
         ],
         "type": "scatter",
         "x": [
          117,
          173,
          179,
          231,
          268,
          332,
          367,
          440,
          496,
          543,
          548,
          579,
          598,
          661,
          693,
          776,
          789,
          794,
          925,
          990,
          995,
          1005,
          1028
         ],
         "y": [
          "Fontaine",
          "Fontaine",
          "Fontaine",
          "Fontaine",
          "Fontaine",
          "Fontaine",
          "Fontaine",
          "Fontaine",
          "Fontaine",
          "Fontaine",
          "Fontaine",
          "Fontaine",
          "Fontaine",
          "Fontaine",
          "Fontaine",
          "Fontaine",
          "Fontaine",
          "Fontaine",
          "Fontaine",
          "Fontaine",
          "Fontaine",
          "Fontaine",
          "Fontaine"
         ]
        },
        {
         "hovertemplate": "%{text}",
         "marker": {
          "color": "#00A08B",
          "size": 10
         },
         "mode": "markers",
         "name": "Label Pont",
         "text": [
          "pont",
          "pont",
          "15e, pont, siecl",
          "commun, egal, pont",
          "pont",
          "dore, pont, ruin",
          "pont",
          "commun, confol, egal, pont",
          "mort, pont",
          "pont",
          "pont, romain, vestig",
          "commun, drac, egal, pont, vieux",
          "pont, vieux",
          "dit, pont, vieux",
          "diabl, pont",
          "pont, romain",
          "pont",
          "dit, pont, pontaqueduc, vestig",
          "pont, suspendu",
          "pont, vieux",
          "commun, egal, pont",
          "pont",
          "guiersmort, pont",
          "pont",
          "commun, egal, pont",
          "ancien, pont, suspendu",
          "dit, pont"
         ],
         "type": "scatter",
         "x": [
          1,
          40,
          53,
          92,
          120,
          132,
          146,
          188,
          324,
          364,
          399,
          421,
          549,
          617,
          734,
          763,
          808,
          826,
          841,
          877,
          901,
          914,
          966,
          968,
          1008,
          1043,
          1060
         ],
         "y": [
          "Pont",
          "Pont",
          "Pont",
          "Pont",
          "Pont",
          "Pont",
          "Pont",
          "Pont",
          "Pont",
          "Pont",
          "Pont",
          "Pont",
          "Pont",
          "Pont",
          "Pont",
          "Pont",
          "Pont",
          "Pont",
          "Pont",
          "Pont",
          "Pont",
          "Pont",
          "Pont",
          "Pont",
          "Pont",
          "Pont",
          "Pont"
         ]
        },
        {
         "hovertemplate": "%{text}",
         "marker": {
          "color": "#FB00D1",
          "size": 10
         },
         "mode": "markers",
         "name": "Label Musée",
         "text": [],
         "type": "scatter",
         "x": [],
         "y": []
        },
        {
         "hovertemplate": "%{text}",
         "marker": {
          "color": "#FC0080",
          "size": 10
         },
         "mode": "markers",
         "name": "Label Ferme",
         "text": [
          "ferm, grang",
          "bourg, ferm, situe",
          "ferm",
          "ferm",
          "ferm",
          "ferm",
          "ferm",
          "dite, ferm",
          "ferm",
          "ferm",
          "ferm",
          "ferm, hameau",
          "ensembl, ferm, foret",
          "ferm",
          "ferm, galeri",
          "ferm"
         ],
         "type": "scatter",
         "x": [
          99,
          164,
          200,
          239,
          323,
          349,
          380,
          498,
          551,
          584,
          619,
          639,
          799,
          800,
          847,
          869
         ],
         "y": [
          "Ferme",
          "Ferme",
          "Ferme",
          "Ferme",
          "Ferme",
          "Ferme",
          "Ferme",
          "Ferme",
          "Ferme",
          "Ferme",
          "Ferme",
          "Ferme",
          "Ferme",
          "Ferme",
          "Ferme",
          "Ferme"
         ]
        }
       ],
       "layout": {
        "template": {
         "data": {
          "bar": [
           {
            "error_x": {
             "color": "#2a3f5f"
            },
            "error_y": {
             "color": "#2a3f5f"
            },
            "marker": {
             "line": {
              "color": "#E5ECF6",
              "width": 0.5
             },
             "pattern": {
              "fillmode": "overlay",
              "size": 10,
              "solidity": 0.2
             }
            },
            "type": "bar"
           }
          ],
          "barpolar": [
           {
            "marker": {
             "line": {
              "color": "#E5ECF6",
              "width": 0.5
             },
             "pattern": {
              "fillmode": "overlay",
              "size": 10,
              "solidity": 0.2
             }
            },
            "type": "barpolar"
           }
          ],
          "carpet": [
           {
            "aaxis": {
             "endlinecolor": "#2a3f5f",
             "gridcolor": "white",
             "linecolor": "white",
             "minorgridcolor": "white",
             "startlinecolor": "#2a3f5f"
            },
            "baxis": {
             "endlinecolor": "#2a3f5f",
             "gridcolor": "white",
             "linecolor": "white",
             "minorgridcolor": "white",
             "startlinecolor": "#2a3f5f"
            },
            "type": "carpet"
           }
          ],
          "choropleth": [
           {
            "colorbar": {
             "outlinewidth": 0,
             "ticks": ""
            },
            "type": "choropleth"
           }
          ],
          "contour": [
           {
            "colorbar": {
             "outlinewidth": 0,
             "ticks": ""
            },
            "colorscale": [
             [
              0,
              "#0d0887"
             ],
             [
              0.1111111111111111,
              "#46039f"
             ],
             [
              0.2222222222222222,
              "#7201a8"
             ],
             [
              0.3333333333333333,
              "#9c179e"
             ],
             [
              0.4444444444444444,
              "#bd3786"
             ],
             [
              0.5555555555555556,
              "#d8576b"
             ],
             [
              0.6666666666666666,
              "#ed7953"
             ],
             [
              0.7777777777777778,
              "#fb9f3a"
             ],
             [
              0.8888888888888888,
              "#fdca26"
             ],
             [
              1,
              "#f0f921"
             ]
            ],
            "type": "contour"
           }
          ],
          "contourcarpet": [
           {
            "colorbar": {
             "outlinewidth": 0,
             "ticks": ""
            },
            "type": "contourcarpet"
           }
          ],
          "heatmap": [
           {
            "colorbar": {
             "outlinewidth": 0,
             "ticks": ""
            },
            "colorscale": [
             [
              0,
              "#0d0887"
             ],
             [
              0.1111111111111111,
              "#46039f"
             ],
             [
              0.2222222222222222,
              "#7201a8"
             ],
             [
              0.3333333333333333,
              "#9c179e"
             ],
             [
              0.4444444444444444,
              "#bd3786"
             ],
             [
              0.5555555555555556,
              "#d8576b"
             ],
             [
              0.6666666666666666,
              "#ed7953"
             ],
             [
              0.7777777777777778,
              "#fb9f3a"
             ],
             [
              0.8888888888888888,
              "#fdca26"
             ],
             [
              1,
              "#f0f921"
             ]
            ],
            "type": "heatmap"
           }
          ],
          "heatmapgl": [
           {
            "colorbar": {
             "outlinewidth": 0,
             "ticks": ""
            },
            "colorscale": [
             [
              0,
              "#0d0887"
             ],
             [
              0.1111111111111111,
              "#46039f"
             ],
             [
              0.2222222222222222,
              "#7201a8"
             ],
             [
              0.3333333333333333,
              "#9c179e"
             ],
             [
              0.4444444444444444,
              "#bd3786"
             ],
             [
              0.5555555555555556,
              "#d8576b"
             ],
             [
              0.6666666666666666,
              "#ed7953"
             ],
             [
              0.7777777777777778,
              "#fb9f3a"
             ],
             [
              0.8888888888888888,
              "#fdca26"
             ],
             [
              1,
              "#f0f921"
             ]
            ],
            "type": "heatmapgl"
           }
          ],
          "histogram": [
           {
            "marker": {
             "pattern": {
              "fillmode": "overlay",
              "size": 10,
              "solidity": 0.2
             }
            },
            "type": "histogram"
           }
          ],
          "histogram2d": [
           {
            "colorbar": {
             "outlinewidth": 0,
             "ticks": ""
            },
            "colorscale": [
             [
              0,
              "#0d0887"
             ],
             [
              0.1111111111111111,
              "#46039f"
             ],
             [
              0.2222222222222222,
              "#7201a8"
             ],
             [
              0.3333333333333333,
              "#9c179e"
             ],
             [
              0.4444444444444444,
              "#bd3786"
             ],
             [
              0.5555555555555556,
              "#d8576b"
             ],
             [
              0.6666666666666666,
              "#ed7953"
             ],
             [
              0.7777777777777778,
              "#fb9f3a"
             ],
             [
              0.8888888888888888,
              "#fdca26"
             ],
             [
              1,
              "#f0f921"
             ]
            ],
            "type": "histogram2d"
           }
          ],
          "histogram2dcontour": [
           {
            "colorbar": {
             "outlinewidth": 0,
             "ticks": ""
            },
            "colorscale": [
             [
              0,
              "#0d0887"
             ],
             [
              0.1111111111111111,
              "#46039f"
             ],
             [
              0.2222222222222222,
              "#7201a8"
             ],
             [
              0.3333333333333333,
              "#9c179e"
             ],
             [
              0.4444444444444444,
              "#bd3786"
             ],
             [
              0.5555555555555556,
              "#d8576b"
             ],
             [
              0.6666666666666666,
              "#ed7953"
             ],
             [
              0.7777777777777778,
              "#fb9f3a"
             ],
             [
              0.8888888888888888,
              "#fdca26"
             ],
             [
              1,
              "#f0f921"
             ]
            ],
            "type": "histogram2dcontour"
           }
          ],
          "mesh3d": [
           {
            "colorbar": {
             "outlinewidth": 0,
             "ticks": ""
            },
            "type": "mesh3d"
           }
          ],
          "parcoords": [
           {
            "line": {
             "colorbar": {
              "outlinewidth": 0,
              "ticks": ""
             }
            },
            "type": "parcoords"
           }
          ],
          "pie": [
           {
            "automargin": true,
            "type": "pie"
           }
          ],
          "scatter": [
           {
            "fillpattern": {
             "fillmode": "overlay",
             "size": 10,
             "solidity": 0.2
            },
            "type": "scatter"
           }
          ],
          "scatter3d": [
           {
            "line": {
             "colorbar": {
              "outlinewidth": 0,
              "ticks": ""
             }
            },
            "marker": {
             "colorbar": {
              "outlinewidth": 0,
              "ticks": ""
             }
            },
            "type": "scatter3d"
           }
          ],
          "scattercarpet": [
           {
            "marker": {
             "colorbar": {
              "outlinewidth": 0,
              "ticks": ""
             }
            },
            "type": "scattercarpet"
           }
          ],
          "scattergeo": [
           {
            "marker": {
             "colorbar": {
              "outlinewidth": 0,
              "ticks": ""
             }
            },
            "type": "scattergeo"
           }
          ],
          "scattergl": [
           {
            "marker": {
             "colorbar": {
              "outlinewidth": 0,
              "ticks": ""
             }
            },
            "type": "scattergl"
           }
          ],
          "scattermapbox": [
           {
            "marker": {
             "colorbar": {
              "outlinewidth": 0,
              "ticks": ""
             }
            },
            "type": "scattermapbox"
           }
          ],
          "scatterpolar": [
           {
            "marker": {
             "colorbar": {
              "outlinewidth": 0,
              "ticks": ""
             }
            },
            "type": "scatterpolar"
           }
          ],
          "scatterpolargl": [
           {
            "marker": {
             "colorbar": {
              "outlinewidth": 0,
              "ticks": ""
             }
            },
            "type": "scatterpolargl"
           }
          ],
          "scatterternary": [
           {
            "marker": {
             "colorbar": {
              "outlinewidth": 0,
              "ticks": ""
             }
            },
            "type": "scatterternary"
           }
          ],
          "surface": [
           {
            "colorbar": {
             "outlinewidth": 0,
             "ticks": ""
            },
            "colorscale": [
             [
              0,
              "#0d0887"
             ],
             [
              0.1111111111111111,
              "#46039f"
             ],
             [
              0.2222222222222222,
              "#7201a8"
             ],
             [
              0.3333333333333333,
              "#9c179e"
             ],
             [
              0.4444444444444444,
              "#bd3786"
             ],
             [
              0.5555555555555556,
              "#d8576b"
             ],
             [
              0.6666666666666666,
              "#ed7953"
             ],
             [
              0.7777777777777778,
              "#fb9f3a"
             ],
             [
              0.8888888888888888,
              "#fdca26"
             ],
             [
              1,
              "#f0f921"
             ]
            ],
            "type": "surface"
           }
          ],
          "table": [
           {
            "cells": {
             "fill": {
              "color": "#EBF0F8"
             },
             "line": {
              "color": "white"
             }
            },
            "header": {
             "fill": {
              "color": "#C8D4E3"
             },
             "line": {
              "color": "white"
             }
            },
            "type": "table"
           }
          ]
         },
         "layout": {
          "annotationdefaults": {
           "arrowcolor": "#2a3f5f",
           "arrowhead": 0,
           "arrowwidth": 1
          },
          "autotypenumbers": "strict",
          "coloraxis": {
           "colorbar": {
            "outlinewidth": 0,
            "ticks": ""
           }
          },
          "colorscale": {
           "diverging": [
            [
             0,
             "#8e0152"
            ],
            [
             0.1,
             "#c51b7d"
            ],
            [
             0.2,
             "#de77ae"
            ],
            [
             0.3,
             "#f1b6da"
            ],
            [
             0.4,
             "#fde0ef"
            ],
            [
             0.5,
             "#f7f7f7"
            ],
            [
             0.6,
             "#e6f5d0"
            ],
            [
             0.7,
             "#b8e186"
            ],
            [
             0.8,
             "#7fbc41"
            ],
            [
             0.9,
             "#4d9221"
            ],
            [
             1,
             "#276419"
            ]
           ],
           "sequential": [
            [
             0,
             "#0d0887"
            ],
            [
             0.1111111111111111,
             "#46039f"
            ],
            [
             0.2222222222222222,
             "#7201a8"
            ],
            [
             0.3333333333333333,
             "#9c179e"
            ],
            [
             0.4444444444444444,
             "#bd3786"
            ],
            [
             0.5555555555555556,
             "#d8576b"
            ],
            [
             0.6666666666666666,
             "#ed7953"
            ],
            [
             0.7777777777777778,
             "#fb9f3a"
            ],
            [
             0.8888888888888888,
             "#fdca26"
            ],
            [
             1,
             "#f0f921"
            ]
           ],
           "sequentialminus": [
            [
             0,
             "#0d0887"
            ],
            [
             0.1111111111111111,
             "#46039f"
            ],
            [
             0.2222222222222222,
             "#7201a8"
            ],
            [
             0.3333333333333333,
             "#9c179e"
            ],
            [
             0.4444444444444444,
             "#bd3786"
            ],
            [
             0.5555555555555556,
             "#d8576b"
            ],
            [
             0.6666666666666666,
             "#ed7953"
            ],
            [
             0.7777777777777778,
             "#fb9f3a"
            ],
            [
             0.8888888888888888,
             "#fdca26"
            ],
            [
             1,
             "#f0f921"
            ]
           ]
          },
          "colorway": [
           "#636efa",
           "#EF553B",
           "#00cc96",
           "#ab63fa",
           "#FFA15A",
           "#19d3f3",
           "#FF6692",
           "#B6E880",
           "#FF97FF",
           "#FECB52"
          ],
          "font": {
           "color": "#2a3f5f"
          },
          "geo": {
           "bgcolor": "white",
           "lakecolor": "white",
           "landcolor": "#E5ECF6",
           "showlakes": true,
           "showland": true,
           "subunitcolor": "white"
          },
          "hoverlabel": {
           "align": "left"
          },
          "hovermode": "closest",
          "mapbox": {
           "style": "light"
          },
          "paper_bgcolor": "white",
          "plot_bgcolor": "#E5ECF6",
          "polar": {
           "angularaxis": {
            "gridcolor": "white",
            "linecolor": "white",
            "ticks": ""
           },
           "bgcolor": "#E5ECF6",
           "radialaxis": {
            "gridcolor": "white",
            "linecolor": "white",
            "ticks": ""
           }
          },
          "scene": {
           "xaxis": {
            "backgroundcolor": "#E5ECF6",
            "gridcolor": "white",
            "gridwidth": 2,
            "linecolor": "white",
            "showbackground": true,
            "ticks": "",
            "zerolinecolor": "white"
           },
           "yaxis": {
            "backgroundcolor": "#E5ECF6",
            "gridcolor": "white",
            "gridwidth": 2,
            "linecolor": "white",
            "showbackground": true,
            "ticks": "",
            "zerolinecolor": "white"
           },
           "zaxis": {
            "backgroundcolor": "#E5ECF6",
            "gridcolor": "white",
            "gridwidth": 2,
            "linecolor": "white",
            "showbackground": true,
            "ticks": "",
            "zerolinecolor": "white"
           }
          },
          "shapedefaults": {
           "line": {
            "color": "#2a3f5f"
           }
          },
          "ternary": {
           "aaxis": {
            "gridcolor": "white",
            "linecolor": "white",
            "ticks": ""
           },
           "baxis": {
            "gridcolor": "white",
            "linecolor": "white",
            "ticks": ""
           },
           "bgcolor": "#E5ECF6",
           "caxis": {
            "gridcolor": "white",
            "linecolor": "white",
            "ticks": ""
           }
          },
          "title": {
           "x": 0.05
          },
          "xaxis": {
           "automargin": true,
           "gridcolor": "white",
           "linecolor": "white",
           "ticks": "",
           "title": {
            "standoff": 15
           },
           "zerolinecolor": "white",
           "zerolinewidth": 2
          },
          "yaxis": {
           "automargin": true,
           "gridcolor": "white",
           "linecolor": "white",
           "ticks": "",
           "title": {
            "standoff": 15
           },
           "zerolinecolor": "white",
           "zerolinewidth": 2
          }
         }
        },
        "title": {
         "text": "Monument Labels"
        },
        "xaxis": {
         "title": {
          "text": "Monument Index"
         }
        },
        "yaxis": {
         "title": {
          "text": "Predicted Label"
         }
        }
       }
      }
     },
     "metadata": {},
     "output_type": "display_data"
    }
   ],
   "source": [
    "# get the row corresponding to the Gaussian SVM classifier\n",
    "svm_row = df.loc[df[CLASSIFIER] == 'Gaussian SVM']\n",
    "\n",
    "# get the prediction values for the Gaussian SVM classifier\n",
    "svm_predictions = svm_row[PREDICTION].values[0]\n",
    "\n",
    "show_monuments_by_label(svm_predictions, X_test)"
   ]
  },
  {
   "attachments": {},
   "cell_type": "markdown",
   "metadata": {},
   "source": [
    "---\n",
    "### Prediction results (on new data)\n",
    "---\n",
    "\n",
    "Predicts the labels of new data using a decision tree classifier.\n",
    "\n",
    "**Parameter**:\n",
    "- ``data_test``: a list of dictionaries containing the name and description of new monuments\n",
    "\n",
    "**Returns**:\n",
    "- ``new_data_label``: a numpy array containing the predicted labels for the new data\n",
    "- ``X_test``: a sparse matrix containing the transformed names and descriptions of the new data\n"
   ]
  },
  {
   "cell_type": "code",
   "execution_count": 25,
   "metadata": {},
   "outputs": [],
   "source": [
    "def predict_labels_decisiontree(data_test):   \n",
    "    \n",
    "    data, labels = prepare_data(ignore_labels=[13])\n",
    "    X_train, X_test, Y_train, Y_test = split_data_training_test(data, labels)\n",
    "    classifier_result = predict_with_DECISIONTREE(X_train, X_test, Y_train, Y_test)\n",
    "    hyper_param = classifier_result[BEST_HYPERPARAMETER]\n",
    "    \n",
    "    train_data, Y_train = prepare_data()\n",
    "\n",
    "    # Fit and transform the CountVectorizer on your training data\n",
    "    X_train = vectorizer.fit_transform(train_data)\n",
    "\n",
    "    # Train classifier\n",
    "    decision_tree = DecisionTreeClassifier(max_depth=hyper_param)\n",
    "    decision_tree.fit(X_train, Y_train)\n",
    "\n",
    "    # Extraction de la colonne \"name\" \n",
    "    names = [d['name'] for d in data_test]\n",
    "    # Application de la fonction preprocess sur les noms et descriptions de monuments\n",
    "    clean_names = [preprocess(name) for name in names]\n",
    "\n",
    "    # Transform the test data using CountVectorizer object\n",
    "    X_test = vectorizer.transform(clean_names)\n",
    "    new_data_label = decision_tree.predict(X_test)\n",
    "            \n",
    "    return new_data_label, X_test"
   ]
  },
  {
   "attachments": {},
   "cell_type": "markdown",
   "metadata": {},
   "source": [
    "---\n",
    "This cell is used for testing purposes within this notebook using an external dataset. It imports modules from the `wikibase_injector` package to retrieve data from CSV and an API, predicts the labels of the retrieved data using the `predict_labels_decisiontree` function, and displays the resulting labels using the `show_monuments_by_label` function."
   ]
  },
  {
   "cell_type": "code",
   "execution_count": 26,
   "metadata": {},
   "outputs": [
    {
     "name": "stdout",
     "output_type": "stream",
     "text": [
      "Current Path: c:\\Users\\Administrateur\\Documents\\GitHub\\WikiStone\\wikibase\\wikibase_injector\\classifier\n"
     ]
    },
    {
     "data": {
      "application/vnd.plotly.v1+json": {
       "config": {
        "plotlyServerURL": "https://plot.ly"
       },
       "data": [
        {
         "hovertemplate": "%{text}",
         "marker": {
          "color": "#2E91E5",
          "size": 10
         },
         "mode": "markers",
         "name": "Label Château",
         "text": [
          "chateau, couzan",
          "chateau, goutela",
          "chateau, laubepin",
          "bruyer, chateau",
          "chateau",
          "chateau",
          "chateau",
          "chateau, vaugirard",
          "chateau, vougi",
          "chateau, talaru"
         ],
         "type": "scatter",
         "x": [
          2,
          3,
          4,
          5,
          6,
          7,
          8,
          9,
          10,
          11
         ],
         "y": [
          "Château",
          "Château",
          "Château",
          "Château",
          "Château",
          "Château",
          "Château",
          "Château",
          "Château",
          "Château"
         ]
        },
        {
         "hovertemplate": "%{text}",
         "marker": {
          "color": "#E15F99",
          "size": 10
         },
         "mode": "markers",
         "name": "Label Eglise",
         "text": [
          "abbatial, eglis",
          "chateau, eglis",
          "eglis",
          "eglis",
          "eglis",
          "eglis, vieux",
          "eglis",
          "eglis, notredam",
          "eglis, notredam",
          "eglis, saintandr",
          "eglis, saintandr",
          "eglis, saintandr",
          "eglis, saintclair",
          "eglis",
          "eglis, saintjeanbaptist",
          "alexandr, eglis, saintmartin",
          "eglis, saintpierr",
          "eglis, saintpierr",
          "eglis, saintsebastien"
         ],
         "type": "scatter",
         "x": [
          18,
          19,
          20,
          21,
          22,
          23,
          24,
          25,
          26,
          27,
          28,
          29,
          30,
          31,
          32,
          33,
          34,
          35,
          36
         ],
         "y": [
          "Eglise",
          "Eglise",
          "Eglise",
          "Eglise",
          "Eglise",
          "Eglise",
          "Eglise",
          "Eglise",
          "Eglise",
          "Eglise",
          "Eglise",
          "Eglise",
          "Eglise",
          "Eglise",
          "Eglise",
          "Eglise",
          "Eglise",
          "Eglise",
          "Eglise"
         ]
        },
        {
         "hovertemplate": "%{text}",
         "marker": {
          "color": "#1CA71C",
          "size": 10
         },
         "mode": "markers",
         "name": "Label Maison",
         "text": [
          "cultur, maison",
          "anglai, maison",
          "lion, maison",
          "cadran, maison, solair",
          "francoi, maison",
          "maison"
         ],
         "type": "scatter",
         "x": [
          38,
          39,
          40,
          41,
          42,
          43
         ],
         "y": [
          "Maison",
          "Maison",
          "Maison",
          "Maison",
          "Maison",
          "Maison"
         ]
        },
        {
         "hovertemplate": "%{text}",
         "marker": {
          "color": "#FB0D0D",
          "size": 10
         },
         "mode": "markers",
         "name": "Label Viaduc",
         "text": [
          "abbay",
          "ancienn, chartreus",
          "collegial",
          "collegial, notredam",
          "chass, durez",
          "mimard, palai",
          "pravieux",
          "prieur, saintrambert",
          "prieur, saintmartin",
          "corbusi",
          ""
         ],
         "type": "scatter",
         "x": [
          0,
          1,
          15,
          16,
          17,
          44,
          45,
          46,
          47,
          48,
          49
         ],
         "y": [
          "Viaduc",
          "Viaduc",
          "Viaduc",
          "Viaduc",
          "Viaduc",
          "Viaduc",
          "Viaduc",
          "Viaduc",
          "Viaduc",
          "Viaduc",
          "Viaduc"
         ]
        },
        {
         "hovertemplate": "%{text}",
         "marker": {
          "color": "#DA16FF",
          "size": 10
         },
         "mode": "markers",
         "name": "Label Croix",
         "text": [],
         "type": "scatter",
         "x": [],
         "y": []
        },
        {
         "hovertemplate": "%{text}",
         "marker": {
          "color": "#222A2A",
          "size": 10
         },
         "mode": "markers",
         "name": "Label Chapelle",
         "text": [
          "chapel, valett",
          "chapel, cherbouquetbadoit, madam",
          "chapel, laval, notredam"
         ],
         "type": "scatter",
         "x": [
          12,
          13,
          14
         ],
         "y": [
          "Chapelle",
          "Chapelle",
          "Chapelle"
         ]
        },
        {
         "hovertemplate": "%{text}",
         "marker": {
          "color": "#B68100",
          "size": 10
         },
         "mode": "markers",
         "name": "Label Immeuble",
         "text": [],
         "type": "scatter",
         "x": [],
         "y": []
        },
        {
         "hovertemplate": "%{text}",
         "marker": {
          "color": "#750D86",
          "size": 10
         },
         "mode": "markers",
         "name": "Label Monument aux morts",
         "text": [],
         "type": "scatter",
         "x": [],
         "y": []
        },
        {
         "hovertemplate": "%{text}",
         "marker": {
          "color": "#EB663B",
          "size": 10
         },
         "mode": "markers",
         "name": "Label Hôtel",
         "text": [
          "bernou, hotel"
         ],
         "type": "scatter",
         "x": [
          37
         ],
         "y": [
          "Hôtel"
         ]
        },
        {
         "hovertemplate": "%{text}",
         "marker": {
          "color": "#511CFB",
          "size": 10
         },
         "mode": "markers",
         "name": "Label Fontaine",
         "text": [],
         "type": "scatter",
         "x": [],
         "y": []
        },
        {
         "hovertemplate": "%{text}",
         "marker": {
          "color": "#00A08B",
          "size": 10
         },
         "mode": "markers",
         "name": "Label Pont",
         "text": [],
         "type": "scatter",
         "x": [],
         "y": []
        },
        {
         "hovertemplate": "%{text}",
         "marker": {
          "color": "#FB00D1",
          "size": 10
         },
         "mode": "markers",
         "name": "Label Musée",
         "text": [],
         "type": "scatter",
         "x": [],
         "y": []
        },
        {
         "hovertemplate": "%{text}",
         "marker": {
          "color": "#FC0080",
          "size": 10
         },
         "mode": "markers",
         "name": "Label Ferme",
         "text": [],
         "type": "scatter",
         "x": [],
         "y": []
        }
       ],
       "layout": {
        "template": {
         "data": {
          "bar": [
           {
            "error_x": {
             "color": "#2a3f5f"
            },
            "error_y": {
             "color": "#2a3f5f"
            },
            "marker": {
             "line": {
              "color": "#E5ECF6",
              "width": 0.5
             },
             "pattern": {
              "fillmode": "overlay",
              "size": 10,
              "solidity": 0.2
             }
            },
            "type": "bar"
           }
          ],
          "barpolar": [
           {
            "marker": {
             "line": {
              "color": "#E5ECF6",
              "width": 0.5
             },
             "pattern": {
              "fillmode": "overlay",
              "size": 10,
              "solidity": 0.2
             }
            },
            "type": "barpolar"
           }
          ],
          "carpet": [
           {
            "aaxis": {
             "endlinecolor": "#2a3f5f",
             "gridcolor": "white",
             "linecolor": "white",
             "minorgridcolor": "white",
             "startlinecolor": "#2a3f5f"
            },
            "baxis": {
             "endlinecolor": "#2a3f5f",
             "gridcolor": "white",
             "linecolor": "white",
             "minorgridcolor": "white",
             "startlinecolor": "#2a3f5f"
            },
            "type": "carpet"
           }
          ],
          "choropleth": [
           {
            "colorbar": {
             "outlinewidth": 0,
             "ticks": ""
            },
            "type": "choropleth"
           }
          ],
          "contour": [
           {
            "colorbar": {
             "outlinewidth": 0,
             "ticks": ""
            },
            "colorscale": [
             [
              0,
              "#0d0887"
             ],
             [
              0.1111111111111111,
              "#46039f"
             ],
             [
              0.2222222222222222,
              "#7201a8"
             ],
             [
              0.3333333333333333,
              "#9c179e"
             ],
             [
              0.4444444444444444,
              "#bd3786"
             ],
             [
              0.5555555555555556,
              "#d8576b"
             ],
             [
              0.6666666666666666,
              "#ed7953"
             ],
             [
              0.7777777777777778,
              "#fb9f3a"
             ],
             [
              0.8888888888888888,
              "#fdca26"
             ],
             [
              1,
              "#f0f921"
             ]
            ],
            "type": "contour"
           }
          ],
          "contourcarpet": [
           {
            "colorbar": {
             "outlinewidth": 0,
             "ticks": ""
            },
            "type": "contourcarpet"
           }
          ],
          "heatmap": [
           {
            "colorbar": {
             "outlinewidth": 0,
             "ticks": ""
            },
            "colorscale": [
             [
              0,
              "#0d0887"
             ],
             [
              0.1111111111111111,
              "#46039f"
             ],
             [
              0.2222222222222222,
              "#7201a8"
             ],
             [
              0.3333333333333333,
              "#9c179e"
             ],
             [
              0.4444444444444444,
              "#bd3786"
             ],
             [
              0.5555555555555556,
              "#d8576b"
             ],
             [
              0.6666666666666666,
              "#ed7953"
             ],
             [
              0.7777777777777778,
              "#fb9f3a"
             ],
             [
              0.8888888888888888,
              "#fdca26"
             ],
             [
              1,
              "#f0f921"
             ]
            ],
            "type": "heatmap"
           }
          ],
          "heatmapgl": [
           {
            "colorbar": {
             "outlinewidth": 0,
             "ticks": ""
            },
            "colorscale": [
             [
              0,
              "#0d0887"
             ],
             [
              0.1111111111111111,
              "#46039f"
             ],
             [
              0.2222222222222222,
              "#7201a8"
             ],
             [
              0.3333333333333333,
              "#9c179e"
             ],
             [
              0.4444444444444444,
              "#bd3786"
             ],
             [
              0.5555555555555556,
              "#d8576b"
             ],
             [
              0.6666666666666666,
              "#ed7953"
             ],
             [
              0.7777777777777778,
              "#fb9f3a"
             ],
             [
              0.8888888888888888,
              "#fdca26"
             ],
             [
              1,
              "#f0f921"
             ]
            ],
            "type": "heatmapgl"
           }
          ],
          "histogram": [
           {
            "marker": {
             "pattern": {
              "fillmode": "overlay",
              "size": 10,
              "solidity": 0.2
             }
            },
            "type": "histogram"
           }
          ],
          "histogram2d": [
           {
            "colorbar": {
             "outlinewidth": 0,
             "ticks": ""
            },
            "colorscale": [
             [
              0,
              "#0d0887"
             ],
             [
              0.1111111111111111,
              "#46039f"
             ],
             [
              0.2222222222222222,
              "#7201a8"
             ],
             [
              0.3333333333333333,
              "#9c179e"
             ],
             [
              0.4444444444444444,
              "#bd3786"
             ],
             [
              0.5555555555555556,
              "#d8576b"
             ],
             [
              0.6666666666666666,
              "#ed7953"
             ],
             [
              0.7777777777777778,
              "#fb9f3a"
             ],
             [
              0.8888888888888888,
              "#fdca26"
             ],
             [
              1,
              "#f0f921"
             ]
            ],
            "type": "histogram2d"
           }
          ],
          "histogram2dcontour": [
           {
            "colorbar": {
             "outlinewidth": 0,
             "ticks": ""
            },
            "colorscale": [
             [
              0,
              "#0d0887"
             ],
             [
              0.1111111111111111,
              "#46039f"
             ],
             [
              0.2222222222222222,
              "#7201a8"
             ],
             [
              0.3333333333333333,
              "#9c179e"
             ],
             [
              0.4444444444444444,
              "#bd3786"
             ],
             [
              0.5555555555555556,
              "#d8576b"
             ],
             [
              0.6666666666666666,
              "#ed7953"
             ],
             [
              0.7777777777777778,
              "#fb9f3a"
             ],
             [
              0.8888888888888888,
              "#fdca26"
             ],
             [
              1,
              "#f0f921"
             ]
            ],
            "type": "histogram2dcontour"
           }
          ],
          "mesh3d": [
           {
            "colorbar": {
             "outlinewidth": 0,
             "ticks": ""
            },
            "type": "mesh3d"
           }
          ],
          "parcoords": [
           {
            "line": {
             "colorbar": {
              "outlinewidth": 0,
              "ticks": ""
             }
            },
            "type": "parcoords"
           }
          ],
          "pie": [
           {
            "automargin": true,
            "type": "pie"
           }
          ],
          "scatter": [
           {
            "fillpattern": {
             "fillmode": "overlay",
             "size": 10,
             "solidity": 0.2
            },
            "type": "scatter"
           }
          ],
          "scatter3d": [
           {
            "line": {
             "colorbar": {
              "outlinewidth": 0,
              "ticks": ""
             }
            },
            "marker": {
             "colorbar": {
              "outlinewidth": 0,
              "ticks": ""
             }
            },
            "type": "scatter3d"
           }
          ],
          "scattercarpet": [
           {
            "marker": {
             "colorbar": {
              "outlinewidth": 0,
              "ticks": ""
             }
            },
            "type": "scattercarpet"
           }
          ],
          "scattergeo": [
           {
            "marker": {
             "colorbar": {
              "outlinewidth": 0,
              "ticks": ""
             }
            },
            "type": "scattergeo"
           }
          ],
          "scattergl": [
           {
            "marker": {
             "colorbar": {
              "outlinewidth": 0,
              "ticks": ""
             }
            },
            "type": "scattergl"
           }
          ],
          "scattermapbox": [
           {
            "marker": {
             "colorbar": {
              "outlinewidth": 0,
              "ticks": ""
             }
            },
            "type": "scattermapbox"
           }
          ],
          "scatterpolar": [
           {
            "marker": {
             "colorbar": {
              "outlinewidth": 0,
              "ticks": ""
             }
            },
            "type": "scatterpolar"
           }
          ],
          "scatterpolargl": [
           {
            "marker": {
             "colorbar": {
              "outlinewidth": 0,
              "ticks": ""
             }
            },
            "type": "scatterpolargl"
           }
          ],
          "scatterternary": [
           {
            "marker": {
             "colorbar": {
              "outlinewidth": 0,
              "ticks": ""
             }
            },
            "type": "scatterternary"
           }
          ],
          "surface": [
           {
            "colorbar": {
             "outlinewidth": 0,
             "ticks": ""
            },
            "colorscale": [
             [
              0,
              "#0d0887"
             ],
             [
              0.1111111111111111,
              "#46039f"
             ],
             [
              0.2222222222222222,
              "#7201a8"
             ],
             [
              0.3333333333333333,
              "#9c179e"
             ],
             [
              0.4444444444444444,
              "#bd3786"
             ],
             [
              0.5555555555555556,
              "#d8576b"
             ],
             [
              0.6666666666666666,
              "#ed7953"
             ],
             [
              0.7777777777777778,
              "#fb9f3a"
             ],
             [
              0.8888888888888888,
              "#fdca26"
             ],
             [
              1,
              "#f0f921"
             ]
            ],
            "type": "surface"
           }
          ],
          "table": [
           {
            "cells": {
             "fill": {
              "color": "#EBF0F8"
             },
             "line": {
              "color": "white"
             }
            },
            "header": {
             "fill": {
              "color": "#C8D4E3"
             },
             "line": {
              "color": "white"
             }
            },
            "type": "table"
           }
          ]
         },
         "layout": {
          "annotationdefaults": {
           "arrowcolor": "#2a3f5f",
           "arrowhead": 0,
           "arrowwidth": 1
          },
          "autotypenumbers": "strict",
          "coloraxis": {
           "colorbar": {
            "outlinewidth": 0,
            "ticks": ""
           }
          },
          "colorscale": {
           "diverging": [
            [
             0,
             "#8e0152"
            ],
            [
             0.1,
             "#c51b7d"
            ],
            [
             0.2,
             "#de77ae"
            ],
            [
             0.3,
             "#f1b6da"
            ],
            [
             0.4,
             "#fde0ef"
            ],
            [
             0.5,
             "#f7f7f7"
            ],
            [
             0.6,
             "#e6f5d0"
            ],
            [
             0.7,
             "#b8e186"
            ],
            [
             0.8,
             "#7fbc41"
            ],
            [
             0.9,
             "#4d9221"
            ],
            [
             1,
             "#276419"
            ]
           ],
           "sequential": [
            [
             0,
             "#0d0887"
            ],
            [
             0.1111111111111111,
             "#46039f"
            ],
            [
             0.2222222222222222,
             "#7201a8"
            ],
            [
             0.3333333333333333,
             "#9c179e"
            ],
            [
             0.4444444444444444,
             "#bd3786"
            ],
            [
             0.5555555555555556,
             "#d8576b"
            ],
            [
             0.6666666666666666,
             "#ed7953"
            ],
            [
             0.7777777777777778,
             "#fb9f3a"
            ],
            [
             0.8888888888888888,
             "#fdca26"
            ],
            [
             1,
             "#f0f921"
            ]
           ],
           "sequentialminus": [
            [
             0,
             "#0d0887"
            ],
            [
             0.1111111111111111,
             "#46039f"
            ],
            [
             0.2222222222222222,
             "#7201a8"
            ],
            [
             0.3333333333333333,
             "#9c179e"
            ],
            [
             0.4444444444444444,
             "#bd3786"
            ],
            [
             0.5555555555555556,
             "#d8576b"
            ],
            [
             0.6666666666666666,
             "#ed7953"
            ],
            [
             0.7777777777777778,
             "#fb9f3a"
            ],
            [
             0.8888888888888888,
             "#fdca26"
            ],
            [
             1,
             "#f0f921"
            ]
           ]
          },
          "colorway": [
           "#636efa",
           "#EF553B",
           "#00cc96",
           "#ab63fa",
           "#FFA15A",
           "#19d3f3",
           "#FF6692",
           "#B6E880",
           "#FF97FF",
           "#FECB52"
          ],
          "font": {
           "color": "#2a3f5f"
          },
          "geo": {
           "bgcolor": "white",
           "lakecolor": "white",
           "landcolor": "#E5ECF6",
           "showlakes": true,
           "showland": true,
           "subunitcolor": "white"
          },
          "hoverlabel": {
           "align": "left"
          },
          "hovermode": "closest",
          "mapbox": {
           "style": "light"
          },
          "paper_bgcolor": "white",
          "plot_bgcolor": "#E5ECF6",
          "polar": {
           "angularaxis": {
            "gridcolor": "white",
            "linecolor": "white",
            "ticks": ""
           },
           "bgcolor": "#E5ECF6",
           "radialaxis": {
            "gridcolor": "white",
            "linecolor": "white",
            "ticks": ""
           }
          },
          "scene": {
           "xaxis": {
            "backgroundcolor": "#E5ECF6",
            "gridcolor": "white",
            "gridwidth": 2,
            "linecolor": "white",
            "showbackground": true,
            "ticks": "",
            "zerolinecolor": "white"
           },
           "yaxis": {
            "backgroundcolor": "#E5ECF6",
            "gridcolor": "white",
            "gridwidth": 2,
            "linecolor": "white",
            "showbackground": true,
            "ticks": "",
            "zerolinecolor": "white"
           },
           "zaxis": {
            "backgroundcolor": "#E5ECF6",
            "gridcolor": "white",
            "gridwidth": 2,
            "linecolor": "white",
            "showbackground": true,
            "ticks": "",
            "zerolinecolor": "white"
           }
          },
          "shapedefaults": {
           "line": {
            "color": "#2a3f5f"
           }
          },
          "ternary": {
           "aaxis": {
            "gridcolor": "white",
            "linecolor": "white",
            "ticks": ""
           },
           "baxis": {
            "gridcolor": "white",
            "linecolor": "white",
            "ticks": ""
           },
           "bgcolor": "#E5ECF6",
           "caxis": {
            "gridcolor": "white",
            "linecolor": "white",
            "ticks": ""
           }
          },
          "title": {
           "x": 0.05
          },
          "xaxis": {
           "automargin": true,
           "gridcolor": "white",
           "linecolor": "white",
           "ticks": "",
           "title": {
            "standoff": 15
           },
           "zerolinecolor": "white",
           "zerolinewidth": 2
          },
          "yaxis": {
           "automargin": true,
           "gridcolor": "white",
           "linecolor": "white",
           "ticks": "",
           "title": {
            "standoff": 15
           },
           "zerolinecolor": "white",
           "zerolinewidth": 2
          }
         }
        },
        "title": {
         "text": "Monument Labels"
        },
        "xaxis": {
         "title": {
          "text": "Monument Index"
         }
        },
        "yaxis": {
         "title": {
          "text": "Predicted Label"
         }
        }
       }
      }
     },
     "metadata": {},
     "output_type": "display_data"
    }
   ],
   "source": [
    "import os\n",
    "import sys\n",
    "\n",
    "# add the parent directory of main.py to Python path to enable import modules from the wikibase package.\n",
    "notebook_path = os.getcwd()\n",
    "parent_dir = os.path.abspath(os.path.join(notebook_path, '../../'))\n",
    "sys.path.insert(0, parent_dir)\n",
    "\n",
    "import wikibase_injector.data_formatter.data_clic_csv as data_clic_csv\n",
    "import wikibase_injector.data_formatter.data_loire_web as data_loire_web\n",
    "import wikibase_injector.data_formatter.data_culture_api as data_culture_api\n",
    "\n",
    "_, data_test = data_clic_csv.retrieve_data(\"../../../data/monuments_historiques_departement42_2023-02-11.csv\")\n",
    "_, data_api = data_loire_web.retrieve_data()\n",
    "data_test.extend(data_api)\n",
    "\n",
    "data_labels, X_test = predict_labels_decisiontree(data_api)\n",
    "show_monuments_by_label(data_labels, X_test)"
   ]
  },
  {
   "attachments": {},
   "cell_type": "markdown",
   "metadata": {},
   "source": [
    "---\n",
    "\n",
    "This function will be used in our application (data_injector) to predict the monuments category and return data labelised.\n",
    "\n",
    "**Parameter**: <br>\n",
    "- ``data_test`` (list): A list of dictionaries, where each dictionary represents a monument with the following keys:\n",
    "    - '_name_' : a string representing the name of the monument\n",
    "    - '_address_' : a string representing the address of the monument\n",
    "    - '_description_' : a string representing the description of the monument\n",
    "    - ect...\n",
    "\n",
    "**Returns**:<br>\n",
    "- ``data_test`` (list): A list of dictionaries, where each dictionary represents a monument with the following keys:\n",
    "    - '_name_' : a string representing the name of the monument\n",
    "    - '_address_' : a string representing the address of the monument\n",
    "    - '_description_' : a string representing the description of the monument\n",
    "    - '_category_' : a string representing the predicted category of the monument\n",
    "    - ect...\n",
    "\n",
    "refer to  `data_formater` module to see the structure of the ``data_test``"
   ]
  },
  {
   "cell_type": "code",
   "execution_count": 27,
   "metadata": {},
   "outputs": [],
   "source": [
    "def predict_monuments_category(data_test):\n",
    "\n",
    "    data_labels, X_test = predict_labels_decisiontree(data_test)\n",
    "    show_monuments_by_label(data_labels, X_test)\n",
    "    \n",
    "    monuments = vectorizer.inverse_transform(X_test)\n",
    "    names = [', '.join(m) for m in monuments]\n",
    "\n",
    "    # Create a data frame with the monument names, their predicted labels, and their index in the test set\n",
    "    df = pd.DataFrame({'Monument': names, 'Label': data_labels, 'Index': list(range(X_test.shape[0]))})\n",
    "    \n",
    "    # Create a dictionary to map each index in the test set to its predicted label\n",
    "    index_to_label = dict(zip(df['Index'], df['Label']))\n",
    "\n",
    "    # Add the predicted labels to data_test\n",
    "    for i, monument in enumerate(data_test):\n",
    "        monument_label = index_to_label[i]\n",
    "        monument['category'] = LABELS_NAMES[monument_label]\n",
    "    \n",
    "    return data_test"
   ]
  }
 ],
 "metadata": {
  "kernelspec": {
   "display_name": "Python 3",
   "language": "python",
   "name": "python3"
  },
  "language_info": {
   "codemirror_mode": {
    "name": "ipython",
    "version": 3
   },
   "file_extension": ".py",
   "mimetype": "text/x-python",
   "name": "python",
   "nbconvert_exporter": "python",
   "pygments_lexer": "ipython3",
   "version": "3.10.10 (tags/v3.10.10:aad5f6a, Feb  7 2023, 17:20:36) [MSC v.1929 64 bit (AMD64)]"
  },
  "orig_nbformat": 4,
  "vscode": {
   "interpreter": {
    "hash": "e743294b9eb9579c1dbfa440bf1529440bbf17bdd5f490c626f9a31cee6b9bc4"
   }
  }
 },
 "nbformat": 4,
 "nbformat_minor": 2
}
