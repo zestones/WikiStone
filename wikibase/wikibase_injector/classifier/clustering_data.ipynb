{
 "cells": [
  {
   "cell_type": "code",
   "execution_count": 1,
   "metadata": {},
   "outputs": [],
   "source": [
    "import re\n",
    "import os\n",
    "import sys\n",
    "import json\n",
    "\n",
    "# add the parent directory of main.py to Python path to enable import modules from the wikibase package.\n",
    "notebook_path = os.getcwd()\n",
    "parent_dir = os.path.abspath(os.path.join(notebook_path, '..'))\n",
    "sys.path.insert(0, parent_dir)\n",
    "\n",
    "import wikibase_injector.data_formatter.data_culture_api as data_culture_api\n",
    "import wikibase_injector.data_formatter.data_loire_web as data_loire_web\n",
    "import wikibase_injector.data_formatter.data_clic_csv as data_clic_csv"
   ]
  },
  {
   "cell_type": "code",
   "execution_count": 2,
   "metadata": {},
   "outputs": [],
   "source": [
    "from sklearn.feature_extraction.text import TfidfVectorizer\n",
    "from sklearn.metrics.pairwise import euclidean_distances\n",
    "from nltk.stem import WordNetLemmatizer, PorterStemmer\n",
    "from scipy.cluster.hierarchy import linkage, fcluster\n",
    "from sklearn.cluster import AgglomerativeClustering\n",
    "from yellowbrick.cluster import KElbowVisualizer\n",
    "from nltk.stem import WordNetLemmatizer\n",
    "from sklearn.cluster import DBSCAN, KMeans\n",
    "from nltk.corpus import stopwords\n",
    "from gensim.models import Word2Vec\n",
    "import pandas as pd\n",
    "import numpy as np\n",
    "import unidecode\n",
    "import nltk"
   ]
  },
  {
   "cell_type": "code",
   "execution_count": 3,
   "metadata": {},
   "outputs": [],
   "source": [
    "import plotly.graph_objects as go\n",
    "import matplotlib.pyplot as plt"
   ]
  },
  {
   "cell_type": "code",
   "execution_count": null,
   "metadata": {},
   "outputs": [],
   "source": [
    "nltk.download('stopwords')\n",
    "nltk.download('wordnet')\n",
    "nltk.download('punkt')"
   ]
  },
  {
   "attachments": {},
   "cell_type": "markdown",
   "metadata": {},
   "source": [
    "## Export all data into JSON"
   ]
  },
  {
   "cell_type": "code",
   "execution_count": null,
   "metadata": {},
   "outputs": [],
   "source": [
    "#  # L'API ne contient que des musées\n",
    "# _, data_api = data_culture_api.retrieve_data()\n",
    "_, data_csv = data_clic_csv.retrieve_data()\n",
    "# _, data_web = data_loire_web.retrieve_data()\n",
    "# data_web.extend(data_csv)\n",
    "\n",
    "# Écriture des données dans un nouveau fichier JSON avec les labels de cluster ajoutés\n",
    "with open('dataset.json', 'w') as f:\n",
    "    json.dump(data_csv, f, indent=2)"
   ]
  },
  {
   "attachments": {},
   "cell_type": "markdown",
   "metadata": {},
   "source": [
    "## Clustering"
   ]
  },
  {
   "attachments": {},
   "cell_type": "markdown",
   "metadata": {},
   "source": [
    "#### Etape de Pre-processing des données"
   ]
  },
  {
   "cell_type": "code",
   "execution_count": 12,
   "metadata": {},
   "outputs": [],
   "source": [
    "# Initialisation des outils de prétraitement\n",
    "stop_words = set(stopwords.words('french'))\n",
    "lemmatizer = WordNetLemmatizer()\n",
    "stemmer = PorterStemmer()\n",
    "\n",
    "# Liste des mots clés\n",
    "keywords = ['eglise', 'musee', 'maison', 'immeuble', 'Chapelle', 'château']\n",
    "\n",
    "# Fonction de prétraitement des données\n",
    "def preprocess(text, label=False):\n",
    "    text = unidecode.unidecode(text) # Suppression des accents\n",
    "    text = re.sub(r'[^\\w\\s]', '', text) # Suppression des caractères spéciaux\n",
    "    text = text.lower() # Conversion en minuscules\n",
    "\n",
    "    tokens = nltk.word_tokenize(text) # Tokenisation\n",
    "    lemmatized_tokens = [lemmatizer.lemmatize(token) for token in tokens] # Lemmatisation\n",
    "    stemmed_tokens = [stemmer.stem(token) for token in lemmatized_tokens] # Stemming\n",
    "    stop_tokens = [token for token in stemmed_tokens if token not in stop_words] # Suppression des mots vides\n",
    "\n",
    "    if not label:\n",
    "        # Retourner les mots clés si présents, sinon retourner stop_tokens\n",
    "        cleaned_tokens = [token for token in stop_tokens if token in keywords] or stop_tokens\n",
    "    else:\n",
    "        cleaned_tokens = stop_tokens\n",
    "    \n",
    "    text = ' '.join(cleaned_tokens) # Réassemblage du texte pré-traité\n",
    "    return text\n",
    "\n",
    "keywords = [preprocess(keyword, label=True) for keyword in keywords]"
   ]
  },
  {
   "cell_type": "code",
   "execution_count": 13,
   "metadata": {},
   "outputs": [],
   "source": [
    "# Chargement des données à partir du fichier JSON\n",
    "with open('dataset.json', 'r') as f:\n",
    "    data = json.load(f)\n",
    "\n",
    "# Extraction de la colonne \"name\" \n",
    "names = [d['name'] for d in data]\n",
    "\n",
    "# Application de la fonction preprocess sur les noms et descriptions de monuments\n",
    "clean_names = [preprocess(name) for name in names]"
   ]
  },
  {
   "attachments": {},
   "cell_type": "markdown",
   "metadata": {},
   "source": [
    "#### Création de la matrice TF-IDF à partir des noms de monuments prétraités"
   ]
  },
  {
   "cell_type": "code",
   "execution_count": 14,
   "metadata": {},
   "outputs": [],
   "source": [
    "# Création de la matrice TF-IDF\n",
    "vectorizer = TfidfVectorizer()\n",
    "tfidf_matrix = vectorizer.fit_transform(clean_names)\n",
    "tfidf_matrix = tfidf_matrix.toarray()"
   ]
  },
  {
   "attachments": {},
   "cell_type": "markdown",
   "metadata": {},
   "source": [
    "#### Création de la matrice de représentation sémantique à partir de données prétraitées avec Word2Vec"
   ]
  },
  {
   "cell_type": "code",
   "execution_count": null,
   "metadata": {},
   "outputs": [],
   "source": [
    "vector_size = len(data)\n",
    "processed_data = clean_names\n",
    "\n",
    "# Entraînement du modèle Word2Vec sur les données prétraitées\n",
    "model = Word2Vec(processed_data, vector_size=vector_size, window=5, min_count=1, workers=4)\n",
    "\n",
    "# Création de la matrice de représentation sémantique\n",
    "representation_matrix = np.zeros((len(processed_data), vector_size))\n",
    "for i, sentence in enumerate(processed_data):\n",
    "    for word in sentence:\n",
    "        representation_matrix[i] += model.wv[word]\n",
    "    representation_matrix[i] /= len(sentence)\n",
    "\n",
    "# Matrice de représentation sémantique\n",
    "tfidf_matrix = model.wv.vectors.transpose()"
   ]
  },
  {
   "attachments": {},
   "cell_type": "markdown",
   "metadata": {},
   "source": [
    "### Nombre de Cluster Optimal"
   ]
  },
  {
   "attachments": {},
   "cell_type": "markdown",
   "metadata": {},
   "source": [
    "#### Elbow Method"
   ]
  },
  {
   "attachments": {},
   "cell_type": "markdown",
   "metadata": {},
   "source": [
    "cette méthode consiste à tracer la somme des carrés des distances intra-cluster en fonction du nombre de clusters. Le nombre optimal de clusters est situé à l'endroit où la courbe commence à s'aplatir, formant un \"coude\"."
   ]
  },
  {
   "cell_type": "code",
   "execution_count": 15,
   "metadata": {},
   "outputs": [
    {
     "data": {
      "image/png": "[encoded data removed]",
      "text/plain": [
       "<Figure size 800x550 with 2 Axes>"
      ]
     },
     "metadata": {},
     "output_type": "display_data"
    },
    {
     "data": {
      "text/plain": [
       "<AxesSubplot: title={'center': 'Distortion Score Elbow for KMeans Clustering'}, xlabel='k', ylabel='distortion score'>"
      ]
     },
     "execution_count": 15,
     "metadata": {},
     "output_type": "execute_result"
    }
   ],
   "source": [
    "model = KMeans(random_state=42, n_init=10)\n",
    "visualizer = KElbowVisualizer(model, k=(1, 15))\n",
    "\n",
    "# Fit the visualizer to the TF-IDF matrix and plot the elbow curve\n",
    "visualizer.fit(tfidf_matrix)\n",
    "visualizer.show()"
   ]
  },
  {
   "attachments": {},
   "cell_type": "markdown",
   "metadata": {},
   "source": [
    "#### Silhouette Method"
   ]
  },
  {
   "attachments": {},
   "cell_type": "markdown",
   "metadata": {},
   "source": [
    "cette méthode mesure à la fois la cohérence des clusters et leur séparation. Elle calcule le score de silhouette moyen pour chaque nombre de clusters et le maximum de ces scores indique le nombre optimal de clusters."
   ]
  },
  {
   "cell_type": "code",
   "execution_count": null,
   "metadata": {},
   "outputs": [],
   "source": [
    "from sklearn.cluster import KMeans\n",
    "from sklearn.metrics import silhouette_score\n",
    "import matplotlib.pyplot as plt\n",
    "\n",
    "silhouette_scores = []\n",
    "rng = range(2, 16)\n",
    "for k in rng:\n",
    "    kmeans = KMeans(n_clusters=k, random_state=42, n_init=10)\n",
    "    labels = kmeans.fit_predict(tfidf_matrix)\n",
    "    score = silhouette_score(tfidf_matrix, labels)\n",
    "    silhouette_scores.append(score)\n",
    "\n",
    "plt.plot(rng, silhouette_scores)\n",
    "plt.xlabel('Nombre de clusters')\n",
    "plt.ylabel('Score de silhouette moyen')\n",
    "plt.title('Méthode de la silhouette')\n",
    "plt.show()"
   ]
  },
  {
   "attachments": {},
   "cell_type": "markdown",
   "metadata": {},
   "source": [
    "## Clustering"
   ]
  },
  {
   "cell_type": "code",
   "execution_count": 16,
   "metadata": {},
   "outputs": [],
   "source": [
    "n_clusters = 6 # Nombre de clusters choisi arbitrairement"
   ]
  },
  {
   "attachments": {},
   "cell_type": "markdown",
   "metadata": {},
   "source": [
    "### Approche avec AgglomerativeClustering"
   ]
  },
  {
   "cell_type": "code",
   "execution_count": null,
   "metadata": {},
   "outputs": [],
   "source": [
    "# Clustering hiérarchique\n",
    "clustering = AgglomerativeClustering(n_clusters=n_clusters, linkage='ward', metric='euclidean').fit(tfidf_matrix)\n",
    "\n",
    "# Trouver les hauteurs de fusion de la hiérarchie de clustering\n",
    "Z = linkage(tfidf_matrix, method='ward')\n",
    "\n",
    "# Trouver les indices des échantillons dans chaque cluster\n",
    "labels = fcluster(Z, n_clusters, criterion='maxclust')\n",
    "\n",
    "# Trouver les centres de cluster\n",
    "cluster_centers = []\n",
    "for i in range(1, n_clusters+1):\n",
    "    idx = np.where(labels == i)[0]\n",
    "    center = np.mean(tfidf_matrix[idx], axis=0)\n",
    "    cluster_centers.append(center)\n",
    "\n",
    "cluster_centers = np.vstack(cluster_centers)\n",
    "\n",
    "# Calcul des distances entre les centres de cluster et les points dans tfidf_matrix\n",
    "distances = euclidean_distances(tfidf_matrix, cluster_centers)\n",
    "\n",
    "# Récupération de l'indice de l'élément le plus proche\n",
    "cluster_labels = distances.argmin(axis=1)\n",
    "\n",
    "# Ajout d'une nouvelle colonne pour stocker les labels de cluster associés aux noms de monument\n",
    "for i in range(len(data)):\n",
    "    data[i]['label'] = int(cluster_labels[i])\n",
    "\n",
    "# Écriture des données dans un nouveau fichier JSON avec les labels de cluster et les coordonnées des centres de cluster ajoutés\n",
    "with open('./donnees_clusterisees.json', 'w') as f:\n",
    "    json.dump(data, f, indent=2)"
   ]
  },
  {
   "attachments": {},
   "cell_type": "markdown",
   "metadata": {},
   "source": [
    "### Approche avec K-Means"
   ]
  },
  {
   "cell_type": "code",
   "execution_count": 17,
   "metadata": {},
   "outputs": [],
   "source": [
    "# K-Means Clustering\n",
    "\n",
    "# Spécification du nombre maximum d'itérations\n",
    "max_iter = 500\n",
    "\n",
    "# Initialisation du K-Means\n",
    "kmeans = KMeans(n_clusters=n_clusters, max_iter=max_iter, random_state=42, n_init=10).fit(tfidf_matrix)\n",
    "\n",
    "# Récupération des labels de cluster pour chaque échantillon\n",
    "cluster_labels = kmeans.labels_\n",
    "\n",
    "# Récupération des centres de cluster\n",
    "cluster_centers = kmeans.cluster_centers_\n",
    "\n",
    "# Ajout d'une nouvelle colonne pour stocker les labels de cluster associés aux noms de monument\n",
    "for i in range(len(data)):\n",
    "    data[i]['label'] = int(cluster_labels[i])\n",
    "\n",
    "# Écriture des données dans un nouveau fichier JSON avec les labels de cluster et les coordonnées des centres de cluster ajoutés\n",
    "with open('./donnees_clusterisees.json', 'w') as f:\n",
    "    json.dump(data, f, indent=2)"
   ]
  },
  {
   "attachments": {},
   "cell_type": "markdown",
   "metadata": {},
   "source": [
    "### Approche avec DBSCAN"
   ]
  },
  {
   "cell_type": "code",
   "execution_count": null,
   "metadata": {},
   "outputs": [],
   "source": [
    "# DBSCAN Clustering\n",
    "\n",
    "eps = 0.8 # Distance maximale entre les échantillons pour être considérés comme appartenant au même cluster\n",
    "min_samples = 4 # Nombre minimum d'échantillons pour former un cluster\n",
    "\n",
    "dbscan = DBSCAN(eps=eps, min_samples=min_samples)\n",
    "cluster_labels = dbscan.fit_predict(tfidf_matrix)\n",
    "\n",
    "# Ajout d'une nouvelle colonne pour stocker les labels de cluster associés aux noms de monument\n",
    "for i in range(len(data)):\n",
    "    data[i]['label'] = int(cluster_labels[i])\n",
    "\n",
    "# Écriture des données dans un nouveau fichier JSON avec les labels de cluster ajoutés\n",
    "with open('./donnees_clusterisees.json', 'w') as f:\n",
    "    json.dump(data, f, indent=2)"
   ]
  },
  {
   "attachments": {},
   "cell_type": "markdown",
   "metadata": {},
   "source": [
    "## PLOT Monument / Label"
   ]
  },
  {
   "attachments": {},
   "cell_type": "markdown",
   "metadata": {},
   "source": [
    "### Nombre de monument par cluster"
   ]
  },
  {
   "cell_type": "code",
   "execution_count": null,
   "metadata": {},
   "outputs": [],
   "source": [
    "# Compter le nombre de monuments dans chaque cluster\n",
    "labels = [d['label'] for d in data]\n",
    "counts = pd.Series(labels).value_counts()\n",
    "\n",
    "# Tracer un graphique en barres\n",
    "fig, ax = plt.subplots(figsize=(10, 8))\n",
    "counts.plot(kind='bar', ax=ax)\n",
    "\n",
    "# Configuration des axes et du titre\n",
    "ax.set_xlabel('Cluster Label', fontsize=12)\n",
    "ax.set_ylabel('Number of Monuments', fontsize=12)\n",
    "ax.set_title('Monument Clustering', fontsize=14)\n",
    "\n",
    "# Affichage du plot\n",
    "plt.show()"
   ]
  },
  {
   "attachments": {},
   "cell_type": "markdown",
   "metadata": {},
   "source": [
    "### Représentation des monuments/Cluster "
   ]
  },
  {
   "cell_type": "code",
   "execution_count": 18,
   "metadata": {},
   "outputs": [
    {
     "data": {
      "application/vnd.plotly.v1+json": {
       "config": {
        "plotlyServerURL": "https://plot.ly"
       },
       "data": [
        {
         "hovertemplate": "<b>%{text}</b>",
         "marker": {
          "color": [
           0,
           4,
           0,
           3,
           1,
           2,
           0,
           0,
           5,
           3,
           3,
           2,
           0,
           0,
           3,
           1,
           3,
           1,
           1,
           0,
           0,
           0,
           3,
           1,
           1,
           0,
           0,
           1,
           2,
           2,
           2,
           1,
           0,
           2,
           2,
           0,
           2,
           0,
           0,
           3,
           2,
           2,
           0,
           5,
           1,
           4,
           3,
           0,
           1,
           3,
           3,
           1,
           0,
           1,
           4,
           4,
           4,
           3,
           0,
           2,
           0,
           2,
           1,
           4,
           0,
           1,
           3,
           5,
           1,
           4,
           1,
           0,
           3,
           0,
           0,
           3,
           3,
           1,
           2,
           0,
           0,
           0,
           1,
           1,
           1,
           4,
           0,
           5,
           4,
           3,
           4,
           0,
           3,
           3,
           1,
           0,
           3,
           1,
           3,
           1,
           4,
           3,
           0,
           0,
           1,
           3,
           4,
           3,
           4,
           3,
           0,
           0,
           5,
           0,
           0,
           0,
           0,
           0,
           0,
           0,
           2,
           5,
           0,
           3,
           2,
           2,
           0,
           4,
           0,
           1,
           3,
           5,
           4,
           1,
           0,
           2,
           2,
           2,
           3,
           2,
           3,
           5,
           3,
           3,
           0,
           0,
           0,
           0,
           4,
           0,
           3,
           1,
           0,
           3,
           1,
           0,
           1,
           1,
           1,
           3,
           3,
           1,
           0,
           1,
           0,
           0,
           0,
           3,
           2,
           0,
           0,
           0,
           2,
           5,
           1,
           0,
           0,
           0,
           3,
           4,
           4,
           1,
           3,
           3,
           1,
           3,
           4,
           3,
           3,
           1,
           3,
           2,
           2,
           2,
           0,
           0,
           3,
           2,
           0,
           2,
           3,
           0,
           1,
           0,
           3,
           0,
           0,
           5,
           2,
           0,
           3,
           1,
           0,
           0,
           0,
           0,
           0,
           1,
           0,
           0,
           0,
           3,
           0,
           0,
           0,
           0,
           2,
           0,
           0,
           3,
           3,
           0,
           3,
           0,
           0,
           3,
           5,
           0,
           0,
           0,
           2,
           0,
           0,
           0,
           0,
           0,
           0,
           0,
           0,
           0,
           4,
           1,
           0,
           3,
           2,
           1,
           3,
           5,
           2,
           0,
           0,
           0,
           4,
           5,
           4,
           0,
           5,
           0,
           2,
           2,
           0,
           3,
           0,
           3,
           4,
           1,
           3,
           1,
           0,
           3,
           1,
           1,
           3,
           4,
           0,
           5,
           1,
           3,
           4,
           1,
           0,
           5,
           2,
           3,
           0,
           1,
           0,
           3,
           0,
           4,
           3,
           0,
           1,
           3,
           1,
           1,
           1,
           1,
           0,
           3,
           5,
           0,
           1,
           1,
           0,
           3,
           1,
           0,
           1,
           0,
           3,
           5,
           0,
           3,
           1,
           0,
           0,
           1,
           3,
           0,
           4,
           3,
           4,
           5,
           3,
           1,
           0,
           3,
           3,
           0,
           1,
           3,
           5,
           0,
           0,
           1
          ],
          "colorscale": [
           [
            0,
            "#440154"
           ],
           [
            0.1111111111111111,
            "#482878"
           ],
           [
            0.2222222222222222,
            "#3e4989"
           ],
           [
            0.3333333333333333,
            "#31688e"
           ],
           [
            0.4444444444444444,
            "#26828e"
           ],
           [
            0.5555555555555556,
            "#1f9e89"
           ],
           [
            0.6666666666666666,
            "#35b779"
           ],
           [
            0.7777777777777778,
            "#6ece58"
           ],
           [
            0.8888888888888888,
            "#b5de2b"
           ],
           [
            1,
            "#fde725"
           ]
          ],
          "line": {
           "width": 0.5
          },
          "size": 10
         },
         "mode": "markers",
         "text": [
          "Ancien prieuré Saint-Martin d'Ambierle",
          "Croix",
          "Domaine de Beauvoir",
          "Eglise Saint-Jean",
          "Château",
          "Maison dite de Javogues",
          "Abbaye (ancienne)",
          "Château-Chabert",
          "Chapelle Notre-Dame",
          "Eglise",
          "Eglise",
          "Maison dite L'Auditorium",
          "Aqueduc romain du Gier",
          "Pont sur la Durèze (vieux)",
          "Eglise Saint-Didier",
          "Château de Chalain",
          "Église Saint-Jean-Baptiste",
          "Château des Talaru",
          "Château de Vassalière",
          "Prieuré du Châtelet (ancien)",
          "Tour",
          "Collège des Oratoriens de Notre-Dame-des-Grâces (ancien)",
          "Eglise abbatiale de Jourcey (ancienne)",
          "Château de Feugerolles",
          "Château de Vaugirard",
          "Enceinte (ancienne)",
          "Prieuré (ancien)",
          "Château de Villars",
          "Maison dite Hôtel d'Armagnac",
          "Maison",
          "Maison",
          "Château de Gatellier",
          "Couvent des Cordeliers (ancien) (également sur commune de Saint-Nizier-sous-Charlieu)",
          "Maison",
          "Maison",
          "Pont de pierre sur le Sornin (vieux)",
          "Maison",
          "Hôtel-Dieu (ancien)",
          "Abbaye de Charlieu",
          "Eglise Saint-Philibert",
          "Maison dite des Anglais",
          "Maison à pans de bois",
          "Anciennes usines Marrel",
          "Eglise (ancienne) , dite aussi chapelle de Fraisse",
          "Château de Chatellus",
          "Croix",
          "Eglise",
          "Ancienne usine Fléchet",
          "Château",
          "Eglise",
          "Eglise",
          "Château",
          "Borne frontière des justices de Cleppé et de Poncins (également sur commune de Poncins)",
          "Château des Comtes de Forez (restes de l'ancien)",
          "Croix",
          "Croix",
          "Croix",
          "Eglise",
          "Donjon (restes)",
          "Maison dite de Jean Papou",
          "Rempart",
          "Maison à pans de bois",
          "Château",
          "Croix",
          "Tour de Doizieux",
          "Château de Quérezieux",
          "Eglise",
          "Chapelle Saint-Etienne",
          "Château de Marandière",
          "Croix",
          "Château de Vivert",
          "Forum gallo-romain (vestiges)",
          "Eglise paroissiale Notre-Dame",
          "Murs romains et fortifications",
          "Domaine de Bigny",
          "Eglise Saint-Pierre (ancienne)",
          "Eglise Saint-Pierre de Firminy",
          "Château des Bruneaux",
          "Maison de la Culture Le Corbusier",
          "Unité d'habitation construite par Le Corbusier",
          "Stade Le Corbusier",
          "Piscine municipale",
          "Château de l'Aubépin",
          "Château de Sarron",
          "Château Dorian",
          "Croix",
          "Pont de Chavillon",
          "Chapelle Sainte-Barbe",
          "Croix",
          "Eglise Notre-Dame",
          "Croix de Saint-Just",
          "Ferme, au hameau de Terge",
          "Eglise",
          "Eglise",
          "Château",
          "Dolmen de Roche-Cubertelle",
          "Eglise",
          "Château",
          "Eglise paroissiale Saint-Cyr",
          "Château de Goutelas",
          "Croix en pierre",
          "Eglise à l'exception de l'étage moderne qui couronne le clocher occidental",
          "Immeuble Coste",
          "Porte",
          "Château de Leignecq (ancien)",
          "Eglise",
          "Croix de l'ancien cimetière",
          "Eglise de Leignecq",
          "Croix",
          "Eglise",
          "Enceinte fortifiée",
          "Salle La Diana ou Salle des Etats de Forez",
          "Chapelle Sainte-Eugénie, à Moingt",
          "Hôtel de Vazelhes",
          "Théâtre mixte gallo-romain",
          "Enceinte",
          "Couvent des Oratoriens (ancien)",
          "Caserne de Vaux",
          "Commanderie de Saint-Jean-des-Prés",
          "Hôtel Girard de Vaugirard",
          "Maison",
          "Chapelle des Pénitents du Confalon",
          "Couvent de la Visitation (ancien)",
          "Eglise Notre-Dame",
          "Maison du 16e siècle dite maison des Lions",
          "Maison du 16e siècle avec porte datée de 1587",
          "Monument aux morts",
          "Croix",
          "Immeuble",
          "Château (restes)",
          "Eglise, ancien prieuré et remparts",
          "Chapelle du cimetière",
          "Croix",
          "Château de la Salle",
          "Quatre bornes de justice",
          "Maison",
          "Maison Notre-Dame",
          "Relais des Postes Royales (maison dite Le Petit Louvre)",
          "Eglise Saint-Pierre",
          "Maison dite la Prévôté (ancienne maison du prévôt)",
          "Eglise",
          "Chapelle Saint-Vérand",
          "Eglise",
          "Eglise Saint-Julien (ancienne)",
          "Enceinte (ancienne)",
          "Pont sur l'Aix",
          "Prieuré (ancien)",
          "Borne frontière des Justices de Cleppé et de Poncins (également sur commune de Cleppé)",
          "Croix dite La Croix Noire",
          "Prieuré",
          "Eglise",
          "Château de Pravieux (ancien)",
          "Enceinte",
          "Eglise",
          "Château de Boisy, dit Château de Jacques Coeur",
          "Pont au Diable",
          "Château de Montrenard",
          "Château de Vougy",
          "Château de Curaize",
          "Eglise",
          "Ancienne église prieurale",
          "Château de la Bernarde et ses dépendances",
          "Puits des Combes",
          "Château de Neubourg",
          "Halle et tour de trempe de l'ancienne usine des Frères Marrel",
          "Puits du Pré du Gourd-Marin",
          "Ancien canal de Givors",
          "Eglise Notre-Dame",
          "Maison Marrel ou château du Mouillon",
          "Ancien tunnel de Couzon",
          "Puits Combélibert",
          "Lycée",
          "Maison à pans de bois",
          "Chapelle Saint-Nicolas-du-Port",
          "Château",
          "Ancien hôtel particulier Goyet de Livron, sous-préfecture de Roanne",
          "Musée Joseph Dechelette",
          "Immeuble",
          "Eglise",
          "Croix",
          "Croix",
          "Château",
          "Eglise",
          "Eglise",
          "Château de Couzan (restes)",
          "Eglise",
          "Croix",
          "Eglise abbatiale de Bonlieu (ancienne)",
          "Eglise",
          "Château",
          "Eglise",
          "Maisons du 16e siècle",
          "Maison",
          "Maison",
          "Couvent des Ursulines (ancien)",
          "Tourelle d'escalier",
          "Eglise Saint-Bonnet",
          "Maison",
          "Fontaine",
          "Maison du 16e siècle",
          "Eglise",
          "Croix située au Nord de l'église",
          "Château",
          "Hôtel-Dieu (ancien)",
          "Eglise Saint-Pierre",
          "Ancienne usine Gillet",
          "Hôtel Dugas de la Boissony",
          "Chapelle des Minimes (ancienne)",
          "maison des Chanoines",
          "Ancienne chartreuse",
          "Eglise",
          "Château de Gatellier (également sur commune de Charlieu)",
          "Immeuble dénommé \" Les Nouvelles Galeries \"",
          "Immeuble Le Grand Cercle",
          "Immeuble",
          "Immeuble dénommé \" Hôtel des Ingénieurs \",",
          "Immeuble",
          "Château de Rochetaillée (restes)",
          "Ancienne condition des Soies",
          "Immeuble dit Palais Mimard",
          "Ancienne école de dessin ou ancienne école des Beaux-Arts de la ville de Saint-Etienne",
          "Eglise Sainte-Marie",
          "Immeuble",
          "Hôtel de Villeneuve (ancien)",
          "Ancienne chambre de commerce",
          "Immeuble",
          "Maison dite de François Ier",
          "Kiosque à musique de Marengo",
          "Immeuble moderne d'Auguste Bossu",
          "Eglise de Valbenoite",
          "Eglise Saint-François-Régis",
          "Immeuble, dit Chalet de Bizillon",
          "Grand'Eglise ou Eglise Saint-Etienne",
          "Bourse du Travail",
          "Hôpital de la Charité",
          "Eglise",
          "Chapelle de la Charité",
          "Monument aux morts",
          "Immeuble La Loire Républicaine, actuellement siège du journal La Tribune-Le Progrès",
          "Monument Jacquard",
          "Maison",
          "Immeuble",
          "Immeuble",
          "Hôtel Subit-Gouyon",
          "Temple protestant",
          "Ancienne manufacture nationale d'armes de Saint-Etienne",
          "Tombeau Smith, ou Pyramide Smith, situé dans le cimetière du Crêt du Roc (cimetière Saint-Claude)",
          "Centrale Energie de la Manufacture française d'Armes et Cycles dite Manufrance",
          "Hôtel Bernou de Rochetaillée",
          "Site minier dit \" Puits Couriot \"",
          "Croix de cimetière (ancienne)",
          "Château de la Bastie-d'Urfé",
          "Donjon de Lespinasse",
          "Eglise Sainte-Foy",
          "Maison",
          "Château de Teillères ou Manoir de Teillères",
          "Eglise",
          "Chapelle de Madame Cherbouquet-Badoit",
          "Maison dite de la Devise",
          "Immeuble",
          "Ancienne usine de la société Badoit",
          "Aqueduc romain",
          "Croix",
          "Chapelle de la Madeleine (ancienne)",
          "Croix de carrefour de Verrières",
          "Pont sur l'Aix dit de Baffie",
          "Chapelle de pélerinage Notre-Dame de Laval",
          "Commanderie de Verrières (ancienne)",
          "Maison du 15e siècle en bois",
          "maison du cadran solaire",
          "Hôtel Pelletier (ancien)",
          "Eglise",
          "Porte de ville avec ses vantaux",
          "Eglise Saint-Médard",
          "Croix du Marthouret",
          "Château de Malval",
          "Eglise",
          "Château",
          "Manoir de la Mure",
          "Eglise",
          "Château de Villechaize",
          "Château de la Merlée",
          "Eglise",
          "Croix",
          "Fontaine de la Conche",
          "Chapelle Notre-Dame du château",
          "Château de Contenson",
          "Eglise",
          "Croix",
          "Château",
          "Pont du Diable à Vérine",
          "Chapelle Saint-Catherine (ancienne)",
          "Maison",
          "Eglise",
          "Manoir du Colombier, puis magasin d'antiquités",
          "Château de Chateaumorand",
          "Monument aux morts",
          "Eglise",
          "Maison-forte Brassolard",
          "Croix",
          "Eglise",
          "Couvent des Cordeliers (ancien) (également sur commune de Charlieu)",
          "Château de la Pierre",
          "Eglise de Cornillon",
          "Château de Cornillon",
          "Château de la Grange Merlin",
          "Château",
          "Château féodal (ancien)",
          "Pont du premier chemin de fer",
          "Eglise de Saint-Rambert",
          "Chapelle Saint-Jean",
          "Porte dite de Franchise à Saint-Rambert",
          "Château de Grangent (restes)",
          "Château de La Bruyère et ses dépendances",
          "Ancien prieuré",
          "Eglise",
          "Château de Peray",
          "Ancien relais de poste dit relais de la Tête Noire",
          "Château de Saint-Vincent",
          "Prieuré",
          "Eglise",
          "Chapelle de Lavalette",
          "Enceinte fortifiée (restes)",
          "Eglise",
          "Château de Montrouge",
          "Moulin Suc",
          "Domaine des Chaux",
          "Château de Sury-le-Comtal",
          "Eglise",
          "Ancien canal de Givors",
          "Croix de Montorsier",
          "Eglise",
          "Croix",
          "Chapelle de Chambriac",
          "Eglise",
          "Château de Lachal",
          "Aérium Rocheclaine",
          "Eglise",
          "Eglise",
          "Pont du premier chemin de fer (également sur commune de Saint-Priest-en-Jarez)",
          "Muraille de porphyre dite Château Brûlé",
          "Eglise paroissiale de Saint-Priest",
          "Chapelle Saint-Sulpice",
          "Motte castrale",
          "Ferme, au hameau Cherblanc",
          "Château de Vougy (également sur commune de Pouilly-sous-Charlieu)"
         ],
         "type": "scatter",
         "x": [
          0,
          4,
          0,
          3,
          1,
          2,
          0,
          0,
          5,
          3,
          3,
          2,
          0,
          0,
          3,
          1,
          3,
          1,
          1,
          0,
          0,
          0,
          3,
          1,
          1,
          0,
          0,
          1,
          2,
          2,
          2,
          1,
          0,
          2,
          2,
          0,
          2,
          0,
          0,
          3,
          2,
          2,
          0,
          5,
          1,
          4,
          3,
          0,
          1,
          3,
          3,
          1,
          0,
          1,
          4,
          4,
          4,
          3,
          0,
          2,
          0,
          2,
          1,
          4,
          0,
          1,
          3,
          5,
          1,
          4,
          1,
          0,
          3,
          0,
          0,
          3,
          3,
          1,
          2,
          0,
          0,
          0,
          1,
          1,
          1,
          4,
          0,
          5,
          4,
          3,
          4,
          0,
          3,
          3,
          1,
          0,
          3,
          1,
          3,
          1,
          4,
          3,
          0,
          0,
          1,
          3,
          4,
          3,
          4,
          3,
          0,
          0,
          5,
          0,
          0,
          0,
          0,
          0,
          0,
          0,
          2,
          5,
          0,
          3,
          2,
          2,
          0,
          4,
          0,
          1,
          3,
          5,
          4,
          1,
          0,
          2,
          2,
          2,
          3,
          2,
          3,
          5,
          3,
          3,
          0,
          0,
          0,
          0,
          4,
          0,
          3,
          1,
          0,
          3,
          1,
          0,
          1,
          1,
          1,
          3,
          3,
          1,
          0,
          1,
          0,
          0,
          0,
          3,
          2,
          0,
          0,
          0,
          2,
          5,
          1,
          0,
          0,
          0,
          3,
          4,
          4,
          1,
          3,
          3,
          1,
          3,
          4,
          3,
          3,
          1,
          3,
          2,
          2,
          2,
          0,
          0,
          3,
          2,
          0,
          2,
          3,
          0,
          1,
          0,
          3,
          0,
          0,
          5,
          2,
          0,
          3,
          1,
          0,
          0,
          0,
          0,
          0,
          1,
          0,
          0,
          0,
          3,
          0,
          0,
          0,
          0,
          2,
          0,
          0,
          3,
          3,
          0,
          3,
          0,
          0,
          3,
          5,
          0,
          0,
          0,
          2,
          0,
          0,
          0,
          0,
          0,
          0,
          0,
          0,
          0,
          4,
          1,
          0,
          3,
          2,
          1,
          3,
          5,
          2,
          0,
          0,
          0,
          4,
          5,
          4,
          0,
          5,
          0,
          2,
          2,
          0,
          3,
          0,
          3,
          4,
          1,
          3,
          1,
          0,
          3,
          1,
          1,
          3,
          4,
          0,
          5,
          1,
          3,
          4,
          1,
          0,
          5,
          2,
          3,
          0,
          1,
          0,
          3,
          0,
          4,
          3,
          0,
          1,
          3,
          1,
          1,
          1,
          1,
          0,
          3,
          5,
          0,
          1,
          1,
          0,
          3,
          1,
          0,
          1,
          0,
          3,
          5,
          0,
          3,
          1,
          0,
          0,
          1,
          3,
          0,
          4,
          3,
          4,
          5,
          3,
          1,
          0,
          3,
          3,
          0,
          1,
          3,
          5,
          0,
          0,
          1
         ],
         "y": [
          0,
          1,
          2,
          3,
          4,
          5,
          6,
          7,
          8,
          9,
          10,
          11,
          12,
          13,
          14,
          15,
          16,
          17,
          18,
          19,
          20,
          21,
          22,
          23,
          24,
          25,
          26,
          27,
          28,
          29,
          30,
          31,
          32,
          33,
          34,
          35,
          36,
          37,
          38,
          39,
          40,
          41,
          42,
          43,
          44,
          45,
          46,
          47,
          48,
          49,
          50,
          51,
          52,
          53,
          54,
          55,
          56,
          57,
          58,
          59,
          60,
          61,
          62,
          63,
          64,
          65,
          66,
          67,
          68,
          69,
          70,
          71,
          72,
          73,
          74,
          75,
          76,
          77,
          78,
          79,
          80,
          81,
          82,
          83,
          84,
          85,
          86,
          87,
          88,
          89,
          90,
          91,
          92,
          93,
          94,
          95,
          96,
          97,
          98,
          99,
          100,
          101,
          102,
          103,
          104,
          105,
          106,
          107,
          108,
          109,
          110,
          111,
          112,
          113,
          114,
          115,
          116,
          117,
          118,
          119,
          120,
          121,
          122,
          123,
          124,
          125,
          126,
          127,
          128,
          129,
          130,
          131,
          132,
          133,
          134,
          135,
          136,
          137,
          138,
          139,
          140,
          141,
          142,
          143,
          144,
          145,
          146,
          147,
          148,
          149,
          150,
          151,
          152,
          153,
          154,
          155,
          156,
          157,
          158,
          159,
          160,
          161,
          162,
          163,
          164,
          165,
          166,
          167,
          168,
          169,
          170,
          171,
          172,
          173,
          174,
          175,
          176,
          177,
          178,
          179,
          180,
          181,
          182,
          183,
          184,
          185,
          186,
          187,
          188,
          189,
          190,
          191,
          192,
          193,
          194,
          195,
          196,
          197,
          198,
          199,
          200,
          201,
          202,
          203,
          204,
          205,
          206,
          207,
          208,
          209,
          210,
          211,
          212,
          213,
          214,
          215,
          216,
          217,
          218,
          219,
          220,
          221,
          222,
          223,
          224,
          225,
          226,
          227,
          228,
          229,
          230,
          231,
          232,
          233,
          234,
          235,
          236,
          237,
          238,
          239,
          240,
          241,
          242,
          243,
          244,
          245,
          246,
          247,
          248,
          249,
          250,
          251,
          252,
          253,
          254,
          255,
          256,
          257,
          258,
          259,
          260,
          261,
          262,
          263,
          264,
          265,
          266,
          267,
          268,
          269,
          270,
          271,
          272,
          273,
          274,
          275,
          276,
          277,
          278,
          279,
          280,
          281,
          282,
          283,
          284,
          285,
          286,
          287,
          288,
          289,
          290,
          291,
          292,
          293,
          294,
          295,
          296,
          297,
          298,
          299,
          300,
          301,
          302,
          303,
          304,
          305,
          306,
          307,
          308,
          309,
          310,
          311,
          312,
          313,
          314,
          315,
          316,
          317,
          318,
          319,
          320,
          321,
          322,
          323,
          324,
          325,
          326,
          327,
          328,
          329,
          330,
          331,
          332,
          333,
          334,
          335,
          336,
          337,
          338,
          339,
          340,
          341,
          342,
          343,
          344,
          345
         ]
        }
       ],
       "layout": {
        "height": 800,
        "margin": {
         "b": 50,
         "l": 50,
         "r": 50,
         "t": 50
        },
        "template": {
         "data": {
          "bar": [
           {
            "error_x": {
             "color": "#2a3f5f"
            },
            "error_y": {
             "color": "#2a3f5f"
            },
            "marker": {
             "line": {
              "color": "#E5ECF6",
              "width": 0.5
             },
             "pattern": {
              "fillmode": "overlay",
              "size": 10,
              "solidity": 0.2
             }
            },
            "type": "bar"
           }
          ],
          "barpolar": [
           {
            "marker": {
             "line": {
              "color": "#E5ECF6",
              "width": 0.5
             },
             "pattern": {
              "fillmode": "overlay",
              "size": 10,
              "solidity": 0.2
             }
            },
            "type": "barpolar"
           }
          ],
          "carpet": [
           {
            "aaxis": {
             "endlinecolor": "#2a3f5f",
             "gridcolor": "white",
             "linecolor": "white",
             "minorgridcolor": "white",
             "startlinecolor": "#2a3f5f"
            },
            "baxis": {
             "endlinecolor": "#2a3f5f",
             "gridcolor": "white",
             "linecolor": "white",
             "minorgridcolor": "white",
             "startlinecolor": "#2a3f5f"
            },
            "type": "carpet"
           }
          ],
          "choropleth": [
           {
            "colorbar": {
             "outlinewidth": 0,
             "ticks": ""
            },
            "type": "choropleth"
           }
          ],
          "contour": [
           {
            "colorbar": {
             "outlinewidth": 0,
             "ticks": ""
            },
            "colorscale": [
             [
              0,
              "#0d0887"
             ],
             [
              0.1111111111111111,
              "#46039f"
             ],
             [
              0.2222222222222222,
              "#7201a8"
             ],
             [
              0.3333333333333333,
              "#9c179e"
             ],
             [
              0.4444444444444444,
              "#bd3786"
             ],
             [
              0.5555555555555556,
              "#d8576b"
             ],
             [
              0.6666666666666666,
              "#ed7953"
             ],
             [
              0.7777777777777778,
              "#fb9f3a"
             ],
             [
              0.8888888888888888,
              "#fdca26"
             ],
             [
              1,
              "#f0f921"
             ]
            ],
            "type": "contour"
           }
          ],
          "contourcarpet": [
           {
            "colorbar": {
             "outlinewidth": 0,
             "ticks": ""
            },
            "type": "contourcarpet"
           }
          ],
          "heatmap": [
           {
            "colorbar": {
             "outlinewidth": 0,
             "ticks": ""
            },
            "colorscale": [
             [
              0,
              "#0d0887"
             ],
             [
              0.1111111111111111,
              "#46039f"
             ],
             [
              0.2222222222222222,
              "#7201a8"
             ],
             [
              0.3333333333333333,
              "#9c179e"
             ],
             [
              0.4444444444444444,
              "#bd3786"
             ],
             [
              0.5555555555555556,
              "#d8576b"
             ],
             [
              0.6666666666666666,
              "#ed7953"
             ],
             [
              0.7777777777777778,
              "#fb9f3a"
             ],
             [
              0.8888888888888888,
              "#fdca26"
             ],
             [
              1,
              "#f0f921"
             ]
            ],
            "type": "heatmap"
           }
          ],
          "heatmapgl": [
           {
            "colorbar": {
             "outlinewidth": 0,
             "ticks": ""
            },
            "colorscale": [
             [
              0,
              "#0d0887"
             ],
             [
              0.1111111111111111,
              "#46039f"
             ],
             [
              0.2222222222222222,
              "#7201a8"
             ],
             [
              0.3333333333333333,
              "#9c179e"
             ],
             [
              0.4444444444444444,
              "#bd3786"
             ],
             [
              0.5555555555555556,
              "#d8576b"
             ],
             [
              0.6666666666666666,
              "#ed7953"
             ],
             [
              0.7777777777777778,
              "#fb9f3a"
             ],
             [
              0.8888888888888888,
              "#fdca26"
             ],
             [
              1,
              "#f0f921"
             ]
            ],
            "type": "heatmapgl"
           }
          ],
          "histogram": [
           {
            "marker": {
             "pattern": {
              "fillmode": "overlay",
              "size": 10,
              "solidity": 0.2
             }
            },
            "type": "histogram"
           }
          ],
          "histogram2d": [
           {
            "colorbar": {
             "outlinewidth": 0,
             "ticks": ""
            },
            "colorscale": [
             [
              0,
              "#0d0887"
             ],
             [
              0.1111111111111111,
              "#46039f"
             ],
             [
              0.2222222222222222,
              "#7201a8"
             ],
             [
              0.3333333333333333,
              "#9c179e"
             ],
             [
              0.4444444444444444,
              "#bd3786"
             ],
             [
              0.5555555555555556,
              "#d8576b"
             ],
             [
              0.6666666666666666,
              "#ed7953"
             ],
             [
              0.7777777777777778,
              "#fb9f3a"
             ],
             [
              0.8888888888888888,
              "#fdca26"
             ],
             [
              1,
              "#f0f921"
             ]
            ],
            "type": "histogram2d"
           }
          ],
          "histogram2dcontour": [
           {
            "colorbar": {
             "outlinewidth": 0,
             "ticks": ""
            },
            "colorscale": [
             [
              0,
              "#0d0887"
             ],
             [
              0.1111111111111111,
              "#46039f"
             ],
             [
              0.2222222222222222,
              "#7201a8"
             ],
             [
              0.3333333333333333,
              "#9c179e"
             ],
             [
              0.4444444444444444,
              "#bd3786"
             ],
             [
              0.5555555555555556,
              "#d8576b"
             ],
             [
              0.6666666666666666,
              "#ed7953"
             ],
             [
              0.7777777777777778,
              "#fb9f3a"
             ],
             [
              0.8888888888888888,
              "#fdca26"
             ],
             [
              1,
              "#f0f921"
             ]
            ],
            "type": "histogram2dcontour"
           }
          ],
          "mesh3d": [
           {
            "colorbar": {
             "outlinewidth": 0,
             "ticks": ""
            },
            "type": "mesh3d"
           }
          ],
          "parcoords": [
           {
            "line": {
             "colorbar": {
              "outlinewidth": 0,
              "ticks": ""
             }
            },
            "type": "parcoords"
           }
          ],
          "pie": [
           {
            "automargin": true,
            "type": "pie"
           }
          ],
          "scatter": [
           {
            "fillpattern": {
             "fillmode": "overlay",
             "size": 10,
             "solidity": 0.2
            },
            "type": "scatter"
           }
          ],
          "scatter3d": [
           {
            "line": {
             "colorbar": {
              "outlinewidth": 0,
              "ticks": ""
             }
            },
            "marker": {
             "colorbar": {
              "outlinewidth": 0,
              "ticks": ""
             }
            },
            "type": "scatter3d"
           }
          ],
          "scattercarpet": [
           {
            "marker": {
             "colorbar": {
              "outlinewidth": 0,
              "ticks": ""
             }
            },
            "type": "scattercarpet"
           }
          ],
          "scattergeo": [
           {
            "marker": {
             "colorbar": {
              "outlinewidth": 0,
              "ticks": ""
             }
            },
            "type": "scattergeo"
           }
          ],
          "scattergl": [
           {
            "marker": {
             "colorbar": {
              "outlinewidth": 0,
              "ticks": ""
             }
            },
            "type": "scattergl"
           }
          ],
          "scattermapbox": [
           {
            "marker": {
             "colorbar": {
              "outlinewidth": 0,
              "ticks": ""
             }
            },
            "type": "scattermapbox"
           }
          ],
          "scatterpolar": [
           {
            "marker": {
             "colorbar": {
              "outlinewidth": 0,
              "ticks": ""
             }
            },
            "type": "scatterpolar"
           }
          ],
          "scatterpolargl": [
           {
            "marker": {
             "colorbar": {
              "outlinewidth": 0,
              "ticks": ""
             }
            },
            "type": "scatterpolargl"
           }
          ],
          "scatterternary": [
           {
            "marker": {
             "colorbar": {
              "outlinewidth": 0,
              "ticks": ""
             }
            },
            "type": "scatterternary"
           }
          ],
          "surface": [
           {
            "colorbar": {
             "outlinewidth": 0,
             "ticks": ""
            },
            "colorscale": [
             [
              0,
              "#0d0887"
             ],
             [
              0.1111111111111111,
              "#46039f"
             ],
             [
              0.2222222222222222,
              "#7201a8"
             ],
             [
              0.3333333333333333,
              "#9c179e"
             ],
             [
              0.4444444444444444,
              "#bd3786"
             ],
             [
              0.5555555555555556,
              "#d8576b"
             ],
             [
              0.6666666666666666,
              "#ed7953"
             ],
             [
              0.7777777777777778,
              "#fb9f3a"
             ],
             [
              0.8888888888888888,
              "#fdca26"
             ],
             [
              1,
              "#f0f921"
             ]
            ],
            "type": "surface"
           }
          ],
          "table": [
           {
            "cells": {
             "fill": {
              "color": "#EBF0F8"
             },
             "line": {
              "color": "white"
             }
            },
            "header": {
             "fill": {
              "color": "#C8D4E3"
             },
             "line": {
              "color": "white"
             }
            },
            "type": "table"
           }
          ]
         },
         "layout": {
          "annotationdefaults": {
           "arrowcolor": "#2a3f5f",
           "arrowhead": 0,
           "arrowwidth": 1
          },
          "autotypenumbers": "strict",
          "coloraxis": {
           "colorbar": {
            "outlinewidth": 0,
            "ticks": ""
           }
          },
          "colorscale": {
           "diverging": [
            [
             0,
             "#8e0152"
            ],
            [
             0.1,
             "#c51b7d"
            ],
            [
             0.2,
             "#de77ae"
            ],
            [
             0.3,
             "#f1b6da"
            ],
            [
             0.4,
             "#fde0ef"
            ],
            [
             0.5,
             "#f7f7f7"
            ],
            [
             0.6,
             "#e6f5d0"
            ],
            [
             0.7,
             "#b8e186"
            ],
            [
             0.8,
             "#7fbc41"
            ],
            [
             0.9,
             "#4d9221"
            ],
            [
             1,
             "#276419"
            ]
           ],
           "sequential": [
            [
             0,
             "#0d0887"
            ],
            [
             0.1111111111111111,
             "#46039f"
            ],
            [
             0.2222222222222222,
             "#7201a8"
            ],
            [
             0.3333333333333333,
             "#9c179e"
            ],
            [
             0.4444444444444444,
             "#bd3786"
            ],
            [
             0.5555555555555556,
             "#d8576b"
            ],
            [
             0.6666666666666666,
             "#ed7953"
            ],
            [
             0.7777777777777778,
             "#fb9f3a"
            ],
            [
             0.8888888888888888,
             "#fdca26"
            ],
            [
             1,
             "#f0f921"
            ]
           ],
           "sequentialminus": [
            [
             0,
             "#0d0887"
            ],
            [
             0.1111111111111111,
             "#46039f"
            ],
            [
             0.2222222222222222,
             "#7201a8"
            ],
            [
             0.3333333333333333,
             "#9c179e"
            ],
            [
             0.4444444444444444,
             "#bd3786"
            ],
            [
             0.5555555555555556,
             "#d8576b"
            ],
            [
             0.6666666666666666,
             "#ed7953"
            ],
            [
             0.7777777777777778,
             "#fb9f3a"
            ],
            [
             0.8888888888888888,
             "#fdca26"
            ],
            [
             1,
             "#f0f921"
            ]
           ]
          },
          "colorway": [
           "#636efa",
           "#EF553B",
           "#00cc96",
           "#ab63fa",
           "#FFA15A",
           "#19d3f3",
           "#FF6692",
           "#B6E880",
           "#FF97FF",
           "#FECB52"
          ],
          "font": {
           "color": "#2a3f5f"
          },
          "geo": {
           "bgcolor": "white",
           "lakecolor": "white",
           "landcolor": "#E5ECF6",
           "showlakes": true,
           "showland": true,
           "subunitcolor": "white"
          },
          "hoverlabel": {
           "align": "left"
          },
          "hovermode": "closest",
          "mapbox": {
           "style": "light"
          },
          "paper_bgcolor": "white",
          "plot_bgcolor": "#E5ECF6",
          "polar": {
           "angularaxis": {
            "gridcolor": "white",
            "linecolor": "white",
            "ticks": ""
           },
           "bgcolor": "#E5ECF6",
           "radialaxis": {
            "gridcolor": "white",
            "linecolor": "white",
            "ticks": ""
           }
          },
          "scene": {
           "xaxis": {
            "backgroundcolor": "#E5ECF6",
            "gridcolor": "white",
            "gridwidth": 2,
            "linecolor": "white",
            "showbackground": true,
            "ticks": "",
            "zerolinecolor": "white"
           },
           "yaxis": {
            "backgroundcolor": "#E5ECF6",
            "gridcolor": "white",
            "gridwidth": 2,
            "linecolor": "white",
            "showbackground": true,
            "ticks": "",
            "zerolinecolor": "white"
           },
           "zaxis": {
            "backgroundcolor": "#E5ECF6",
            "gridcolor": "white",
            "gridwidth": 2,
            "linecolor": "white",
            "showbackground": true,
            "ticks": "",
            "zerolinecolor": "white"
           }
          },
          "shapedefaults": {
           "line": {
            "color": "#2a3f5f"
           }
          },
          "ternary": {
           "aaxis": {
            "gridcolor": "white",
            "linecolor": "white",
            "ticks": ""
           },
           "baxis": {
            "gridcolor": "white",
            "linecolor": "white",
            "ticks": ""
           },
           "bgcolor": "#E5ECF6",
           "caxis": {
            "gridcolor": "white",
            "linecolor": "white",
            "ticks": ""
           }
          },
          "title": {
           "x": 0.05
          },
          "xaxis": {
           "automargin": true,
           "gridcolor": "white",
           "linecolor": "white",
           "ticks": "",
           "title": {
            "standoff": 15
           },
           "zerolinecolor": "white",
           "zerolinewidth": 2
          },
          "yaxis": {
           "automargin": true,
           "gridcolor": "white",
           "linecolor": "white",
           "ticks": "",
           "title": {
            "standoff": 15
           },
           "zerolinecolor": "white",
           "zerolinewidth": 2
          }
         }
        },
        "title": {
         "text": "Monument Clustering"
        },
        "xaxis": {
         "title": {
          "text": "Cluster Label"
         }
        },
        "yaxis": {
         "title": {
          "text": "Monument"
         }
        }
       }
      }
     },
     "metadata": {},
     "output_type": "display_data"
    }
   ],
   "source": [
    "# Extraction des labels de cluster et des noms de monuments\n",
    "labels = [d['label'] for d in data]\n",
    "names = [d['name'] for d in data]\n",
    "\n",
    "# Création de la figure\n",
    "fig = go.Figure()\n",
    "\n",
    "# Ajout des points sur la figure avec les noms des monuments en survolant les points\n",
    "fig.add_trace(go.Scatter(x=labels, y=list(range(len(data))),\n",
    "                    mode='markers',\n",
    "                    text=names,\n",
    "                    hovertemplate='<b>%{text}</b>',\n",
    "                    marker=dict(\n",
    "                        size=10,\n",
    "                        color=labels,\n",
    "                        colorscale='Viridis',\n",
    "                        line_width=0.5)))\n",
    "\n",
    "# Configuration des marges et des titres de la figure\n",
    "fig.update_layout(title='Monument Clustering',\n",
    "                xaxis_title='Cluster Label',\n",
    "                yaxis_title='Monument',\n",
    "                margin=dict(l=50, r=50, t=50, b=50))\n",
    "\n",
    "fig.update_layout(height=800)\n",
    "# Affichage de la figure\n",
    "fig.show()"
   ]
  }
 ],
 "metadata": {
  "kernelspec": {
   "display_name": "Python 3",
   "language": "python",
   "name": "python3"
  },
  "language_info": {
   "codemirror_mode": {
    "name": "ipython",
    "version": 3
   },
   "file_extension": ".py",
   "mimetype": "text/x-python",
   "name": "python",
   "nbconvert_exporter": "python",
   "pygments_lexer": "ipython3",
   "version": "3.10.10 (tags/v3.10.10:aad5f6a, Feb  7 2023, 17:20:36) [MSC v.1929 64 bit (AMD64)]"
  },
  "orig_nbformat": 4,
  "vscode": {
   "interpreter": {
    "hash": "e743294b9eb9579c1dbfa440bf1529440bbf17bdd5f490c626f9a31cee6b9bc4"
   }
  }
 },
 "nbformat": 4,
 "nbformat_minor": 2
}
